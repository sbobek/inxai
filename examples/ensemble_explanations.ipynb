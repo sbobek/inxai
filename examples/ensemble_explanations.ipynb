{
 "cells": [
  {
   "cell_type": "code",
   "execution_count": 1,
   "metadata": {},
   "outputs": [],
   "source": [
    "import sys\n",
    "sys.path.append('..')"
   ]
  },
  {
   "cell_type": "code",
   "execution_count": 2,
   "metadata": {},
   "outputs": [
    {
     "name": "stderr",
     "output_type": "stream",
     "text": [
      "The sklearn.metrics.scorer module is  deprecated in version 0.22 and will be removed in version 0.24. The corresponding classes / functions should instead be imported from sklearn.metrics. Anything that cannot be imported from sklearn.metrics is now part of the private API.\n",
      "The sklearn.feature_selection.base module is  deprecated in version 0.22 and will be removed in version 0.24. The corresponding classes / functions should instead be imported from sklearn.feature_selection. Anything that cannot be imported from sklearn.feature_selection is now part of the private API.\n"
     ]
    }
   ],
   "source": [
    "from inxai import *\n",
    "from sklearn.datasets import make_classification, make_moons, make_circles\n",
    "import xgboost as xgb\n",
    "from sklearn.model_selection import train_test_split\n",
    "from sklearn.metrics import accuracy_score, roc_curve, auc, confusion_matrix, classification_report\n",
    "from sklearn import preprocessing\n",
    "import sklearn\n",
    "import eli5\n",
    "from eli5.sklearn import PermutationImportance\n",
    "from sklearn.compose import ColumnTransformer\n",
    "\n",
    "import pandas as pd\n",
    "import numpy as np\n",
    "import matplotlib.pyplot as plt\n",
    "import seaborn as sns\n",
    "from sklearn.preprocessing import normalize, MinMaxScaler\n",
    "import shap\n",
    "import lime"
   ]
  },
  {
   "cell_type": "code",
   "execution_count": 3,
   "metadata": {},
   "outputs": [],
   "source": [
    "def minmaxdf(df, scale=[-1,1]):\n",
    "    # Using MinMaxScaler\n",
    "    min_max_scaler = MinMaxScaler(feature_range=scale)    \n",
    "    # Stack everything into a single column to scale by the global min / max\n",
    "    tmp = df.to_numpy().reshape(-1,1)\n",
    "    scaled = min_max_scaler.fit_transform(tmp).reshape(len(df), df.shape[1])\n",
    "    return scaled\n",
    "    "
   ]
  },
  {
   "cell_type": "markdown",
   "metadata": {},
   "source": [
    "# Create synthetic classification dataset"
   ]
  },
  {
   "cell_type": "markdown",
   "metadata": {},
   "source": [
    "# Make moons"
   ]
  },
  {
   "cell_type": "code",
   "execution_count": 4,
   "metadata": {},
   "outputs": [],
   "source": [
    "X,y = sklearn.datasets.make_moons(n_samples=200,  noise=0.08, random_state=0)#factor=0.5\n",
    "#X,y = sklearn.datasets.make_circles(n_samples=200,  noise=0.08,factor=0.5)\n"
   ]
  },
  {
   "cell_type": "code",
   "execution_count": 5,
   "metadata": {},
   "outputs": [],
   "source": [
    "X_train, X_test, y_train, y_test = train_test_split(pd.DataFrame(X), y, test_size=0.33, random_state=42)\n",
    "X_train.columns = ['0','1']\n",
    "X_test.columns = ['0','1']"
   ]
  },
  {
   "cell_type": "code",
   "execution_count": 6,
   "metadata": {},
   "outputs": [
    {
     "data": {
      "text/plain": [
       "<AxesSubplot:xlabel='0', ylabel='1'>"
      ]
     },
     "execution_count": 6,
     "metadata": {},
     "output_type": "execute_result"
    },
    {
     "data": {
      "image/png": "[encoded data removed]",
      "text/plain": [
       "<Figure size 432x288 with 2 Axes>"
      ]
     },
     "metadata": {
      "needs_background": "light"
     },
     "output_type": "display_data"
    }
   ],
   "source": [
    "X_train.plot(kind='scatter',x='0', y='1',style='.', c=y_train, colormap='viridis')"
   ]
  },
  {
   "cell_type": "code",
   "execution_count": 7,
   "metadata": {},
   "outputs": [
    {
     "name": "stdout",
     "output_type": "stream",
     "text": [
      "0.9848484848484849\n",
      "              precision    recall  f1-score   support\n",
      "\n",
      "           0       0.97      1.00      0.99        38\n",
      "           1       1.00      0.96      0.98        28\n",
      "\n",
      "    accuracy                           0.98        66\n",
      "   macro avg       0.99      0.98      0.98        66\n",
      "weighted avg       0.99      0.98      0.98        66\n",
      "\n"
     ]
    }
   ],
   "source": [
    "#xgb_model = xgb.XGBClassifier(use_label_encoder=False, eval_metric='logloss')\n",
    "from sklearn.svm import SVC\n",
    "svc = SVC(kernel='rbf',probability=True)\n",
    "svc.fit(X_train, y_train)\n",
    "svc_preds = svc.predict(X_test)\n",
    "print(accuracy_score(y_test, svc_preds))\n",
    "\n",
    "print(classification_report(y_test, svc_preds))"
   ]
  },
  {
   "cell_type": "code",
   "execution_count": 8,
   "metadata": {},
   "outputs": [
    {
     "name": "stdout",
     "output_type": "stream",
     "text": [
      "[10:16:06] WARNING: ../src/learner.cc:1061: Starting in XGBoost 1.3.0, the default evaluation metric used with the objective 'binary:logistic' was changed from 'error' to 'logloss'. Explicitly set eval_metric if you'd like to restore the old behavior.\n"
     ]
    },
    {
     "name": "stderr",
     "output_type": "stream",
     "text": [
      "The use of label encoder in XGBClassifier is deprecated and will be removed in a future release. To remove this warning, do the following: 1) Pass option use_label_encoder=False when constructing XGBClassifier object; and 2) Encode your labels (y) as integers starting with 0, i.e. 0, 1, 2, ..., [num_class - 1].\n"
     ]
    }
   ],
   "source": [
    "from sklearn.linear_model import LogisticRegression\n",
    "import xgboost as xgb \n",
    "lr = xgb.XGBClassifier()\n",
    "lr.fit(X_train, y_train)\n",
    "lr_preds = lr.predict(X_test)"
   ]
  },
  {
   "cell_type": "code",
   "execution_count": 9,
   "metadata": {},
   "outputs": [
    {
     "name": "stdout",
     "output_type": "stream",
     "text": [
      "0.9696969696969697\n",
      "              precision    recall  f1-score   support\n",
      "\n",
      "           0       0.95      1.00      0.97        38\n",
      "           1       1.00      0.93      0.96        28\n",
      "\n",
      "    accuracy                           0.97        66\n",
      "   macro avg       0.97      0.96      0.97        66\n",
      "weighted avg       0.97      0.97      0.97        66\n",
      "\n"
     ]
    }
   ],
   "source": [
    "print(accuracy_score(y_test, lr_preds))\n",
    "\n",
    "print(classification_report(y_test, lr_preds))"
   ]
  },
  {
   "cell_type": "code",
   "execution_count": 10,
   "metadata": {},
   "outputs": [
    {
     "data": {
      "text/plain": [
       "<AxesSubplot:xlabel='0', ylabel='1'>"
      ]
     },
     "execution_count": 10,
     "metadata": {},
     "output_type": "execute_result"
    },
    {
     "data": {
      "image/png": "[encoded data removed]",
      "text/plain": [
       "<Figure size 432x288 with 2 Axes>"
      ]
     },
     "metadata": {
      "needs_background": "light"
     },
     "output_type": "display_data"
    }
   ],
   "source": [
    "fig, ax = plt.subplots()\n",
    "point = [1.0,-0.25]\n",
    "ax.plot(point[0], point[1], 'og')\n",
    "X_test.plot(kind='scatter',x='0', y='1', c=y_test, colormap='viridis', ax=ax)"
   ]
  },
  {
   "cell_type": "code",
   "execution_count": 11,
   "metadata": {},
   "outputs": [],
   "source": [
    "X_test_appended = X_test.append(pd.DataFrame([point], columns=['0','1']), ignore_index=True)\n",
    "y_test_appended = np.concatenate([y_test,[1]])"
   ]
  },
  {
   "cell_type": "markdown",
   "metadata": {},
   "source": [
    "### Stability"
   ]
  },
  {
   "cell_type": "code",
   "execution_count": 12,
   "metadata": {},
   "outputs": [],
   "source": [
    "gm = GlobalFeatureMetric()"
   ]
  },
  {
   "cell_type": "code",
   "execution_count": 13,
   "metadata": {},
   "outputs": [
    {
     "data": {
      "application/vnd.jupyter.widget-view+json": {
       "model_id": "7bcaf0017bb8415f88575a4f8b02e5e8",
       "version_major": 2,
       "version_minor": 0
      },
      "text/plain": [
       "HBox(children=(HTML(value=''), FloatProgress(value=0.0, max=67.0), HTML(value='')))"
      ]
     },
     "metadata": {},
     "output_type": "display_data"
    },
    {
     "name": "stdout",
     "output_type": "stream",
     "text": [
      "\n"
     ]
    }
   ],
   "source": [
    "shap_res=generate_per_instance_importances(models=svc, X=X_test_appended, y=y_test_appended, framework='kernel_shap')\n",
    "lime_res = generate_per_instance_importances(models=svc, X=X_test_appended, y=y_test_appended, framework='lime')"
   ]
  },
  {
   "cell_type": "code",
   "execution_count": 14,
   "metadata": {},
   "outputs": [],
   "source": [
    "shap_res = minmaxdf(pd.DataFrame(shap_res), scale=[-1,1])\n",
    "lime_res = minmaxdf(pd.DataFrame(lime_res), scale=[-1,1])"
   ]
  },
  {
   "cell_type": "code",
   "execution_count": 15,
   "metadata": {},
   "outputs": [
    {
     "data": {
      "text/plain": [
       "<AxesSubplot:xlabel='variable', ylabel='value'>"
      ]
     },
     "execution_count": 15,
     "metadata": {},
     "output_type": "execute_result"
    },
    {
     "data": {
      "image/png": "[encoded data removed]",
      "text/plain": [
       "<Figure size 432x288 with 1 Axes>"
      ]
     },
     "metadata": {
      "needs_background": "light"
     },
     "output_type": "display_data"
    }
   ],
   "source": [
    "shape_lips = gm.stability(X_test_appended,shap_res ,epsilon=0.3)\n",
    "lime_lips = gm.stability(X_test_appended,lime_res,epsilon=0.3 )\n",
    "\n",
    "lip_df = pd.DataFrame({'lime':lime_lips, 'shap':shape_lips})\n",
    "sns.boxplot(x=\"variable\", y=\"value\", data=pd.melt(lip_df))"
   ]
  },
  {
   "cell_type": "markdown",
   "metadata": {},
   "source": [
    "### Consistency per model"
   ]
  },
  {
   "cell_type": "code",
   "execution_count": 16,
   "metadata": {},
   "outputs": [
    {
     "data": {
      "application/vnd.jupyter.widget-view+json": {
       "model_id": "0a74cd5eabbe4a8daf191923568390a8",
       "version_major": 2,
       "version_minor": 0
      },
      "text/plain": [
       "HBox(children=(HTML(value=''), FloatProgress(value=0.0, max=67.0), HTML(value='')))"
      ]
     },
     "metadata": {},
     "output_type": "display_data"
    },
    {
     "name": "stdout",
     "output_type": "stream",
     "text": [
      "\n"
     ]
    },
    {
     "data": {
      "application/vnd.jupyter.widget-view+json": {
       "model_id": "34568117573a46ed91293871b56cceb1",
       "version_major": 2,
       "version_minor": 0
      },
      "text/plain": [
       "HBox(children=(HTML(value=''), FloatProgress(value=0.0, max=67.0), HTML(value='')))"
      ]
     },
     "metadata": {},
     "output_type": "display_data"
    },
    {
     "name": "stdout",
     "output_type": "stream",
     "text": [
      "\n"
     ]
    }
   ],
   "source": [
    "res_lime_con = generate_per_instance_importances(models=[svc, lr], X=X_test_appended, y=y_test_appended, framework='lime') \n",
    "res_shap_con = generate_per_instance_importances(models=[svc, lr], X=X_test_appended, y=y_test_appended, framework='kernel_shap') "
   ]
  },
  {
   "cell_type": "code",
   "execution_count": 17,
   "metadata": {},
   "outputs": [],
   "source": [
    "res_lime_con = [minmaxdf(pd.DataFrame(rlc), scale=[-1,1]) for rlc in res_lime_con]\n",
    "res_shap_con = [minmaxdf(pd.DataFrame(rsc), scale=[-1,1]) for rsc in res_shap_con]"
   ]
  },
  {
   "cell_type": "code",
   "execution_count": 18,
   "metadata": {},
   "outputs": [
    {
     "data": {
      "text/plain": [
       "<AxesSubplot:xlabel='variable', ylabel='value'>"
      ]
     },
     "execution_count": 18,
     "metadata": {},
     "output_type": "execute_result"
    },
    {
     "data": {
      "image/png": "[encoded data removed]",
      "text/plain": [
       "<Figure size 432x288 with 1 Axes>"
      ]
     },
     "metadata": {
      "needs_background": "light"
     },
     "output_type": "display_data"
    }
   ],
   "source": [
    "lime_cons = gm.consistency(res_lime_con)\n",
    "shap_cons = gm.consistency(res_shap_con)\n",
    "cons_df = pd.DataFrame({'lime':lime_cons, 'shap':shap_cons})\n",
    "sns.boxplot(x=\"variable\", y=\"value\", data=pd.melt(cons_df))"
   ]
  },
  {
   "cell_type": "markdown",
   "metadata": {},
   "source": [
    "### Per XAI consistency"
   ]
  },
  {
   "cell_type": "code",
   "execution_count": 19,
   "metadata": {},
   "outputs": [
    {
     "data": {
      "application/vnd.jupyter.widget-view+json": {
       "model_id": "14b583fc112c4a4da31c6353a05ed568",
       "version_major": 2,
       "version_minor": 0
      },
      "text/plain": [
       "HBox(children=(HTML(value=''), FloatProgress(value=0.0, max=67.0), HTML(value='')))"
      ]
     },
     "metadata": {},
     "output_type": "display_data"
    },
    {
     "name": "stdout",
     "output_type": "stream",
     "text": [
      "\n"
     ]
    }
   ],
   "source": [
    "res_lime_con_xai = generate_per_instance_importances(models=[svc], X=X_test_appended, y=y_test_appended, framework='lime') \n",
    "res_shap_con_xai = generate_per_instance_importances(models=[svc], X=X_test_appended, y=y_test_appended, framework='kernel_shap') "
   ]
  },
  {
   "cell_type": "code",
   "execution_count": 20,
   "metadata": {},
   "outputs": [],
   "source": [
    "res_lime_con_xai = minmaxdf(pd.DataFrame(res_lime_con_xai), scale=[-1,1])\n",
    "res_lime_con_xai = minmaxdf(pd.DataFrame(res_lime_con_xai), scale=[-1,1])"
   ]
  },
  {
   "cell_type": "code",
   "execution_count": 21,
   "metadata": {},
   "outputs": [
    {
     "data": {
      "text/plain": [
       "<AxesSubplot:xlabel='variable', ylabel='value'>"
      ]
     },
     "execution_count": 21,
     "metadata": {},
     "output_type": "execute_result"
    },
    {
     "data": {
      "image/png": "[encoded data removed]",
      "text/plain": [
       "<Figure size 432x288 with 1 Axes>"
      ]
     },
     "metadata": {
      "needs_background": "light"
     },
     "output_type": "display_data"
    }
   ],
   "source": [
    "lime_shap_cons_xai = gm.consistency([res_lime_con_xai,res_shap_con_xai])\n",
    "cons_df_xai = pd.DataFrame({'xai':lime_shap_cons_xai})\n",
    "sns.boxplot(x=\"variable\", y=\"value\", data=pd.melt(cons_df_xai))"
   ]
  },
  {
   "cell_type": "markdown",
   "metadata": {},
   "source": [
    "## Area under the ACCLOSS"
   ]
  },
  {
   "cell_type": "code",
   "execution_count": 22,
   "metadata": {},
   "outputs": [],
   "source": [
    "import shap\n",
    "import lime"
   ]
  },
  {
   "cell_type": "code",
   "execution_count": 23,
   "metadata": {},
   "outputs": [
    {
     "name": "stderr",
     "output_type": "stream",
     "text": [
      "Using 134 background data samples could cause slower run times. Consider using shap.sample(data, K) or shap.kmeans(data, K) to summarize the background as K samples.\n"
     ]
    }
   ],
   "source": [
    "explainer_shap = shap.KernelExplainer(svc.predict_proba, X_train)"
   ]
  },
  {
   "cell_type": "code",
   "execution_count": 24,
   "metadata": {},
   "outputs": [],
   "source": [
    "explainer_lime =lime.lime_tabular.LimeTabularExplainer(X_train,feature_names=list(X_train.columns), \n",
    "                                                       class_names=['0','1'], discretize_continuous=False)"
   ]
  },
  {
   "cell_type": "code",
   "execution_count": 25,
   "metadata": {},
   "outputs": [
    {
     "data": {
      "application/vnd.jupyter.widget-view+json": {
       "model_id": "9bde56b6ac784944a0b22f5b42762038",
       "version_major": 2,
       "version_minor": 0
      },
      "text/plain": [
       "HBox(children=(HTML(value=''), FloatProgress(value=0.0, max=67.0), HTML(value='')))"
      ]
     },
     "metadata": {},
     "output_type": "display_data"
    },
    {
     "name": "stdout",
     "output_type": "stream",
     "text": [
      "\n"
     ]
    }
   ],
   "source": [
    "shap_res_instance = explainer_shap.shap_values(X_test_appended)"
   ]
  },
  {
   "cell_type": "code",
   "execution_count": 26,
   "metadata": {},
   "outputs": [
    {
     "data": {
      "text/plain": [
       "[('1', -0.3447363078591649), ('0', 0.12772032492320562)]"
      ]
     },
     "execution_count": 26,
     "metadata": {},
     "output_type": "execute_result"
    }
   ],
   "source": [
    "explainer_lime.explain_instance(X_test.iloc[0],svc.predict_proba).as_list()"
   ]
  },
  {
   "cell_type": "code",
   "execution_count": 27,
   "metadata": {},
   "outputs": [],
   "source": [
    "def expl(row):\n",
    "    e = explainer_lime.explain_instance(row,svc.predict_proba).as_list()\n",
    "    return [e[0][1],e[1][1]]"
   ]
  },
  {
   "cell_type": "code",
   "execution_count": 28,
   "metadata": {},
   "outputs": [],
   "source": [
    "shap_res_global = pd.DataFrame(shap_res_instance[0]).apply(abs).mean()"
   ]
  },
  {
   "cell_type": "code",
   "execution_count": 29,
   "metadata": {},
   "outputs": [],
   "source": [
    "lime_res_global = X_test.apply(lambda x: expl(x), axis=1, result_type='expand').apply(abs).mean()"
   ]
  },
  {
   "cell_type": "code",
   "execution_count": 30,
   "metadata": {},
   "outputs": [],
   "source": [
    "ct = ColumnTransformer([('_INXAI_normal_noise_perturber', NormalNoisePerturber(scale=2),X_test_appended.columns)])"
   ]
  },
  {
   "cell_type": "code",
   "execution_count": 31,
   "metadata": {},
   "outputs": [],
   "source": [
    "acc_loss_shap = gm.gradual_perturbation(model=svc, X=X_test_appended, y=y_test_appended, column_transformer=ct, importances_orig=shap_res_global, \n",
    "                                        resolution=50,  count_per_step=10, plot=False)"
   ]
  },
  {
   "cell_type": "code",
   "execution_count": 32,
   "metadata": {},
   "outputs": [],
   "source": [
    "acc_loss_lime = gm.gradual_perturbation(model=svc, X=X_test_appended, y=y_test_appended, column_transformer=ct, importances_orig=lime_res_global, \n",
    "                                        resolution=50,  count_per_step=10, plot=False)"
   ]
  },
  {
   "cell_type": "code",
   "execution_count": 33,
   "metadata": {},
   "outputs": [],
   "source": [
    "auc_df = pd.DataFrame({'lime':[auc(np.linspace(0, 1, 50),acc_loss_lime)], 'shap':[auc(np.linspace(0, 1, 50),acc_loss_shap)]})"
   ]
  },
  {
   "cell_type": "code",
   "execution_count": 34,
   "metadata": {},
   "outputs": [
    {
     "data": {
      "text/plain": [
       "<matplotlib.legend.Legend at 0x7fc7101092b0>"
      ]
     },
     "execution_count": 34,
     "metadata": {},
     "output_type": "execute_result"
    },
    {
     "data": {
      "image/png": "[encoded data removed]",
      "text/plain": [
       "<Figure size 432x288 with 1 Axes>"
      ]
     },
     "metadata": {
      "needs_background": "light"
     },
     "output_type": "display_data"
    }
   ],
   "source": [
    "plt.plot(np.linspace(0, 100, 50), acc_loss_shap)\n",
    "plt.plot(np.linspace(0, 100, 50), acc_loss_lime)\n",
    "plt.xlabel('Percentile of perturbation range', fontsize=13)\n",
    "plt.ylabel('Loss of accuracy', fontsize=13)\n",
    "plt.legend(['Shap (AUCx = '+str(auc(np.linspace(0, 1, 50),acc_loss_shap))+')','Lime(AUCx = '+str(auc(np.linspace(0, 1, 50),acc_loss_lime))+')'])"
   ]
  },
  {
   "cell_type": "markdown",
   "metadata": {},
   "source": [
    "## Results"
   ]
  },
  {
   "cell_type": "markdown",
   "metadata": {},
   "source": [
    "### Combined explanation"
   ]
  },
  {
   "cell_type": "code",
   "execution_count": 35,
   "metadata": {},
   "outputs": [],
   "source": [
    "cons_alpha = 0.2\n",
    "lip_alpha=20\n",
    "auc_alpha=0.1"
   ]
  },
  {
   "cell_type": "markdown",
   "metadata": {},
   "source": [
    "### Single instance"
   ]
  },
  {
   "cell_type": "code",
   "execution_count": 36,
   "metadata": {},
   "outputs": [],
   "source": [
    "weights = cons_alpha*cons_df.iloc[33]+lip_alpha*lip_df.iloc[33]+auc_alpha/auc_df"
   ]
  },
  {
   "cell_type": "code",
   "execution_count": 37,
   "metadata": {},
   "outputs": [
    {
     "data": {
      "text/html": [
       "<div>\n",
       "<style scoped>\n",
       "    .dataframe tbody tr th:only-of-type {\n",
       "        vertical-align: middle;\n",
       "    }\n",
       "\n",
       "    .dataframe tbody tr th {\n",
       "        vertical-align: top;\n",
       "    }\n",
       "\n",
       "    .dataframe thead th {\n",
       "        text-align: right;\n",
       "    }\n",
       "</style>\n",
       "<table border=\"1\" class=\"dataframe\">\n",
       "  <thead>\n",
       "    <tr style=\"text-align: right;\">\n",
       "      <th></th>\n",
       "      <th>lime</th>\n",
       "      <th>shap</th>\n",
       "    </tr>\n",
       "  </thead>\n",
       "  <tbody>\n",
       "    <tr>\n",
       "      <th>0</th>\n",
       "      <td>12.281673</td>\n",
       "      <td>17.156181</td>\n",
       "    </tr>\n",
       "  </tbody>\n",
       "</table>\n",
       "</div>"
      ],
      "text/plain": [
       "        lime       shap\n",
       "0  12.281673  17.156181"
      ]
     },
     "execution_count": 37,
     "metadata": {},
     "output_type": "execute_result"
    }
   ],
   "source": [
    "weights"
   ]
  },
  {
   "cell_type": "code",
   "execution_count": 38,
   "metadata": {},
   "outputs": [],
   "source": [
    "explanations_for_instance = np.array([lime_res[-1],shap_res[-1]])"
   ]
  },
  {
   "cell_type": "code",
   "execution_count": 39,
   "metadata": {},
   "outputs": [
    {
     "data": {
      "text/plain": [
       "array([[ 0.1308976 ,  0.90527883],\n",
       "       [-0.54328394,  0.83946889]])"
      ]
     },
     "execution_count": 39,
     "metadata": {},
     "output_type": "execute_result"
    }
   ],
   "source": [
    "explanations_for_instance"
   ]
  },
  {
   "cell_type": "code",
   "execution_count": 40,
   "metadata": {},
   "outputs": [
    {
     "data": {
      "text/html": [
       "<div>\n",
       "<style scoped>\n",
       "    .dataframe tbody tr th:only-of-type {\n",
       "        vertical-align: middle;\n",
       "    }\n",
       "\n",
       "    .dataframe tbody tr th {\n",
       "        vertical-align: top;\n",
       "    }\n",
       "\n",
       "    .dataframe thead th {\n",
       "        text-align: right;\n",
       "    }\n",
       "</style>\n",
       "<table border=\"1\" class=\"dataframe\">\n",
       "  <thead>\n",
       "    <tr style=\"text-align: right;\">\n",
       "      <th></th>\n",
       "      <th>0</th>\n",
       "      <th>1</th>\n",
       "    </tr>\n",
       "  </thead>\n",
       "  <tbody>\n",
       "    <tr>\n",
       "      <th>0</th>\n",
       "      <td>-0.262011</td>\n",
       "      <td>0.866925</td>\n",
       "    </tr>\n",
       "  </tbody>\n",
       "</table>\n",
       "</div>"
      ],
      "text/plain": [
       "          0         1\n",
       "0 -0.262011  0.866925"
      ]
     },
     "execution_count": 40,
     "metadata": {},
     "output_type": "execute_result"
    }
   ],
   "source": [
    "weights.dot(explanations_for_instance)/weights.sum().sum()"
   ]
  },
  {
   "cell_type": "markdown",
   "metadata": {},
   "source": [
    "### For all instances"
   ]
  },
  {
   "cell_type": "code",
   "execution_count": 41,
   "metadata": {},
   "outputs": [],
   "source": [
    "weights_df = cons_alpha*(cons_df)+lip_alpha*(lip_df)+auc_alpha/auc_df.values"
   ]
  },
  {
   "cell_type": "code",
   "execution_count": 42,
   "metadata": {},
   "outputs": [],
   "source": [
    "r1 = weights_df['lime']*pd.DataFrame(lime_res).T\n",
    "r2 = weights_df['shap']*pd.DataFrame(shap_res).T"
   ]
  },
  {
   "cell_type": "code",
   "execution_count": 43,
   "metadata": {},
   "outputs": [],
   "source": [
    "ensemple_res = (r1+r2)/weights_df.sum(axis=1)"
   ]
  },
  {
   "cell_type": "code",
   "execution_count": 44,
   "metadata": {},
   "outputs": [],
   "source": [
    "ens_res = minmaxdf(pd.DataFrame(ensemple_res.T.values))"
   ]
  },
  {
   "cell_type": "markdown",
   "metadata": {},
   "source": [
    "#### Stability "
   ]
  },
  {
   "cell_type": "code",
   "execution_count": 45,
   "metadata": {},
   "outputs": [],
   "source": [
    "ens_lips = gm.stability(X_test_appended,ens_res,epsilon=0.3)"
   ]
  },
  {
   "cell_type": "code",
   "execution_count": 46,
   "metadata": {},
   "outputs": [
    {
     "data": {
      "text/plain": [
       "<AxesSubplot:xlabel='variable', ylabel='value'>"
      ]
     },
     "execution_count": 46,
     "metadata": {},
     "output_type": "execute_result"
    },
    {
     "data": {
      "image/png": "[encoded data removed]",
      "text/plain": [
       "<Figure size 432x288 with 1 Axes>"
      ]
     },
     "metadata": {
      "needs_background": "light"
     },
     "output_type": "display_data"
    }
   ],
   "source": [
    "lip_df_fin = pd.DataFrame({'lime':lime_lips, 'shap':shape_lips, 'ens':ens_lips})\n",
    "sns.boxplot(x=\"variable\", y=\"value\", data=pd.melt(lip_df_fin))"
   ]
  },
  {
   "cell_type": "markdown",
   "metadata": {},
   "source": [
    "### ACC Loss"
   ]
  },
  {
   "cell_type": "code",
   "execution_count": 47,
   "metadata": {},
   "outputs": [
    {
     "data": {
      "text/plain": [
       "[0.851248857752056]"
      ]
     },
     "execution_count": 47,
     "metadata": {},
     "output_type": "execute_result"
    }
   ],
   "source": [
    "ens_res_global = pd.DataFrame(ens_res).mean()\n",
    "\n",
    "ens_loss_lime = gm.gradual_perturbation(model=svc, X=X_test_appended, y=y_test_appended, column_transformer=ct, \n",
    "                                        importances_orig=ens_res_global, resolution=50,  count_per_step=10, plot=False)\n",
    "\n",
    "acc_loss_shap = gm.gradual_perturbation(model=svc, X=X_test_appended, y=y_test_appended, column_transformer=ct, \n",
    "                                        importances_orig=shap_res_global, resolution=50,  count_per_step=10, plot=False)\n",
    "\n",
    "acc_loss_lime = gm.gradual_perturbation(model=svc, X=X_test_appended, y=y_test_appended, column_transformer=ct, \n",
    "                                        importances_orig=lime_res_global, resolution=50,  count_per_step=10, plot=False)\n",
    "[1-auc(np.linspace(0, 1, 50),acc_loss_lime)]"
   ]
  },
  {
   "cell_type": "code",
   "execution_count": 48,
   "metadata": {},
   "outputs": [
    {
     "data": {
      "text/plain": [
       "<matplotlib.legend.Legend at 0x7fc708136d00>"
      ]
     },
     "execution_count": 48,
     "metadata": {},
     "output_type": "execute_result"
    },
    {
     "data": {
      "image/png": "[encoded data removed]",
      "text/plain": [
       "<Figure size 432x288 with 1 Axes>"
      ]
     },
     "metadata": {
      "needs_background": "light"
     },
     "output_type": "display_data"
    }
   ],
   "source": [
    "plt.plot(np.linspace(0, 100, 50), ens_loss_lime)\n",
    "plt.plot(np.linspace(0, 100, 50), acc_loss_shap)\n",
    "plt.plot(np.linspace(0, 100, 50), acc_loss_lime)\n",
    "plt.xlabel('Percentile of perturbation range', fontsize=13)\n",
    "plt.ylabel('Loss of accuracy', fontsize=13)\n",
    "plt.legend(['Ensamble','Shap','Lime'])"
   ]
  },
  {
   "cell_type": "markdown",
   "metadata": {},
   "source": [
    "## Consistency of choosen explanation mechanism"
   ]
  },
  {
   "cell_type": "code",
   "execution_count": 49,
   "metadata": {},
   "outputs": [],
   "source": [
    "src1=pd.DataFrame(minmaxdf(pd.DataFrame(res_shap_con[0]).apply(lambda x: x*weights_df['shap'],axis=0)))\n",
    "\n",
    "src2=pd.DataFrame(minmaxdf(pd.DataFrame(res_shap_con[1]).apply(lambda x: x*weights_df['shap'],axis=0)))"
   ]
  },
  {
   "cell_type": "code",
   "execution_count": 50,
   "metadata": {},
   "outputs": [
    {
     "data": {
      "text/plain": [
       "<AxesSubplot:xlabel='variable', ylabel='value'>"
      ]
     },
     "execution_count": 50,
     "metadata": {},
     "output_type": "execute_result"
    },
    {
     "data": {
      "image/png": "[encoded data removed]",
      "text/plain": [
       "<Figure size 432x288 with 1 Axes>"
      ]
     },
     "metadata": {
      "needs_background": "light"
     },
     "output_type": "display_data"
    }
   ],
   "source": [
    "lime_cons = gm.consistency(res_lime_con)\n",
    "shap_cons = gm.consistency(res_shap_con)\n",
    "shap_cons_dd =gm.consistency([src1.values,src2.values])\n",
    "cons_df_ens = pd.DataFrame({'lime':lime_cons, 'shap':shap_cons, 'ensemble':shap_cons_dd})\n",
    "sns.boxplot(x=\"variable\", y=\"value\", data=pd.melt(cons_df_ens))"
   ]
  },
  {
   "cell_type": "markdown",
   "metadata": {},
   "source": [
    "## Summary Plots\n",
    "## Obtain explanations by averagingin explanations"
   ]
  },
  {
   "cell_type": "code",
   "execution_count": 51,
   "metadata": {},
   "outputs": [],
   "source": [
    "def obtain_data_for_weights(cons_alphas = [0.8,0.1,0.1], lip_alphas=[0.1,0.8,0.1], auc_alphas=[0.1,0.1,0.8]):\n",
    "    nparam = len(cons_alphas)\n",
    "    fig, axs = plt.subplots(nparam,3,figsize=(12,9))\n",
    "    for i in range(nparam):\n",
    "        cons_alpha =cons_alphas[i]\n",
    "        lip_alpha=lip_alphas[i]\n",
    "        auc_alpha=auc_alphas[i]\n",
    "        \n",
    "        \n",
    "        weights_df = cons_alpha*(cons_df)+lip_alpha*(lip_df)+auc_alpha/auc_df.values\n",
    "        weights_df=pd.DataFrame(MinMaxScaler().fit_transform(weights_df), columns=weights_df.columns)\n",
    "        r1 = weights_df['lime']*pd.DataFrame(lime_res).T\n",
    "        r2 = weights_df['shap']*pd.DataFrame(shap_res).T\n",
    "        ensemple_res = (r1+r2)/weights_df.sum(axis=1)\n",
    "        ens_res = minmaxdf(pd.DataFrame(ensemple_res.T.values))\n",
    "\n",
    "        ens_confidence = MinMaxScaler([0,1]).fit_transform((weights_df.sum(axis=1)/2).values.reshape(-1,1))\n",
    "        \n",
    "        ens_lips = gm.stability(X_test_appended,ens_res,epsilon=0.3)#, confidence=ens_confidence.ravel())\n",
    "        \n",
    "\n",
    "        lip_df_fin = pd.DataFrame({'lime':lime_lips, 'shap':shape_lips, 'ens':ens_lips})\n",
    "        ens_res_global = pd.DataFrame(ens_res).abs().mean()\n",
    "        \n",
    "        acc_loss_ens = gm.gradual_perturbation(model=svc, X=X_test_appended, y=y_test_appended, column_transformer=ct, \n",
    "                                                importances_orig=ens_res_global, resolution=50,  count_per_step=10,\n",
    "                                               plot=False)\n",
    "        acc_loss_shap = gm.gradual_perturbation(model=svc, X=X_test_appended, y=y_test_appended, column_transformer=ct, \n",
    "                                                importances_orig=shap_res_global, resolution=50,  count_per_step=10,\n",
    "                                               plot=False)\n",
    "        acc_loss_lime = gm.gradual_perturbation(model=svc, X=X_test_appended, y=y_test_appended, column_transformer=ct, \n",
    "                                                importances_orig=lime_res_global, resolution=50,  count_per_step=10,\n",
    "                                               plot=False)\n",
    "\n",
    "        lime_cons = gm.consistency(res_lime_con)\n",
    "        shap_cons = gm.consistency(res_shap_con)\n",
    "        \n",
    "        src1=pd.DataFrame(minmaxdf(pd.DataFrame(res_shap_con[0]).apply(lambda x: x*weights_df['shap'],axis=0)))\n",
    "        src2=pd.DataFrame(minmaxdf(pd.DataFrame(res_shap_con[1]).apply(lambda x: x*weights_df['shap'],axis=0)))\n",
    "\n",
    "        shap_cons_dd =gm.consistency([src1.values,src2.values])#, confidence=[ens_confidence, ens_confidence])\n",
    "        cons_df_ens = pd.DataFrame({'lime':lime_cons, 'shap':shap_cons, 'ensemble':shap_cons_dd})\n",
    "    \n",
    "        sns.boxplot(x=\"Consistency\", y=\"value\", data=pd.melt(cons_df_ens, var_name='Consistency'),ax=axs[i,0])\n",
    "        sns.boxplot(x=\"Stability\", y=\"value\", data=pd.melt(lip_df_fin,var_name='Stability'),ax=axs[i,1])\n",
    "\n",
    "\n",
    "        axs[i,2].plot(np.linspace(0, 100, 50), acc_loss_ens)\n",
    "        axs[i,2].plot(np.linspace(0, 100, 50), acc_loss_shap)\n",
    "        axs[i,2].plot(np.linspace(0, 100, 50), acc_loss_lime)\n",
    "        axs[i,2].set(xlabel='Percentile of perturbation range', ylabel='Loss of accuracy')\n",
    "        axs[i,2].legend(['Ensamble (AUCx='+str(\"{:.2f}\".format(auc(np.linspace(0, 1, 50),acc_loss_ens)))+')',\n",
    "                         'Shap (AUCx='+str(\"{:.2f}\".format(auc(np.linspace(0, 1, 50),acc_loss_shap)))+')',\n",
    "                         'Lime (AUCx='+str(\"{:.2f}\".format(auc(np.linspace(0, 1, 50),acc_loss_lime)))+')',])\n",
    "    return ens_res, lime_res, shap_res, fig"
   ]
  },
  {
   "cell_type": "code",
   "execution_count": null,
   "metadata": {},
   "outputs": [],
   "source": [
    "ens_res, lime_res, shap_res, fig=obtain_data_for_weights()"
   ]
  },
  {
   "cell_type": "code",
   "execution_count": null,
   "metadata": {},
   "outputs": [],
   "source": [
    "fig.savefig('inxai-results-weight.png')"
   ]
  },
  {
   "cell_type": "markdown",
   "metadata": {},
   "source": [
    "## Obtain results by selecting best explanation for each sample"
   ]
  },
  {
   "cell_type": "code",
   "execution_count": null,
   "metadata": {},
   "outputs": [],
   "source": [
    "def obtain_data_for_weights_select(cons_alphas = [0.8,0.1,0.1], lip_alphas=[0.1,0.8,0.1], auc_alphas=[0.1,0.1,0.8]):\n",
    "    nparam = len(cons_alphas)\n",
    "    fig, axs = plt.subplots(nparam,3,figsize=(12,9))\n",
    "    if len(axs.shape) ==1:\n",
    "        axs = axs.reshape(1,3)\n",
    "    for i in range(nparam):\n",
    "        cons_alpha =cons_alphas[i]\n",
    "        lip_alpha=lip_alphas[i]\n",
    "        auc_alpha=auc_alphas[i]\n",
    "        \n",
    "        weights_df_orig = cons_alpha*(cons_df)+lip_alpha*(lip_df)+auc_alpha/auc_df.values\n",
    "        weights_df_orig=pd.DataFrame(MinMaxScaler().fit_transform(weights_df_orig), columns=weights_df_orig.columns)\n",
    "        weights_df = weights_df_orig.copy()\n",
    "        \n",
    "        weights_df.loc[:,:]= MinMaxScaler().fit_transform(weights_df.T).T\n",
    "        \n",
    "        r1 = weights_df['lime']*pd.DataFrame(lime_res).T\n",
    "        r2 = weights_df['shap']*pd.DataFrame(shap_res).T\n",
    "        ensemple_res = (r1+r2)/weights_df.sum(axis=1)\n",
    "        ens_res = minmaxdf(pd.DataFrame(ensemple_res.T.values))\n",
    "\n",
    "        ens_confidence = None#MinMaxScaler([0,1]).fit_transform((weights_df_orig.sum(axis=1)/2).values.reshape(-1,1))\n",
    "        \n",
    "        ens_lips = gm.stability(X_test_appended,ens_res,epsilon=0.3)#, confidence=ens_confidence.ravel())\n",
    "        \n",
    "\n",
    "        lip_df_fin = pd.DataFrame({'lime':lime_lips, 'shap':shape_lips, 'ens':ens_lips})\n",
    "        ens_res_global = pd.DataFrame(ens_res).abs().mean()\n",
    "        \n",
    "        acc_loss_ens = gm.gradual_perturbation(model=svc, X=X_test_appended, y=y_test_appended, column_transformer=ct, \n",
    "                                                importances_orig=ens_res_global, resolution=50,  count_per_step=10,\n",
    "                                               plot=False)\n",
    "        acc_loss_shap = gm.gradual_perturbation(model=svc, X=X_test_appended, y=y_test_appended, column_transformer=ct, \n",
    "                                                importances_orig=shap_res_global, resolution=50,  count_per_step=10,\n",
    "                                               plot=False)\n",
    "        acc_loss_lime = gm.gradual_perturbation(model=svc, X=X_test_appended, y=y_test_appended, column_transformer=ct, \n",
    "                                                importances_orig=lime_res_global, resolution=50,  count_per_step=10,\n",
    "                                               plot=False)\n",
    "\n",
    "        lime_cons = gm.consistency(res_lime_con)\n",
    "        shap_cons = gm.consistency(res_shap_con)\n",
    "        \n",
    "        src1=pd.DataFrame(minmaxdf(pd.DataFrame(res_shap_con[0]).apply(lambda x: x*weights_df['shap'],axis=0)))\n",
    "        src2=pd.DataFrame(minmaxdf(pd.DataFrame(res_shap_con[1]).apply(lambda x: x*weights_df['shap'],axis=0)))\n",
    "        \n",
    "        shap_cons_dd =gm.consistency([src1.values,src2.values])\n",
    "        cons_df_ens = pd.DataFrame({'lime':lime_cons, 'shap':shap_cons, 'ensemble':shap_cons_dd})\n",
    "    \n",
    "        sns.boxplot(x=\"Consistency\", y=\"value\", data=pd.melt(cons_df_ens, var_name='Consistency'),ax=axs[i,0])\n",
    "        sns.boxplot(x=\"Stability\", y=\"value\", data=pd.melt(lip_df_fin,var_name='Stability'),ax=axs[i,1])\n",
    "\n",
    "\n",
    "        axs[i,2].plot(np.linspace(0, 100, 50), acc_loss_ens)\n",
    "        axs[i,2].plot(np.linspace(0, 100, 50), acc_loss_shap)\n",
    "        axs[i,2].plot(np.linspace(0, 100, 50), acc_loss_lime)\n",
    "        axs[i,2].set(xlabel='Perturbation rate', ylabel='Loss of accuracy')\n",
    "        axs[i,2].legend(['Ensamble (AUCx='+str(\"{:.3f}\".format(auc(np.linspace(0, 1, 50),acc_loss_ens)))+')',\n",
    "                         'Shap (AUCx='+str(\"{:.3f}\".format(auc(np.linspace(0, 1, 50),acc_loss_shap)))+')',\n",
    "                         'Lime (AUCx='+str(\"{:.3f}\".format(auc(np.linspace(0, 1, 50),acc_loss_lime)))+')',])\n",
    "        \n",
    "    return ens_res, lime_res, shap_res, fig"
   ]
  },
  {
   "cell_type": "code",
   "execution_count": null,
   "metadata": {},
   "outputs": [],
   "source": [
    "ens_res, lime_res, shap_res, fig=obtain_data_for_weights_select()"
   ]
  },
  {
   "cell_type": "code",
   "execution_count": null,
   "metadata": {},
   "outputs": [],
   "source": [
    "fig.savefig('inxai-results.png')"
   ]
  },
  {
   "cell_type": "markdown",
   "metadata": {},
   "source": [
    "## Confidence plots"
   ]
  },
  {
   "cell_type": "code",
   "execution_count": null,
   "metadata": {},
   "outputs": [],
   "source": [
    "import matplotlib.pylab as plt\n",
    "from matplotlib import colors\n",
    "\n",
    "fig, ax = plt.subplots(1, 3, figsize=(12,3))\n",
    "\n",
    "weights_df = (cons_df+1)+0*(lip_df+1)+0*auc_df.values\n",
    "confidence = pd.DataFrame(minmaxdf(weights_df), columns=['Lime','Shap'])#pd.DataFrame(MinMaxScaler().fit_transform(weights_df))#.plot(kind='box')\n",
    "confidence.plot(kind='box', ax=ax[0], ylabel='Confidence of explanation')\n",
    "\n",
    "X_test_1 = X_test_appended.iloc[y_test_appended==1]\n",
    "X_test_2 = X_test_appended.iloc[y_test_appended==0]\n",
    "X_test_1.columns=['Lime','Shap']\n",
    "\n",
    "c='C0'\n",
    "cmap = colors.LinearSegmentedColormap.from_list(\n",
    "        'incr_alpha', [(0, (*colors.to_rgb(c),0)), (1, c)])\n",
    "ax[1].scatter(X_test_1['Lime'], X_test_1['Shap'], c=confidence.iloc[y_test_appended==1,0].values, cmap=cmap)#, ec=None, s=10**2)\n",
    "\n",
    "\n",
    "c='C1'\n",
    "cmap = colors.LinearSegmentedColormap.from_list(\n",
    "        'incr_alpha', [(0, (*colors.to_rgb(c),0)), (1, c)])\n",
    "ax[1].scatter(X_test_2['0'], X_test_2['1'], c=confidence.iloc[y_test_appended==0,0].values, cmap=cmap)#, ec=None, s=10**2)\n",
    "ax[1].set(xlabel='Lime')\n",
    "\n",
    "\n",
    "c='C0'\n",
    "cmap = colors.LinearSegmentedColormap.from_list(\n",
    "        'incr_alpha', [(0, (*colors.to_rgb(c),0)), (1, c)])\n",
    "ax[2].scatter(X_test_1['Lime'], X_test_1['Shap'], c=confidence.iloc[y_test_appended==1,1].values, cmap=cmap)#, ec=None, s=10**2)\n",
    "\n",
    "\n",
    "c='C1'\n",
    "cmap = colors.LinearSegmentedColormap.from_list(\n",
    "        'incr_alpha', [(0, (*colors.to_rgb(c),0)), (1, c)])\n",
    "ax[2].scatter(X_test_2['0'], X_test_2['1'], c=confidence.iloc[y_test_appended==0,1].values, cmap=cmap)#, ec=None, s=10**2)\n",
    "ax[2].set(xlabel='Shap')\n",
    "plt.show()"
   ]
  },
  {
   "cell_type": "code",
   "execution_count": null,
   "metadata": {},
   "outputs": [],
   "source": [
    "fig.savefig('confidence.png')"
   ]
  },
  {
   "cell_type": "code",
   "execution_count": null,
   "metadata": {},
   "outputs": [],
   "source": []
  }
 ],
 "metadata": {
  "kernelspec": {
   "display_name": "Python 3",
   "language": "python",
   "name": "python3"
  },
  "language_info": {
   "codemirror_mode": {
    "name": "ipython",
    "version": 3
   },
   "file_extension": ".py",
   "mimetype": "text/x-python",
   "name": "python",
   "nbconvert_exporter": "python",
   "pygments_lexer": "ipython3",
   "version": "3.8.5"
  }
 },
 "nbformat": 4,
 "nbformat_minor": 4
}
