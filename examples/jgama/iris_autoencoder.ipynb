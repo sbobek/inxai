{
 "cells": [
  {
   "cell_type": "code",
   "execution_count": 2,
   "metadata": {
    "collapsed": true,
    "ExecuteTime": {
     "start_time": "2023-05-14T10:39:10.088702Z",
     "end_time": "2023-05-14T10:39:10.176433Z"
    }
   },
   "outputs": [],
   "source": [
    "import pandas as pd\n",
    "import numpy as np\n",
    "\n",
    "from sklearn import datasets\n",
    "\n",
    "# import some data to play with\n",
    "iris = datasets.load_iris()"
   ]
  },
  {
   "cell_type": "code",
   "execution_count": 4,
   "outputs": [
    {
     "data": {
      "text/plain": "dict_keys(['data', 'target', 'frame', 'target_names', 'DESCR', 'feature_names', 'filename', 'data_module'])"
     },
     "execution_count": 4,
     "metadata": {},
     "output_type": "execute_result"
    }
   ],
   "source": [
    "iris.keys()"
   ],
   "metadata": {
    "collapsed": false,
    "ExecuteTime": {
     "start_time": "2023-05-14T09:33:11.643028Z",
     "end_time": "2023-05-14T09:33:11.688107Z"
    }
   }
  },
  {
   "cell_type": "code",
   "execution_count": 12,
   "outputs": [
    {
     "data": {
      "text/plain": "array([[5.1, 3.5, 1.4, 0.2],\n       [4.9, 3. , 1.4, 0.2],\n       [4.7, 3.2, 1.3, 0.2],\n       [4.6, 3.1, 1.5, 0.2],\n       [5. , 3.6, 1.4, 0.2],\n       [5.4, 3.9, 1.7, 0.4],\n       [4.6, 3.4, 1.4, 0.3],\n       [5. , 3.4, 1.5, 0.2],\n       [4.4, 2.9, 1.4, 0.2],\n       [4.9, 3.1, 1.5, 0.1],\n       [5.4, 3.7, 1.5, 0.2],\n       [4.8, 3.4, 1.6, 0.2],\n       [4.8, 3. , 1.4, 0.1],\n       [4.3, 3. , 1.1, 0.1],\n       [5.8, 4. , 1.2, 0.2],\n       [5.7, 4.4, 1.5, 0.4],\n       [5.4, 3.9, 1.3, 0.4],\n       [5.1, 3.5, 1.4, 0.3],\n       [5.7, 3.8, 1.7, 0.3],\n       [5.1, 3.8, 1.5, 0.3],\n       [5.4, 3.4, 1.7, 0.2],\n       [5.1, 3.7, 1.5, 0.4],\n       [4.6, 3.6, 1. , 0.2],\n       [5.1, 3.3, 1.7, 0.5],\n       [4.8, 3.4, 1.9, 0.2],\n       [5. , 3. , 1.6, 0.2],\n       [5. , 3.4, 1.6, 0.4],\n       [5.2, 3.5, 1.5, 0.2],\n       [5.2, 3.4, 1.4, 0.2],\n       [4.7, 3.2, 1.6, 0.2],\n       [4.8, 3.1, 1.6, 0.2],\n       [5.4, 3.4, 1.5, 0.4],\n       [5.2, 4.1, 1.5, 0.1],\n       [5.5, 4.2, 1.4, 0.2],\n       [4.9, 3.1, 1.5, 0.2],\n       [5. , 3.2, 1.2, 0.2],\n       [5.5, 3.5, 1.3, 0.2],\n       [4.9, 3.6, 1.4, 0.1],\n       [4.4, 3. , 1.3, 0.2],\n       [5.1, 3.4, 1.5, 0.2],\n       [5. , 3.5, 1.3, 0.3],\n       [4.5, 2.3, 1.3, 0.3],\n       [4.4, 3.2, 1.3, 0.2],\n       [5. , 3.5, 1.6, 0.6],\n       [5.1, 3.8, 1.9, 0.4],\n       [4.8, 3. , 1.4, 0.3],\n       [5.1, 3.8, 1.6, 0.2],\n       [4.6, 3.2, 1.4, 0.2],\n       [5.3, 3.7, 1.5, 0.2],\n       [5. , 3.3, 1.4, 0.2],\n       [7. , 3.2, 4.7, 1.4],\n       [6.4, 3.2, 4.5, 1.5],\n       [6.9, 3.1, 4.9, 1.5],\n       [5.5, 2.3, 4. , 1.3],\n       [6.5, 2.8, 4.6, 1.5],\n       [5.7, 2.8, 4.5, 1.3],\n       [6.3, 3.3, 4.7, 1.6],\n       [4.9, 2.4, 3.3, 1. ],\n       [6.6, 2.9, 4.6, 1.3],\n       [5.2, 2.7, 3.9, 1.4],\n       [5. , 2. , 3.5, 1. ],\n       [5.9, 3. , 4.2, 1.5],\n       [6. , 2.2, 4. , 1. ],\n       [6.1, 2.9, 4.7, 1.4],\n       [5.6, 2.9, 3.6, 1.3],\n       [6.7, 3.1, 4.4, 1.4],\n       [5.6, 3. , 4.5, 1.5],\n       [5.8, 2.7, 4.1, 1. ],\n       [6.2, 2.2, 4.5, 1.5],\n       [5.6, 2.5, 3.9, 1.1],\n       [5.9, 3.2, 4.8, 1.8],\n       [6.1, 2.8, 4. , 1.3],\n       [6.3, 2.5, 4.9, 1.5],\n       [6.1, 2.8, 4.7, 1.2],\n       [6.4, 2.9, 4.3, 1.3],\n       [6.6, 3. , 4.4, 1.4],\n       [6.8, 2.8, 4.8, 1.4],\n       [6.7, 3. , 5. , 1.7],\n       [6. , 2.9, 4.5, 1.5],\n       [5.7, 2.6, 3.5, 1. ],\n       [5.5, 2.4, 3.8, 1.1],\n       [5.5, 2.4, 3.7, 1. ],\n       [5.8, 2.7, 3.9, 1.2],\n       [6. , 2.7, 5.1, 1.6],\n       [5.4, 3. , 4.5, 1.5],\n       [6. , 3.4, 4.5, 1.6],\n       [6.7, 3.1, 4.7, 1.5],\n       [6.3, 2.3, 4.4, 1.3],\n       [5.6, 3. , 4.1, 1.3],\n       [5.5, 2.5, 4. , 1.3],\n       [5.5, 2.6, 4.4, 1.2],\n       [6.1, 3. , 4.6, 1.4],\n       [5.8, 2.6, 4. , 1.2],\n       [5. , 2.3, 3.3, 1. ],\n       [5.6, 2.7, 4.2, 1.3],\n       [5.7, 3. , 4.2, 1.2],\n       [5.7, 2.9, 4.2, 1.3],\n       [6.2, 2.9, 4.3, 1.3],\n       [5.1, 2.5, 3. , 1.1],\n       [5.7, 2.8, 4.1, 1.3],\n       [6.3, 3.3, 6. , 2.5],\n       [5.8, 2.7, 5.1, 1.9],\n       [7.1, 3. , 5.9, 2.1],\n       [6.3, 2.9, 5.6, 1.8],\n       [6.5, 3. , 5.8, 2.2],\n       [7.6, 3. , 6.6, 2.1],\n       [4.9, 2.5, 4.5, 1.7],\n       [7.3, 2.9, 6.3, 1.8],\n       [6.7, 2.5, 5.8, 1.8],\n       [7.2, 3.6, 6.1, 2.5],\n       [6.5, 3.2, 5.1, 2. ],\n       [6.4, 2.7, 5.3, 1.9],\n       [6.8, 3. , 5.5, 2.1],\n       [5.7, 2.5, 5. , 2. ],\n       [5.8, 2.8, 5.1, 2.4],\n       [6.4, 3.2, 5.3, 2.3],\n       [6.5, 3. , 5.5, 1.8],\n       [7.7, 3.8, 6.7, 2.2],\n       [7.7, 2.6, 6.9, 2.3],\n       [6. , 2.2, 5. , 1.5],\n       [6.9, 3.2, 5.7, 2.3],\n       [5.6, 2.8, 4.9, 2. ],\n       [7.7, 2.8, 6.7, 2. ],\n       [6.3, 2.7, 4.9, 1.8],\n       [6.7, 3.3, 5.7, 2.1],\n       [7.2, 3.2, 6. , 1.8],\n       [6.2, 2.8, 4.8, 1.8],\n       [6.1, 3. , 4.9, 1.8],\n       [6.4, 2.8, 5.6, 2.1],\n       [7.2, 3. , 5.8, 1.6],\n       [7.4, 2.8, 6.1, 1.9],\n       [7.9, 3.8, 6.4, 2. ],\n       [6.4, 2.8, 5.6, 2.2],\n       [6.3, 2.8, 5.1, 1.5],\n       [6.1, 2.6, 5.6, 1.4],\n       [7.7, 3. , 6.1, 2.3],\n       [6.3, 3.4, 5.6, 2.4],\n       [6.4, 3.1, 5.5, 1.8],\n       [6. , 3. , 4.8, 1.8],\n       [6.9, 3.1, 5.4, 2.1],\n       [6.7, 3.1, 5.6, 2.4],\n       [6.9, 3.1, 5.1, 2.3],\n       [5.8, 2.7, 5.1, 1.9],\n       [6.8, 3.2, 5.9, 2.3],\n       [6.7, 3.3, 5.7, 2.5],\n       [6.7, 3. , 5.2, 2.3],\n       [6.3, 2.5, 5. , 1.9],\n       [6.5, 3. , 5.2, 2. ],\n       [6.2, 3.4, 5.4, 2.3],\n       [5.9, 3. , 5.1, 1.8]])"
     },
     "execution_count": 12,
     "metadata": {},
     "output_type": "execute_result"
    }
   ],
   "source": [
    "iris.data"
   ],
   "metadata": {
    "collapsed": false,
    "ExecuteTime": {
     "start_time": "2023-05-14T10:45:35.073168Z",
     "end_time": "2023-05-14T10:45:35.173899Z"
    }
   }
  },
  {
   "cell_type": "code",
   "execution_count": 3,
   "outputs": [
    {
     "data": {
      "text/plain": "     sepal length (cm)  sepal width (cm)  petal length (cm)  petal width (cm)  \\\n0                  5.1               3.5                1.4               0.2   \n1                  4.9               3.0                1.4               0.2   \n2                  4.7               3.2                1.3               0.2   \n3                  4.6               3.1                1.5               0.2   \n4                  5.0               3.6                1.4               0.2   \n..                 ...               ...                ...               ...   \n145                6.7               3.0                5.2               2.3   \n146                6.3               2.5                5.0               1.9   \n147                6.5               3.0                5.2               2.0   \n148                6.2               3.4                5.4               2.3   \n149                5.9               3.0                5.1               1.8   \n\n     target  \n0       0.0  \n1       0.0  \n2       0.0  \n3       0.0  \n4       0.0  \n..      ...  \n145     2.0  \n146     2.0  \n147     2.0  \n148     2.0  \n149     2.0  \n\n[150 rows x 5 columns]",
      "text/html": "<div>\n<style scoped>\n    .dataframe tbody tr th:only-of-type {\n        vertical-align: middle;\n    }\n\n    .dataframe tbody tr th {\n        vertical-align: top;\n    }\n\n    .dataframe thead th {\n        text-align: right;\n    }\n</style>\n<table border=\"1\" class=\"dataframe\">\n  <thead>\n    <tr style=\"text-align: right;\">\n      <th></th>\n      <th>sepal length (cm)</th>\n      <th>sepal width (cm)</th>\n      <th>petal length (cm)</th>\n      <th>petal width (cm)</th>\n      <th>target</th>\n    </tr>\n  </thead>\n  <tbody>\n    <tr>\n      <th>0</th>\n      <td>5.1</td>\n      <td>3.5</td>\n      <td>1.4</td>\n      <td>0.2</td>\n      <td>0.0</td>\n    </tr>\n    <tr>\n      <th>1</th>\n      <td>4.9</td>\n      <td>3.0</td>\n      <td>1.4</td>\n      <td>0.2</td>\n      <td>0.0</td>\n    </tr>\n    <tr>\n      <th>2</th>\n      <td>4.7</td>\n      <td>3.2</td>\n      <td>1.3</td>\n      <td>0.2</td>\n      <td>0.0</td>\n    </tr>\n    <tr>\n      <th>3</th>\n      <td>4.6</td>\n      <td>3.1</td>\n      <td>1.5</td>\n      <td>0.2</td>\n      <td>0.0</td>\n    </tr>\n    <tr>\n      <th>4</th>\n      <td>5.0</td>\n      <td>3.6</td>\n      <td>1.4</td>\n      <td>0.2</td>\n      <td>0.0</td>\n    </tr>\n    <tr>\n      <th>...</th>\n      <td>...</td>\n      <td>...</td>\n      <td>...</td>\n      <td>...</td>\n      <td>...</td>\n    </tr>\n    <tr>\n      <th>145</th>\n      <td>6.7</td>\n      <td>3.0</td>\n      <td>5.2</td>\n      <td>2.3</td>\n      <td>2.0</td>\n    </tr>\n    <tr>\n      <th>146</th>\n      <td>6.3</td>\n      <td>2.5</td>\n      <td>5.0</td>\n      <td>1.9</td>\n      <td>2.0</td>\n    </tr>\n    <tr>\n      <th>147</th>\n      <td>6.5</td>\n      <td>3.0</td>\n      <td>5.2</td>\n      <td>2.0</td>\n      <td>2.0</td>\n    </tr>\n    <tr>\n      <th>148</th>\n      <td>6.2</td>\n      <td>3.4</td>\n      <td>5.4</td>\n      <td>2.3</td>\n      <td>2.0</td>\n    </tr>\n    <tr>\n      <th>149</th>\n      <td>5.9</td>\n      <td>3.0</td>\n      <td>5.1</td>\n      <td>1.8</td>\n      <td>2.0</td>\n    </tr>\n  </tbody>\n</table>\n<p>150 rows × 5 columns</p>\n</div>"
     },
     "execution_count": 3,
     "metadata": {},
     "output_type": "execute_result"
    }
   ],
   "source": [
    "iris_df = pd.DataFrame(\n",
    "    data= np.c_[iris['data'], iris['target']],\n",
    "    columns= iris['feature_names'] + ['target']\n",
    "    )\n",
    "iris_df"
   ],
   "metadata": {
    "collapsed": false,
    "ExecuteTime": {
     "start_time": "2023-05-14T10:39:13.790255Z",
     "end_time": "2023-05-14T10:39:13.933189Z"
    }
   }
  },
  {
   "cell_type": "code",
   "execution_count": 4,
   "outputs": [
    {
     "data": {
      "text/plain": "setosa        50\nversicolor    50\nvirginica     50\nName: species, dtype: int64"
     },
     "execution_count": 4,
     "metadata": {},
     "output_type": "execute_result"
    }
   ],
   "source": [
    "iris_df['species'] = iris_df['target'].apply(lambda x: 'setosa' if x==0 else ('versicolor' if x==1 else 'virginica'))\n",
    "iris_df['species'].value_counts()"
   ],
   "metadata": {
    "collapsed": false,
    "ExecuteTime": {
     "start_time": "2023-05-14T10:39:18.812900Z",
     "end_time": "2023-05-14T10:39:18.831842Z"
    }
   }
  },
  {
   "cell_type": "markdown",
   "source": [
    "# 1. \"noise injection\" / \"noisy data augmentation\"."
   ],
   "metadata": {
    "collapsed": false
   }
  },
  {
   "cell_type": "code",
   "execution_count": 7,
   "outputs": [
    {
     "data": {
      "text/plain": "            0         1         2         3\n0    0.711674 -0.324485 -1.001871  0.236251\n1   -0.102160 -1.141293  2.654407  1.440605\n2    0.098902 -3.121532 -1.076522 -0.325682\n3   -1.035498 -0.426320 -1.029361 -0.521774\n4   -0.422758 -0.099244 -1.380258  0.301903\n..        ...       ...       ...       ...\n995  0.601130 -0.865946  0.701802 -0.244660\n996  0.437431  0.461749 -2.397914  0.842408\n997  2.279782 -0.519981 -0.554635  0.669331\n998  0.366023  0.452777  1.233735 -0.149967\n999  0.241971  0.783226 -0.192829 -0.265749\n\n[1000 rows x 4 columns]",
      "text/html": "<div>\n<style scoped>\n    .dataframe tbody tr th:only-of-type {\n        vertical-align: middle;\n    }\n\n    .dataframe tbody tr th {\n        vertical-align: top;\n    }\n\n    .dataframe thead th {\n        text-align: right;\n    }\n</style>\n<table border=\"1\" class=\"dataframe\">\n  <thead>\n    <tr style=\"text-align: right;\">\n      <th></th>\n      <th>0</th>\n      <th>1</th>\n      <th>2</th>\n      <th>3</th>\n    </tr>\n  </thead>\n  <tbody>\n    <tr>\n      <th>0</th>\n      <td>0.711674</td>\n      <td>-0.324485</td>\n      <td>-1.001871</td>\n      <td>0.236251</td>\n    </tr>\n    <tr>\n      <th>1</th>\n      <td>-0.102160</td>\n      <td>-1.141293</td>\n      <td>2.654407</td>\n      <td>1.440605</td>\n    </tr>\n    <tr>\n      <th>2</th>\n      <td>0.098902</td>\n      <td>-3.121532</td>\n      <td>-1.076522</td>\n      <td>-0.325682</td>\n    </tr>\n    <tr>\n      <th>3</th>\n      <td>-1.035498</td>\n      <td>-0.426320</td>\n      <td>-1.029361</td>\n      <td>-0.521774</td>\n    </tr>\n    <tr>\n      <th>4</th>\n      <td>-0.422758</td>\n      <td>-0.099244</td>\n      <td>-1.380258</td>\n      <td>0.301903</td>\n    </tr>\n    <tr>\n      <th>...</th>\n      <td>...</td>\n      <td>...</td>\n      <td>...</td>\n      <td>...</td>\n    </tr>\n    <tr>\n      <th>995</th>\n      <td>0.601130</td>\n      <td>-0.865946</td>\n      <td>0.701802</td>\n      <td>-0.244660</td>\n    </tr>\n    <tr>\n      <th>996</th>\n      <td>0.437431</td>\n      <td>0.461749</td>\n      <td>-2.397914</td>\n      <td>0.842408</td>\n    </tr>\n    <tr>\n      <th>997</th>\n      <td>2.279782</td>\n      <td>-0.519981</td>\n      <td>-0.554635</td>\n      <td>0.669331</td>\n    </tr>\n    <tr>\n      <th>998</th>\n      <td>0.366023</td>\n      <td>0.452777</td>\n      <td>1.233735</td>\n      <td>-0.149967</td>\n    </tr>\n    <tr>\n      <th>999</th>\n      <td>0.241971</td>\n      <td>0.783226</td>\n      <td>-0.192829</td>\n      <td>-0.265749</td>\n    </tr>\n  </tbody>\n</table>\n<p>1000 rows × 4 columns</p>\n</div>"
     },
     "execution_count": 7,
     "metadata": {},
     "output_type": "execute_result"
    }
   ],
   "source": [
    "N = 1_000\n",
    "np.random.seed(2023)\n",
    "gauss_df = pd.DataFrame(np.resize(np.random.normal(loc=0.0, scale=1.0, size=N*4), (N, 4)))\n",
    "gauss_df"
   ],
   "metadata": {
    "collapsed": false,
    "ExecuteTime": {
     "start_time": "2023-05-14T10:40:51.370872Z",
     "end_time": "2023-05-14T10:40:51.458848Z"
    }
   }
  },
  {
   "cell_type": "code",
   "execution_count": 8,
   "outputs": [
    {
     "data": {
      "text/plain": "    sepal length (cm)  sepal width (cm)  petal length (cm)  petal width (cm)  \\\n23           5.811674          2.975515           0.698129          0.736251   \n25           4.897840          1.858707           4.254407          1.640605   \n6            4.698902          0.278468           0.323478         -0.025682   \n33           4.464502          3.773680           0.370639         -0.321774   \n28           4.777242          3.300756           0.019742          0.501903   \n..                ...               ...                ...               ...   \n23           5.701130          2.434054           2.401802          0.255340   \n17           5.537431          3.961749          -0.997914          1.142408   \n48           7.579782          3.180019           0.945365          0.869331   \n44           5.466023          4.252777           3.133735          0.250033   \n21           5.341971          4.483226           1.307171          0.134251   \n\n    target species  \n23     0.0  setosa  \n25     0.0  setosa  \n6      0.0  setosa  \n33     0.0  setosa  \n28     0.0  setosa  \n..     ...     ...  \n23     0.0  setosa  \n17     0.0  setosa  \n48     0.0  setosa  \n44     0.0  setosa  \n21     0.0  setosa  \n\n[1000 rows x 6 columns]",
      "text/html": "<div>\n<style scoped>\n    .dataframe tbody tr th:only-of-type {\n        vertical-align: middle;\n    }\n\n    .dataframe tbody tr th {\n        vertical-align: top;\n    }\n\n    .dataframe thead th {\n        text-align: right;\n    }\n</style>\n<table border=\"1\" class=\"dataframe\">\n  <thead>\n    <tr style=\"text-align: right;\">\n      <th></th>\n      <th>sepal length (cm)</th>\n      <th>sepal width (cm)</th>\n      <th>petal length (cm)</th>\n      <th>petal width (cm)</th>\n      <th>target</th>\n      <th>species</th>\n    </tr>\n  </thead>\n  <tbody>\n    <tr>\n      <th>23</th>\n      <td>5.811674</td>\n      <td>2.975515</td>\n      <td>0.698129</td>\n      <td>0.736251</td>\n      <td>0.0</td>\n      <td>setosa</td>\n    </tr>\n    <tr>\n      <th>25</th>\n      <td>4.897840</td>\n      <td>1.858707</td>\n      <td>4.254407</td>\n      <td>1.640605</td>\n      <td>0.0</td>\n      <td>setosa</td>\n    </tr>\n    <tr>\n      <th>6</th>\n      <td>4.698902</td>\n      <td>0.278468</td>\n      <td>0.323478</td>\n      <td>-0.025682</td>\n      <td>0.0</td>\n      <td>setosa</td>\n    </tr>\n    <tr>\n      <th>33</th>\n      <td>4.464502</td>\n      <td>3.773680</td>\n      <td>0.370639</td>\n      <td>-0.321774</td>\n      <td>0.0</td>\n      <td>setosa</td>\n    </tr>\n    <tr>\n      <th>28</th>\n      <td>4.777242</td>\n      <td>3.300756</td>\n      <td>0.019742</td>\n      <td>0.501903</td>\n      <td>0.0</td>\n      <td>setosa</td>\n    </tr>\n    <tr>\n      <th>...</th>\n      <td>...</td>\n      <td>...</td>\n      <td>...</td>\n      <td>...</td>\n      <td>...</td>\n      <td>...</td>\n    </tr>\n    <tr>\n      <th>23</th>\n      <td>5.701130</td>\n      <td>2.434054</td>\n      <td>2.401802</td>\n      <td>0.255340</td>\n      <td>0.0</td>\n      <td>setosa</td>\n    </tr>\n    <tr>\n      <th>17</th>\n      <td>5.537431</td>\n      <td>3.961749</td>\n      <td>-0.997914</td>\n      <td>1.142408</td>\n      <td>0.0</td>\n      <td>setosa</td>\n    </tr>\n    <tr>\n      <th>48</th>\n      <td>7.579782</td>\n      <td>3.180019</td>\n      <td>0.945365</td>\n      <td>0.869331</td>\n      <td>0.0</td>\n      <td>setosa</td>\n    </tr>\n    <tr>\n      <th>44</th>\n      <td>5.466023</td>\n      <td>4.252777</td>\n      <td>3.133735</td>\n      <td>0.250033</td>\n      <td>0.0</td>\n      <td>setosa</td>\n    </tr>\n    <tr>\n      <th>21</th>\n      <td>5.341971</td>\n      <td>4.483226</td>\n      <td>1.307171</td>\n      <td>0.134251</td>\n      <td>0.0</td>\n      <td>setosa</td>\n    </tr>\n  </tbody>\n</table>\n<p>1000 rows × 6 columns</p>\n</div>"
     },
     "execution_count": 8,
     "metadata": {},
     "output_type": "execute_result"
    }
   ],
   "source": [
    "setosa_gauss_df = iris_df[iris_df['species']=='setosa'].sample(n=N, replace=True, random_state=2023)\n",
    "setosa_gauss_df['sepal length (cm)'] += gauss_df[0].tolist()\n",
    "setosa_gauss_df['sepal width (cm)'] += gauss_df[1].tolist()\n",
    "setosa_gauss_df['petal length (cm)'] += gauss_df[2].tolist()\n",
    "setosa_gauss_df['petal width (cm)'] += gauss_df[3].tolist()\n",
    "setosa_gauss_df"
   ],
   "metadata": {
    "collapsed": false,
    "ExecuteTime": {
     "start_time": "2023-05-14T10:41:04.317796Z",
     "end_time": "2023-05-14T10:41:04.480723Z"
    }
   }
  },
  {
   "cell_type": "code",
   "execution_count": 9,
   "outputs": [
    {
     "data": {
      "text/plain": "    sepal length (cm)  sepal width (cm)  petal length (cm)  petal width (cm)  \\\n96           4.276196          3.068572           1.900496          3.380141   \n69           5.415813          2.037630           4.007877          0.279311   \n95           5.404294          3.107105           3.528240          0.795328   \n96           5.086108          2.650714           3.701677          0.560030   \n58           6.409069          1.412966           4.041549          0.881866   \n..                ...               ...                ...               ...   \n54           7.110317          2.032726           2.883634          0.629163   \n56           6.945130          4.193373           6.052742          0.745065   \n86           6.979033          2.567021           4.241103          3.469673   \n76           6.737270          2.461805           3.108090          1.260222   \n69           6.220941          1.565042           3.378953          1.844146   \n\n    target     species  \n96     1.0  versicolor  \n69     1.0  versicolor  \n95     1.0  versicolor  \n96     1.0  versicolor  \n58     1.0  versicolor  \n..     ...         ...  \n54     1.0  versicolor  \n56     1.0  versicolor  \n86     1.0  versicolor  \n76     1.0  versicolor  \n69     1.0  versicolor  \n\n[500 rows x 6 columns]",
      "text/html": "<div>\n<style scoped>\n    .dataframe tbody tr th:only-of-type {\n        vertical-align: middle;\n    }\n\n    .dataframe tbody tr th {\n        vertical-align: top;\n    }\n\n    .dataframe thead th {\n        text-align: right;\n    }\n</style>\n<table border=\"1\" class=\"dataframe\">\n  <thead>\n    <tr style=\"text-align: right;\">\n      <th></th>\n      <th>sepal length (cm)</th>\n      <th>sepal width (cm)</th>\n      <th>petal length (cm)</th>\n      <th>petal width (cm)</th>\n      <th>target</th>\n      <th>species</th>\n    </tr>\n  </thead>\n  <tbody>\n    <tr>\n      <th>96</th>\n      <td>4.276196</td>\n      <td>3.068572</td>\n      <td>1.900496</td>\n      <td>3.380141</td>\n      <td>1.0</td>\n      <td>versicolor</td>\n    </tr>\n    <tr>\n      <th>69</th>\n      <td>5.415813</td>\n      <td>2.037630</td>\n      <td>4.007877</td>\n      <td>0.279311</td>\n      <td>1.0</td>\n      <td>versicolor</td>\n    </tr>\n    <tr>\n      <th>95</th>\n      <td>5.404294</td>\n      <td>3.107105</td>\n      <td>3.528240</td>\n      <td>0.795328</td>\n      <td>1.0</td>\n      <td>versicolor</td>\n    </tr>\n    <tr>\n      <th>96</th>\n      <td>5.086108</td>\n      <td>2.650714</td>\n      <td>3.701677</td>\n      <td>0.560030</td>\n      <td>1.0</td>\n      <td>versicolor</td>\n    </tr>\n    <tr>\n      <th>58</th>\n      <td>6.409069</td>\n      <td>1.412966</td>\n      <td>4.041549</td>\n      <td>0.881866</td>\n      <td>1.0</td>\n      <td>versicolor</td>\n    </tr>\n    <tr>\n      <th>...</th>\n      <td>...</td>\n      <td>...</td>\n      <td>...</td>\n      <td>...</td>\n      <td>...</td>\n      <td>...</td>\n    </tr>\n    <tr>\n      <th>54</th>\n      <td>7.110317</td>\n      <td>2.032726</td>\n      <td>2.883634</td>\n      <td>0.629163</td>\n      <td>1.0</td>\n      <td>versicolor</td>\n    </tr>\n    <tr>\n      <th>56</th>\n      <td>6.945130</td>\n      <td>4.193373</td>\n      <td>6.052742</td>\n      <td>0.745065</td>\n      <td>1.0</td>\n      <td>versicolor</td>\n    </tr>\n    <tr>\n      <th>86</th>\n      <td>6.979033</td>\n      <td>2.567021</td>\n      <td>4.241103</td>\n      <td>3.469673</td>\n      <td>1.0</td>\n      <td>versicolor</td>\n    </tr>\n    <tr>\n      <th>76</th>\n      <td>6.737270</td>\n      <td>2.461805</td>\n      <td>3.108090</td>\n      <td>1.260222</td>\n      <td>1.0</td>\n      <td>versicolor</td>\n    </tr>\n    <tr>\n      <th>69</th>\n      <td>6.220941</td>\n      <td>1.565042</td>\n      <td>3.378953</td>\n      <td>1.844146</td>\n      <td>1.0</td>\n      <td>versicolor</td>\n    </tr>\n  </tbody>\n</table>\n<p>500 rows × 6 columns</p>\n</div>"
     },
     "execution_count": 9,
     "metadata": {},
     "output_type": "execute_result"
    }
   ],
   "source": [
    "N2 = 500\n",
    "np.random.seed(20232)\n",
    "gauss_df_2 = pd.DataFrame(np.resize(np.random.normal(loc=0.0, scale=1.0, size=N2*4), (N2, 4)))\n",
    "\n",
    "versicolor_gauss_df = iris_df[iris_df['species']=='versicolor'].sample(n=N2, replace=True, random_state=20232)\n",
    "versicolor_gauss_df['sepal length (cm)'] += gauss_df_2[0].tolist()\n",
    "versicolor_gauss_df['sepal width (cm)'] += gauss_df_2[1].tolist()\n",
    "versicolor_gauss_df['petal length (cm)'] += gauss_df_2[2].tolist()\n",
    "versicolor_gauss_df['petal width (cm)'] += gauss_df_2[3].tolist()\n",
    "versicolor_gauss_df"
   ],
   "metadata": {
    "collapsed": false,
    "ExecuteTime": {
     "start_time": "2023-05-14T10:41:30.138705Z",
     "end_time": "2023-05-14T10:41:30.295901Z"
    }
   }
  },
  {
   "cell_type": "markdown",
   "source": [
    "# 2. Train autoencoder on setosa"
   ],
   "metadata": {
    "collapsed": false
   }
  },
  {
   "cell_type": "code",
   "execution_count": 10,
   "outputs": [],
   "source": [
    "import torch\n",
    "from torch import nn\n",
    "\n",
    "from sklearn.model_selection import train_test_split\n",
    "from sklearn.preprocessing import StandardScaler\n",
    "\n",
    "class IrisAutoencoder(nn.Module):\n",
    "    def __init__(self):\n",
    "        super(IrisAutoencoder, self).__init__()\n",
    "        self.encoder = nn.Sequential(\n",
    "            nn.Linear(4, 2),\n",
    "            nn.ReLU(True)\n",
    "        )\n",
    "        self.decoder = nn.Sequential(\n",
    "            nn.Linear(2, 4),\n",
    "            nn.ReLU(True)\n",
    "        )\n",
    "\n",
    "    def forward(self, x):\n",
    "        x = self.encoder(x)\n",
    "        x = self.decoder(x)\n",
    "        return x\n"
   ],
   "metadata": {
    "collapsed": false,
    "ExecuteTime": {
     "start_time": "2023-05-14T10:41:37.461238Z",
     "end_time": "2023-05-14T10:41:37.462445Z"
    }
   }
  },
  {
   "cell_type": "code",
   "execution_count": 17,
   "outputs": [
    {
     "data": {
      "text/plain": "array([[ 5.81167353,  2.97551504,  0.69812936,  0.73625079],\n       [ 4.89784016,  1.85870737,  4.25440726,  1.64060519],\n       [ 4.69890227,  0.27846785,  0.32347835, -0.02568196],\n       ...,\n       [ 4.96065931,  2.7651612 ,  0.60815656, -0.25318839],\n       [ 4.09321464,  2.89690717,  2.30585828,  0.8162469 ],\n       [ 4.04743053,  4.41146427,  0.86893815, -0.64907156]])"
     },
     "execution_count": 17,
     "metadata": {},
     "output_type": "execute_result"
    }
   ],
   "source": [
    "X = setosa_gauss_df.iloc[:int(N/2)][['sepal length (cm)', 'sepal width (cm)', 'petal length (cm)', 'petal width (cm)']].to_numpy()\n",
    "X"
   ],
   "metadata": {
    "collapsed": false,
    "ExecuteTime": {
     "start_time": "2023-05-14T10:47:47.080550Z",
     "end_time": "2023-05-14T10:47:47.170096Z"
    }
   }
  },
  {
   "cell_type": "code",
   "execution_count": 18,
   "outputs": [],
   "source": [
    "# Normalization\n",
    "scaler = StandardScaler()\n",
    "X = scaler.fit_transform(X)\n",
    "\n",
    "X_train, X_test = train_test_split(X, test_size=0.2, random_state=2023)\n",
    "\n",
    "# Convert to tensors\n",
    "X_train = torch.FloatTensor(X_train)\n",
    "X_test = torch.FloatTensor(X_test)\n"
   ],
   "metadata": {
    "collapsed": false,
    "ExecuteTime": {
     "start_time": "2023-05-14T10:48:11.924874Z",
     "end_time": "2023-05-14T10:48:12.021669Z"
    }
   }
  },
  {
   "cell_type": "code",
   "execution_count": 30,
   "outputs": [
    {
     "name": "stdout",
     "output_type": "stream",
     "text": [
      "epoch 1000/10000, loss=0.8243\n",
      "epoch 2000/10000, loss=0.7506\n",
      "epoch 3000/10000, loss=0.7283\n",
      "epoch 4000/10000, loss=0.7266\n",
      "epoch 5000/10000, loss=0.7260\n",
      "epoch 6000/10000, loss=0.7257\n",
      "epoch 7000/10000, loss=0.7256\n",
      "epoch 8000/10000, loss=0.7256\n",
      "epoch 9000/10000, loss=0.7256\n",
      "epoch 10000/10000, loss=0.7255\n"
     ]
    }
   ],
   "source": [
    "model = IrisAutoencoder()\n",
    "criterion = nn.MSELoss()\n",
    "optimizer = torch.optim.Adam(model.parameters(), lr=0.001)\n",
    "\n",
    "num_epochs = 10_000\n",
    "for epoch in range(num_epochs):\n",
    "    output = model(X_train)\n",
    "    loss = criterion(output, X_train)\n",
    "    optimizer.zero_grad()\n",
    "    loss.backward()\n",
    "    optimizer.step()\n",
    "    if (epoch+1) % 1000 == 0:\n",
    "        print(f'epoch {epoch+1}/{num_epochs}, loss={loss.item():.4f}')\n"
   ],
   "metadata": {
    "collapsed": false,
    "ExecuteTime": {
     "start_time": "2023-05-14T10:50:32.856850Z",
     "end_time": "2023-05-14T10:50:36.991254Z"
    }
   }
  },
  {
   "cell_type": "code",
   "execution_count": 32,
   "outputs": [],
   "source": [
    "! mkdir /home/mmozolewski/notebooks/jgama/\n",
    "DATA_DIRECTORY = '/home/mmozolewski/notebooks/jgama/'\n",
    "torch.save(model.state_dict(), f'{DATA_DIRECTORY}\\IrisAutoencoder_v1')"
   ],
   "metadata": {
    "collapsed": false,
    "ExecuteTime": {
     "start_time": "2023-05-14T10:54:15.274262Z",
     "end_time": "2023-05-14T10:54:15.505347Z"
    }
   }
  },
  {
   "cell_type": "markdown",
   "source": [
    "# 3. Visualise losses and cutoff"
   ],
   "metadata": {
    "collapsed": false
   }
  },
  {
   "cell_type": "code",
   "execution_count": 49,
   "outputs": [
    {
     "data": {
      "text/plain": "array([[4.27619562, 3.06857233, 1.90049558, 3.38014125],\n       [5.41581271, 2.0376301 , 4.00787717, 0.27931071],\n       [5.40429387, 3.10710474, 3.52823969, 0.79532768],\n       ...,\n       [6.9790333 , 2.56702146, 4.24110258, 3.46967272],\n       [6.73727018, 2.46180466, 3.10809038, 1.26022235],\n       [6.22094096, 1.56504156, 3.37895279, 1.84414599]])"
     },
     "execution_count": 49,
     "metadata": {},
     "output_type": "execute_result"
    }
   ],
   "source": [
    "X_setosa = setosa_gauss_df.iloc[int(N/2):][['sepal length (cm)', 'sepal width (cm)', 'petal length (cm)', 'petal width (cm)']].to_numpy()\n",
    "X_versicolor = versicolor_gauss_df[['sepal length (cm)', 'sepal width (cm)', 'petal length (cm)', 'petal width (cm)']].to_numpy()\n",
    "X_versicolor"
   ],
   "metadata": {
    "collapsed": false,
    "ExecuteTime": {
     "start_time": "2023-05-14T20:35:44.482031Z",
     "end_time": "2023-05-14T20:35:44.573769Z"
    }
   }
  },
  {
   "cell_type": "code",
   "execution_count": 50,
   "outputs": [],
   "source": [
    "X_setosa = scaler.transform(X_setosa)\n",
    "X_versicolor = scaler.transform(X_versicolor)"
   ],
   "metadata": {
    "collapsed": false,
    "ExecuteTime": {
     "start_time": "2023-05-14T20:35:47.036431Z",
     "end_time": "2023-05-14T20:35:47.130741Z"
    }
   }
  },
  {
   "cell_type": "code",
   "execution_count": 51,
   "outputs": [],
   "source": [
    "X_setosa_pt = torch.FloatTensor(X_setosa)\n",
    "X_versicolor_pt = torch.FloatTensor(X_versicolor)"
   ],
   "metadata": {
    "collapsed": false,
    "ExecuteTime": {
     "start_time": "2023-05-14T20:35:50.566762Z",
     "end_time": "2023-05-14T20:35:50.657866Z"
    }
   }
  },
  {
   "cell_type": "code",
   "execution_count": 52,
   "outputs": [
    {
     "name": "stdout",
     "output_type": "stream",
     "text": [
      "Test Loss: 0.7615812420845032\n",
      "Test Loss: 1.127249002456665\n"
     ]
    }
   ],
   "source": [
    "def print_loss(X_tensor):\n",
    "    model.eval()\n",
    "    with torch.no_grad():\n",
    "        output = model(X_tensor)\n",
    "        loss = criterion(output, X_tensor)\n",
    "\n",
    "    print('Test Loss:', loss.item())\n",
    "\n",
    "print_loss(X_setosa_pt)\n",
    "print_loss(X_versicolor_pt)"
   ],
   "metadata": {
    "collapsed": false,
    "ExecuteTime": {
     "start_time": "2023-05-14T20:35:51.585362Z",
     "end_time": "2023-05-14T20:35:51.585716Z"
    }
   }
  },
  {
   "cell_type": "code",
   "execution_count": 53,
   "outputs": [
    {
     "name": "stdout",
     "output_type": "stream",
     "text": [
      "Cutoff Loss: 0.7615812552487478\n",
      "Cutoff Loss: 1.127248913921416\n"
     ]
    }
   ],
   "source": [
    "def get_losses(X_tensor):\n",
    "    losses = []\n",
    "    with torch.no_grad():\n",
    "        for sample in X_tensor:\n",
    "            output = model(sample)\n",
    "            loss = criterion(output, sample)\n",
    "            losses.append(loss.item())\n",
    "\n",
    "    # Choose a cutoff value\n",
    "    cutoff = sum(losses) / len(losses)\n",
    "    print('Cutoff Loss:', cutoff)\n",
    "\n",
    "    return losses, cutoff\n",
    "\n",
    "losses_setosa, cutoff_setosa = get_losses(X_setosa_pt)\n",
    "losses_versicolor, cutoff_versicolor = get_losses(X_versicolor_pt)"
   ],
   "metadata": {
    "collapsed": false,
    "ExecuteTime": {
     "start_time": "2023-05-14T20:35:53.511141Z",
     "end_time": "2023-05-14T20:35:53.624408Z"
    }
   }
  },
  {
   "cell_type": "code",
   "execution_count": 54,
   "outputs": [
    {
     "data": {
      "text/plain": "<Figure size 640x480 with 1 Axes>",
      "image/png": "[encoded data removed]"
     },
     "metadata": {},
     "output_type": "display_data"
    }
   ],
   "source": [
    "import matplotlib.pyplot as plt\n",
    "\n",
    "plt.hist(losses_setosa, bins=30)\n",
    "plt.hist(losses_versicolor, bins=30)\n",
    "plt.axvline(cutoff_setosa, color='r', linestyle='dashed', linewidth=2)\n",
    "plt.axvline(cutoff_versicolor, color='g', linestyle='dashed', linewidth=2)\n",
    "plt.title('Distribution of Losses')\n",
    "plt.xlabel('Loss')\n",
    "plt.ylabel('Frequency')\n",
    "plt.show()"
   ],
   "metadata": {
    "collapsed": false,
    "ExecuteTime": {
     "start_time": "2023-05-14T20:35:55.190774Z",
     "end_time": "2023-05-14T20:35:55.457985Z"
    }
   }
  },
  {
   "cell_type": "code",
   "execution_count": 55,
   "outputs": [
    {
     "name": "stdout",
     "output_type": "stream",
     "text": [
      "Cutoff Loss: 0.9444150845850818\n"
     ]
    },
    {
     "data": {
      "text/plain": "<Figure size 640x480 with 1 Axes>",
      "image/png": "[encoded data removed]"
     },
     "metadata": {},
     "output_type": "display_data"
    }
   ],
   "source": [
    "from sklearn.metrics import roc_curve, auc\n",
    "\n",
    "# Concatenate to form the test set\n",
    "X_test = np.concatenate((X_setosa, X_versicolor))\n",
    "y_test = np.concatenate((np.zeros(len(X_setosa)), np.ones(len(X_versicolor))))\n",
    "\n",
    "# Convert to tensors\n",
    "X_test = torch.FloatTensor(X_test)\n",
    "\n",
    "losses, _ = get_losses(X_test)\n",
    "\n",
    "# Compute ROC curve\n",
    "fpr, tpr, thresholds = roc_curve(y_test, losses, pos_label=1)\n",
    "roc_auc = auc(fpr, tpr)\n",
    "\n",
    "# Plot ROC curve\n",
    "plt.figure()\n",
    "plt.plot(fpr, tpr, color='darkorange', label='ROC curve (area = %0.2f)' % roc_auc)\n",
    "plt.plot([0, 1], [0, 1], color='navy', linestyle='--')\n",
    "plt.xlim([0.0, 1.0])\n",
    "plt.ylim([0.0, 1.05])\n",
    "plt.xlabel('False Positive Rate')\n",
    "plt.ylabel('True Positive Rate')\n",
    "plt.title('Receiver Operating Characteristic')\n",
    "plt.legend(loc=\"lower right\")\n",
    "plt.show()\n"
   ],
   "metadata": {
    "collapsed": false,
    "ExecuteTime": {
     "start_time": "2023-05-14T20:38:52.410123Z",
     "end_time": "2023-05-14T20:38:52.652815Z"
    }
   }
  },
  {
   "cell_type": "code",
   "execution_count": null,
   "outputs": [],
   "source": [],
   "metadata": {
    "collapsed": false
   }
  }
 ],
 "metadata": {
  "kernelspec": {
   "display_name": "Python 3",
   "language": "python",
   "name": "python3"
  },
  "language_info": {
   "codemirror_mode": {
    "name": "ipython",
    "version": 2
   },
   "file_extension": ".py",
   "mimetype": "text/x-python",
   "name": "python",
   "nbconvert_exporter": "python",
   "pygments_lexer": "ipython2",
   "version": "2.7.6"
  }
 },
 "nbformat": 4,
 "nbformat_minor": 0
}
