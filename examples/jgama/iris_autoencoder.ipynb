{
 "cells": [
  {
   "cell_type": "code",
   "execution_count": 32,
   "metadata": {
    "collapsed": true,
    "ExecuteTime": {
     "start_time": "2023-05-15T15:34:53.293391Z",
     "end_time": "2023-05-15T15:34:53.380858Z"
    }
   },
   "outputs": [],
   "source": [
    "import pandas as pd\n",
    "import numpy as np\n",
    "\n",
    "from sklearn import datasets\n",
    "import matplotlib.pyplot as plt\n",
    "from sklearn.metrics import roc_curve, auc\n",
    "from numpy import argmax, sqrt\n",
    "\n",
    "# import some data to play with\n",
    "iris = datasets.load_iris()"
   ]
  },
  {
   "cell_type": "code",
   "execution_count": 4,
   "outputs": [
    {
     "data": {
      "text/plain": "dict_keys(['data', 'target', 'frame', 'target_names', 'DESCR', 'feature_names', 'filename', 'data_module'])"
     },
     "execution_count": 4,
     "metadata": {},
     "output_type": "execute_result"
    }
   ],
   "source": [
    "iris.keys()"
   ],
   "metadata": {
    "collapsed": false,
    "ExecuteTime": {
     "start_time": "2023-05-14T09:33:11.643028Z",
     "end_time": "2023-05-14T09:33:11.688107Z"
    }
   }
  },
  {
   "cell_type": "code",
   "execution_count": 12,
   "outputs": [
    {
     "data": {
      "text/plain": "array([[5.1, 3.5, 1.4, 0.2],\n       [4.9, 3. , 1.4, 0.2],\n       [4.7, 3.2, 1.3, 0.2],\n       [4.6, 3.1, 1.5, 0.2],\n       [5. , 3.6, 1.4, 0.2],\n       [5.4, 3.9, 1.7, 0.4],\n       [4.6, 3.4, 1.4, 0.3],\n       [5. , 3.4, 1.5, 0.2],\n       [4.4, 2.9, 1.4, 0.2],\n       [4.9, 3.1, 1.5, 0.1],\n       [5.4, 3.7, 1.5, 0.2],\n       [4.8, 3.4, 1.6, 0.2],\n       [4.8, 3. , 1.4, 0.1],\n       [4.3, 3. , 1.1, 0.1],\n       [5.8, 4. , 1.2, 0.2],\n       [5.7, 4.4, 1.5, 0.4],\n       [5.4, 3.9, 1.3, 0.4],\n       [5.1, 3.5, 1.4, 0.3],\n       [5.7, 3.8, 1.7, 0.3],\n       [5.1, 3.8, 1.5, 0.3],\n       [5.4, 3.4, 1.7, 0.2],\n       [5.1, 3.7, 1.5, 0.4],\n       [4.6, 3.6, 1. , 0.2],\n       [5.1, 3.3, 1.7, 0.5],\n       [4.8, 3.4, 1.9, 0.2],\n       [5. , 3. , 1.6, 0.2],\n       [5. , 3.4, 1.6, 0.4],\n       [5.2, 3.5, 1.5, 0.2],\n       [5.2, 3.4, 1.4, 0.2],\n       [4.7, 3.2, 1.6, 0.2],\n       [4.8, 3.1, 1.6, 0.2],\n       [5.4, 3.4, 1.5, 0.4],\n       [5.2, 4.1, 1.5, 0.1],\n       [5.5, 4.2, 1.4, 0.2],\n       [4.9, 3.1, 1.5, 0.2],\n       [5. , 3.2, 1.2, 0.2],\n       [5.5, 3.5, 1.3, 0.2],\n       [4.9, 3.6, 1.4, 0.1],\n       [4.4, 3. , 1.3, 0.2],\n       [5.1, 3.4, 1.5, 0.2],\n       [5. , 3.5, 1.3, 0.3],\n       [4.5, 2.3, 1.3, 0.3],\n       [4.4, 3.2, 1.3, 0.2],\n       [5. , 3.5, 1.6, 0.6],\n       [5.1, 3.8, 1.9, 0.4],\n       [4.8, 3. , 1.4, 0.3],\n       [5.1, 3.8, 1.6, 0.2],\n       [4.6, 3.2, 1.4, 0.2],\n       [5.3, 3.7, 1.5, 0.2],\n       [5. , 3.3, 1.4, 0.2],\n       [7. , 3.2, 4.7, 1.4],\n       [6.4, 3.2, 4.5, 1.5],\n       [6.9, 3.1, 4.9, 1.5],\n       [5.5, 2.3, 4. , 1.3],\n       [6.5, 2.8, 4.6, 1.5],\n       [5.7, 2.8, 4.5, 1.3],\n       [6.3, 3.3, 4.7, 1.6],\n       [4.9, 2.4, 3.3, 1. ],\n       [6.6, 2.9, 4.6, 1.3],\n       [5.2, 2.7, 3.9, 1.4],\n       [5. , 2. , 3.5, 1. ],\n       [5.9, 3. , 4.2, 1.5],\n       [6. , 2.2, 4. , 1. ],\n       [6.1, 2.9, 4.7, 1.4],\n       [5.6, 2.9, 3.6, 1.3],\n       [6.7, 3.1, 4.4, 1.4],\n       [5.6, 3. , 4.5, 1.5],\n       [5.8, 2.7, 4.1, 1. ],\n       [6.2, 2.2, 4.5, 1.5],\n       [5.6, 2.5, 3.9, 1.1],\n       [5.9, 3.2, 4.8, 1.8],\n       [6.1, 2.8, 4. , 1.3],\n       [6.3, 2.5, 4.9, 1.5],\n       [6.1, 2.8, 4.7, 1.2],\n       [6.4, 2.9, 4.3, 1.3],\n       [6.6, 3. , 4.4, 1.4],\n       [6.8, 2.8, 4.8, 1.4],\n       [6.7, 3. , 5. , 1.7],\n       [6. , 2.9, 4.5, 1.5],\n       [5.7, 2.6, 3.5, 1. ],\n       [5.5, 2.4, 3.8, 1.1],\n       [5.5, 2.4, 3.7, 1. ],\n       [5.8, 2.7, 3.9, 1.2],\n       [6. , 2.7, 5.1, 1.6],\n       [5.4, 3. , 4.5, 1.5],\n       [6. , 3.4, 4.5, 1.6],\n       [6.7, 3.1, 4.7, 1.5],\n       [6.3, 2.3, 4.4, 1.3],\n       [5.6, 3. , 4.1, 1.3],\n       [5.5, 2.5, 4. , 1.3],\n       [5.5, 2.6, 4.4, 1.2],\n       [6.1, 3. , 4.6, 1.4],\n       [5.8, 2.6, 4. , 1.2],\n       [5. , 2.3, 3.3, 1. ],\n       [5.6, 2.7, 4.2, 1.3],\n       [5.7, 3. , 4.2, 1.2],\n       [5.7, 2.9, 4.2, 1.3],\n       [6.2, 2.9, 4.3, 1.3],\n       [5.1, 2.5, 3. , 1.1],\n       [5.7, 2.8, 4.1, 1.3],\n       [6.3, 3.3, 6. , 2.5],\n       [5.8, 2.7, 5.1, 1.9],\n       [7.1, 3. , 5.9, 2.1],\n       [6.3, 2.9, 5.6, 1.8],\n       [6.5, 3. , 5.8, 2.2],\n       [7.6, 3. , 6.6, 2.1],\n       [4.9, 2.5, 4.5, 1.7],\n       [7.3, 2.9, 6.3, 1.8],\n       [6.7, 2.5, 5.8, 1.8],\n       [7.2, 3.6, 6.1, 2.5],\n       [6.5, 3.2, 5.1, 2. ],\n       [6.4, 2.7, 5.3, 1.9],\n       [6.8, 3. , 5.5, 2.1],\n       [5.7, 2.5, 5. , 2. ],\n       [5.8, 2.8, 5.1, 2.4],\n       [6.4, 3.2, 5.3, 2.3],\n       [6.5, 3. , 5.5, 1.8],\n       [7.7, 3.8, 6.7, 2.2],\n       [7.7, 2.6, 6.9, 2.3],\n       [6. , 2.2, 5. , 1.5],\n       [6.9, 3.2, 5.7, 2.3],\n       [5.6, 2.8, 4.9, 2. ],\n       [7.7, 2.8, 6.7, 2. ],\n       [6.3, 2.7, 4.9, 1.8],\n       [6.7, 3.3, 5.7, 2.1],\n       [7.2, 3.2, 6. , 1.8],\n       [6.2, 2.8, 4.8, 1.8],\n       [6.1, 3. , 4.9, 1.8],\n       [6.4, 2.8, 5.6, 2.1],\n       [7.2, 3. , 5.8, 1.6],\n       [7.4, 2.8, 6.1, 1.9],\n       [7.9, 3.8, 6.4, 2. ],\n       [6.4, 2.8, 5.6, 2.2],\n       [6.3, 2.8, 5.1, 1.5],\n       [6.1, 2.6, 5.6, 1.4],\n       [7.7, 3. , 6.1, 2.3],\n       [6.3, 3.4, 5.6, 2.4],\n       [6.4, 3.1, 5.5, 1.8],\n       [6. , 3. , 4.8, 1.8],\n       [6.9, 3.1, 5.4, 2.1],\n       [6.7, 3.1, 5.6, 2.4],\n       [6.9, 3.1, 5.1, 2.3],\n       [5.8, 2.7, 5.1, 1.9],\n       [6.8, 3.2, 5.9, 2.3],\n       [6.7, 3.3, 5.7, 2.5],\n       [6.7, 3. , 5.2, 2.3],\n       [6.3, 2.5, 5. , 1.9],\n       [6.5, 3. , 5.2, 2. ],\n       [6.2, 3.4, 5.4, 2.3],\n       [5.9, 3. , 5.1, 1.8]])"
     },
     "execution_count": 12,
     "metadata": {},
     "output_type": "execute_result"
    }
   ],
   "source": [
    "iris.data"
   ],
   "metadata": {
    "collapsed": false,
    "ExecuteTime": {
     "start_time": "2023-05-14T10:45:35.073168Z",
     "end_time": "2023-05-14T10:45:35.173899Z"
    }
   }
  },
  {
   "cell_type": "code",
   "execution_count": 5,
   "outputs": [
    {
     "data": {
      "text/plain": "     sepal length (cm)  sepal width (cm)  petal length (cm)  petal width (cm)  \\\n0                  5.1               3.5                1.4               0.2   \n1                  4.9               3.0                1.4               0.2   \n2                  4.7               3.2                1.3               0.2   \n3                  4.6               3.1                1.5               0.2   \n4                  5.0               3.6                1.4               0.2   \n..                 ...               ...                ...               ...   \n145                6.7               3.0                5.2               2.3   \n146                6.3               2.5                5.0               1.9   \n147                6.5               3.0                5.2               2.0   \n148                6.2               3.4                5.4               2.3   \n149                5.9               3.0                5.1               1.8   \n\n     target  \n0       0.0  \n1       0.0  \n2       0.0  \n3       0.0  \n4       0.0  \n..      ...  \n145     2.0  \n146     2.0  \n147     2.0  \n148     2.0  \n149     2.0  \n\n[150 rows x 5 columns]",
      "text/html": "<div>\n<style scoped>\n    .dataframe tbody tr th:only-of-type {\n        vertical-align: middle;\n    }\n\n    .dataframe tbody tr th {\n        vertical-align: top;\n    }\n\n    .dataframe thead th {\n        text-align: right;\n    }\n</style>\n<table border=\"1\" class=\"dataframe\">\n  <thead>\n    <tr style=\"text-align: right;\">\n      <th></th>\n      <th>sepal length (cm)</th>\n      <th>sepal width (cm)</th>\n      <th>petal length (cm)</th>\n      <th>petal width (cm)</th>\n      <th>target</th>\n    </tr>\n  </thead>\n  <tbody>\n    <tr>\n      <th>0</th>\n      <td>5.1</td>\n      <td>3.5</td>\n      <td>1.4</td>\n      <td>0.2</td>\n      <td>0.0</td>\n    </tr>\n    <tr>\n      <th>1</th>\n      <td>4.9</td>\n      <td>3.0</td>\n      <td>1.4</td>\n      <td>0.2</td>\n      <td>0.0</td>\n    </tr>\n    <tr>\n      <th>2</th>\n      <td>4.7</td>\n      <td>3.2</td>\n      <td>1.3</td>\n      <td>0.2</td>\n      <td>0.0</td>\n    </tr>\n    <tr>\n      <th>3</th>\n      <td>4.6</td>\n      <td>3.1</td>\n      <td>1.5</td>\n      <td>0.2</td>\n      <td>0.0</td>\n    </tr>\n    <tr>\n      <th>4</th>\n      <td>5.0</td>\n      <td>3.6</td>\n      <td>1.4</td>\n      <td>0.2</td>\n      <td>0.0</td>\n    </tr>\n    <tr>\n      <th>...</th>\n      <td>...</td>\n      <td>...</td>\n      <td>...</td>\n      <td>...</td>\n      <td>...</td>\n    </tr>\n    <tr>\n      <th>145</th>\n      <td>6.7</td>\n      <td>3.0</td>\n      <td>5.2</td>\n      <td>2.3</td>\n      <td>2.0</td>\n    </tr>\n    <tr>\n      <th>146</th>\n      <td>6.3</td>\n      <td>2.5</td>\n      <td>5.0</td>\n      <td>1.9</td>\n      <td>2.0</td>\n    </tr>\n    <tr>\n      <th>147</th>\n      <td>6.5</td>\n      <td>3.0</td>\n      <td>5.2</td>\n      <td>2.0</td>\n      <td>2.0</td>\n    </tr>\n    <tr>\n      <th>148</th>\n      <td>6.2</td>\n      <td>3.4</td>\n      <td>5.4</td>\n      <td>2.3</td>\n      <td>2.0</td>\n    </tr>\n    <tr>\n      <th>149</th>\n      <td>5.9</td>\n      <td>3.0</td>\n      <td>5.1</td>\n      <td>1.8</td>\n      <td>2.0</td>\n    </tr>\n  </tbody>\n</table>\n<p>150 rows × 5 columns</p>\n</div>"
     },
     "execution_count": 5,
     "metadata": {},
     "output_type": "execute_result"
    }
   ],
   "source": [
    "iris_df = pd.DataFrame(\n",
    "    data= np.c_[iris['data'], iris['target']],\n",
    "    columns= iris['feature_names'] + ['target']\n",
    "    )\n",
    "iris_df"
   ],
   "metadata": {
    "collapsed": false,
    "ExecuteTime": {
     "start_time": "2023-05-15T15:24:28.033742Z",
     "end_time": "2023-05-15T15:24:28.150229Z"
    }
   }
  },
  {
   "cell_type": "code",
   "execution_count": 6,
   "outputs": [
    {
     "data": {
      "text/plain": "setosa        50\nversicolor    50\nvirginica     50\nName: species, dtype: int64"
     },
     "execution_count": 6,
     "metadata": {},
     "output_type": "execute_result"
    }
   ],
   "source": [
    "iris_df['species'] = iris_df['target'].apply(lambda x: 'setosa' if x==0 else ('versicolor' if x==1 else 'virginica'))\n",
    "iris_df['species'].value_counts()"
   ],
   "metadata": {
    "collapsed": false,
    "ExecuteTime": {
     "start_time": "2023-05-15T15:24:32.939267Z",
     "end_time": "2023-05-15T15:24:32.969903Z"
    }
   }
  },
  {
   "cell_type": "markdown",
   "source": [
    "# 1. \"noise injection\" / \"noisy data augmentation\"."
   ],
   "metadata": {
    "collapsed": false
   }
  },
  {
   "cell_type": "code",
   "execution_count": 7,
   "outputs": [
    {
     "data": {
      "text/plain": "            0         1         2         3\n0    0.711674 -0.324485 -1.001871  0.236251\n1   -0.102160 -1.141293  2.654407  1.440605\n2    0.098902 -3.121532 -1.076522 -0.325682\n3   -1.035498 -0.426320 -1.029361 -0.521774\n4   -0.422758 -0.099244 -1.380258  0.301903\n..        ...       ...       ...       ...\n995  0.601130 -0.865946  0.701802 -0.244660\n996  0.437431  0.461749 -2.397914  0.842408\n997  2.279782 -0.519981 -0.554635  0.669331\n998  0.366023  0.452777  1.233735 -0.149967\n999  0.241971  0.783226 -0.192829 -0.265749\n\n[1000 rows x 4 columns]",
      "text/html": "<div>\n<style scoped>\n    .dataframe tbody tr th:only-of-type {\n        vertical-align: middle;\n    }\n\n    .dataframe tbody tr th {\n        vertical-align: top;\n    }\n\n    .dataframe thead th {\n        text-align: right;\n    }\n</style>\n<table border=\"1\" class=\"dataframe\">\n  <thead>\n    <tr style=\"text-align: right;\">\n      <th></th>\n      <th>0</th>\n      <th>1</th>\n      <th>2</th>\n      <th>3</th>\n    </tr>\n  </thead>\n  <tbody>\n    <tr>\n      <th>0</th>\n      <td>0.711674</td>\n      <td>-0.324485</td>\n      <td>-1.001871</td>\n      <td>0.236251</td>\n    </tr>\n    <tr>\n      <th>1</th>\n      <td>-0.102160</td>\n      <td>-1.141293</td>\n      <td>2.654407</td>\n      <td>1.440605</td>\n    </tr>\n    <tr>\n      <th>2</th>\n      <td>0.098902</td>\n      <td>-3.121532</td>\n      <td>-1.076522</td>\n      <td>-0.325682</td>\n    </tr>\n    <tr>\n      <th>3</th>\n      <td>-1.035498</td>\n      <td>-0.426320</td>\n      <td>-1.029361</td>\n      <td>-0.521774</td>\n    </tr>\n    <tr>\n      <th>4</th>\n      <td>-0.422758</td>\n      <td>-0.099244</td>\n      <td>-1.380258</td>\n      <td>0.301903</td>\n    </tr>\n    <tr>\n      <th>...</th>\n      <td>...</td>\n      <td>...</td>\n      <td>...</td>\n      <td>...</td>\n    </tr>\n    <tr>\n      <th>995</th>\n      <td>0.601130</td>\n      <td>-0.865946</td>\n      <td>0.701802</td>\n      <td>-0.244660</td>\n    </tr>\n    <tr>\n      <th>996</th>\n      <td>0.437431</td>\n      <td>0.461749</td>\n      <td>-2.397914</td>\n      <td>0.842408</td>\n    </tr>\n    <tr>\n      <th>997</th>\n      <td>2.279782</td>\n      <td>-0.519981</td>\n      <td>-0.554635</td>\n      <td>0.669331</td>\n    </tr>\n    <tr>\n      <th>998</th>\n      <td>0.366023</td>\n      <td>0.452777</td>\n      <td>1.233735</td>\n      <td>-0.149967</td>\n    </tr>\n    <tr>\n      <th>999</th>\n      <td>0.241971</td>\n      <td>0.783226</td>\n      <td>-0.192829</td>\n      <td>-0.265749</td>\n    </tr>\n  </tbody>\n</table>\n<p>1000 rows × 4 columns</p>\n</div>"
     },
     "execution_count": 7,
     "metadata": {},
     "output_type": "execute_result"
    }
   ],
   "source": [
    "N = 1_000\n",
    "np.random.seed(2023)\n",
    "gauss_df = pd.DataFrame(np.resize(np.random.normal(loc=0.0, scale=1.0, size=N*4), (N, 4)))\n",
    "gauss_df"
   ],
   "metadata": {
    "collapsed": false,
    "ExecuteTime": {
     "start_time": "2023-05-15T15:24:42.643297Z",
     "end_time": "2023-05-15T15:24:42.673864Z"
    }
   }
  },
  {
   "cell_type": "code",
   "execution_count": 8,
   "outputs": [
    {
     "data": {
      "text/plain": "    sepal length (cm)  sepal width (cm)  petal length (cm)  petal width (cm)  \\\n23           5.811674          2.975515           0.698129          0.736251   \n25           4.897840          1.858707           4.254407          1.640605   \n6            4.698902          0.278468           0.323478         -0.025682   \n33           4.464502          3.773680           0.370639         -0.321774   \n28           4.777242          3.300756           0.019742          0.501903   \n..                ...               ...                ...               ...   \n23           5.701130          2.434054           2.401802          0.255340   \n17           5.537431          3.961749          -0.997914          1.142408   \n48           7.579782          3.180019           0.945365          0.869331   \n44           5.466023          4.252777           3.133735          0.250033   \n21           5.341971          4.483226           1.307171          0.134251   \n\n    target species  \n23     0.0  setosa  \n25     0.0  setosa  \n6      0.0  setosa  \n33     0.0  setosa  \n28     0.0  setosa  \n..     ...     ...  \n23     0.0  setosa  \n17     0.0  setosa  \n48     0.0  setosa  \n44     0.0  setosa  \n21     0.0  setosa  \n\n[1000 rows x 6 columns]",
      "text/html": "<div>\n<style scoped>\n    .dataframe tbody tr th:only-of-type {\n        vertical-align: middle;\n    }\n\n    .dataframe tbody tr th {\n        vertical-align: top;\n    }\n\n    .dataframe thead th {\n        text-align: right;\n    }\n</style>\n<table border=\"1\" class=\"dataframe\">\n  <thead>\n    <tr style=\"text-align: right;\">\n      <th></th>\n      <th>sepal length (cm)</th>\n      <th>sepal width (cm)</th>\n      <th>petal length (cm)</th>\n      <th>petal width (cm)</th>\n      <th>target</th>\n      <th>species</th>\n    </tr>\n  </thead>\n  <tbody>\n    <tr>\n      <th>23</th>\n      <td>5.811674</td>\n      <td>2.975515</td>\n      <td>0.698129</td>\n      <td>0.736251</td>\n      <td>0.0</td>\n      <td>setosa</td>\n    </tr>\n    <tr>\n      <th>25</th>\n      <td>4.897840</td>\n      <td>1.858707</td>\n      <td>4.254407</td>\n      <td>1.640605</td>\n      <td>0.0</td>\n      <td>setosa</td>\n    </tr>\n    <tr>\n      <th>6</th>\n      <td>4.698902</td>\n      <td>0.278468</td>\n      <td>0.323478</td>\n      <td>-0.025682</td>\n      <td>0.0</td>\n      <td>setosa</td>\n    </tr>\n    <tr>\n      <th>33</th>\n      <td>4.464502</td>\n      <td>3.773680</td>\n      <td>0.370639</td>\n      <td>-0.321774</td>\n      <td>0.0</td>\n      <td>setosa</td>\n    </tr>\n    <tr>\n      <th>28</th>\n      <td>4.777242</td>\n      <td>3.300756</td>\n      <td>0.019742</td>\n      <td>0.501903</td>\n      <td>0.0</td>\n      <td>setosa</td>\n    </tr>\n    <tr>\n      <th>...</th>\n      <td>...</td>\n      <td>...</td>\n      <td>...</td>\n      <td>...</td>\n      <td>...</td>\n      <td>...</td>\n    </tr>\n    <tr>\n      <th>23</th>\n      <td>5.701130</td>\n      <td>2.434054</td>\n      <td>2.401802</td>\n      <td>0.255340</td>\n      <td>0.0</td>\n      <td>setosa</td>\n    </tr>\n    <tr>\n      <th>17</th>\n      <td>5.537431</td>\n      <td>3.961749</td>\n      <td>-0.997914</td>\n      <td>1.142408</td>\n      <td>0.0</td>\n      <td>setosa</td>\n    </tr>\n    <tr>\n      <th>48</th>\n      <td>7.579782</td>\n      <td>3.180019</td>\n      <td>0.945365</td>\n      <td>0.869331</td>\n      <td>0.0</td>\n      <td>setosa</td>\n    </tr>\n    <tr>\n      <th>44</th>\n      <td>5.466023</td>\n      <td>4.252777</td>\n      <td>3.133735</td>\n      <td>0.250033</td>\n      <td>0.0</td>\n      <td>setosa</td>\n    </tr>\n    <tr>\n      <th>21</th>\n      <td>5.341971</td>\n      <td>4.483226</td>\n      <td>1.307171</td>\n      <td>0.134251</td>\n      <td>0.0</td>\n      <td>setosa</td>\n    </tr>\n  </tbody>\n</table>\n<p>1000 rows × 6 columns</p>\n</div>"
     },
     "execution_count": 8,
     "metadata": {},
     "output_type": "execute_result"
    }
   ],
   "source": [
    "setosa_gauss_df = iris_df[iris_df['species']=='setosa'].sample(n=N, replace=True, random_state=2023)\n",
    "setosa_gauss_df['sepal length (cm)'] += gauss_df[0].tolist()\n",
    "setosa_gauss_df['sepal width (cm)'] += gauss_df[1].tolist()\n",
    "setosa_gauss_df['petal length (cm)'] += gauss_df[2].tolist()\n",
    "setosa_gauss_df['petal width (cm)'] += gauss_df[3].tolist()\n",
    "setosa_gauss_df"
   ],
   "metadata": {
    "collapsed": false,
    "ExecuteTime": {
     "start_time": "2023-05-15T15:24:45.654828Z",
     "end_time": "2023-05-15T15:24:45.786175Z"
    }
   }
  },
  {
   "cell_type": "code",
   "execution_count": 9,
   "outputs": [
    {
     "data": {
      "text/plain": "    sepal length (cm)  sepal width (cm)  petal length (cm)  petal width (cm)  \\\n96           4.276196          3.068572           1.900496          3.380141   \n69           5.415813          2.037630           4.007877          0.279311   \n95           5.404294          3.107105           3.528240          0.795328   \n96           5.086108          2.650714           3.701677          0.560030   \n58           6.409069          1.412966           4.041549          0.881866   \n..                ...               ...                ...               ...   \n54           7.110317          2.032726           2.883634          0.629163   \n56           6.945130          4.193373           6.052742          0.745065   \n86           6.979033          2.567021           4.241103          3.469673   \n76           6.737270          2.461805           3.108090          1.260222   \n69           6.220941          1.565042           3.378953          1.844146   \n\n    target     species  \n96     1.0  versicolor  \n69     1.0  versicolor  \n95     1.0  versicolor  \n96     1.0  versicolor  \n58     1.0  versicolor  \n..     ...         ...  \n54     1.0  versicolor  \n56     1.0  versicolor  \n86     1.0  versicolor  \n76     1.0  versicolor  \n69     1.0  versicolor  \n\n[500 rows x 6 columns]",
      "text/html": "<div>\n<style scoped>\n    .dataframe tbody tr th:only-of-type {\n        vertical-align: middle;\n    }\n\n    .dataframe tbody tr th {\n        vertical-align: top;\n    }\n\n    .dataframe thead th {\n        text-align: right;\n    }\n</style>\n<table border=\"1\" class=\"dataframe\">\n  <thead>\n    <tr style=\"text-align: right;\">\n      <th></th>\n      <th>sepal length (cm)</th>\n      <th>sepal width (cm)</th>\n      <th>petal length (cm)</th>\n      <th>petal width (cm)</th>\n      <th>target</th>\n      <th>species</th>\n    </tr>\n  </thead>\n  <tbody>\n    <tr>\n      <th>96</th>\n      <td>4.276196</td>\n      <td>3.068572</td>\n      <td>1.900496</td>\n      <td>3.380141</td>\n      <td>1.0</td>\n      <td>versicolor</td>\n    </tr>\n    <tr>\n      <th>69</th>\n      <td>5.415813</td>\n      <td>2.037630</td>\n      <td>4.007877</td>\n      <td>0.279311</td>\n      <td>1.0</td>\n      <td>versicolor</td>\n    </tr>\n    <tr>\n      <th>95</th>\n      <td>5.404294</td>\n      <td>3.107105</td>\n      <td>3.528240</td>\n      <td>0.795328</td>\n      <td>1.0</td>\n      <td>versicolor</td>\n    </tr>\n    <tr>\n      <th>96</th>\n      <td>5.086108</td>\n      <td>2.650714</td>\n      <td>3.701677</td>\n      <td>0.560030</td>\n      <td>1.0</td>\n      <td>versicolor</td>\n    </tr>\n    <tr>\n      <th>58</th>\n      <td>6.409069</td>\n      <td>1.412966</td>\n      <td>4.041549</td>\n      <td>0.881866</td>\n      <td>1.0</td>\n      <td>versicolor</td>\n    </tr>\n    <tr>\n      <th>...</th>\n      <td>...</td>\n      <td>...</td>\n      <td>...</td>\n      <td>...</td>\n      <td>...</td>\n      <td>...</td>\n    </tr>\n    <tr>\n      <th>54</th>\n      <td>7.110317</td>\n      <td>2.032726</td>\n      <td>2.883634</td>\n      <td>0.629163</td>\n      <td>1.0</td>\n      <td>versicolor</td>\n    </tr>\n    <tr>\n      <th>56</th>\n      <td>6.945130</td>\n      <td>4.193373</td>\n      <td>6.052742</td>\n      <td>0.745065</td>\n      <td>1.0</td>\n      <td>versicolor</td>\n    </tr>\n    <tr>\n      <th>86</th>\n      <td>6.979033</td>\n      <td>2.567021</td>\n      <td>4.241103</td>\n      <td>3.469673</td>\n      <td>1.0</td>\n      <td>versicolor</td>\n    </tr>\n    <tr>\n      <th>76</th>\n      <td>6.737270</td>\n      <td>2.461805</td>\n      <td>3.108090</td>\n      <td>1.260222</td>\n      <td>1.0</td>\n      <td>versicolor</td>\n    </tr>\n    <tr>\n      <th>69</th>\n      <td>6.220941</td>\n      <td>1.565042</td>\n      <td>3.378953</td>\n      <td>1.844146</td>\n      <td>1.0</td>\n      <td>versicolor</td>\n    </tr>\n  </tbody>\n</table>\n<p>500 rows × 6 columns</p>\n</div>"
     },
     "execution_count": 9,
     "metadata": {},
     "output_type": "execute_result"
    }
   ],
   "source": [
    "N2 = 500\n",
    "np.random.seed(20232)\n",
    "gauss_df_2 = pd.DataFrame(np.resize(np.random.normal(loc=0.0, scale=1.0, size=N2*4), (N2, 4)))\n",
    "\n",
    "versicolor_gauss_df = iris_df[iris_df['species']=='versicolor'].sample(n=N2, replace=True, random_state=20232)\n",
    "versicolor_gauss_df['sepal length (cm)'] += gauss_df_2[0].tolist()\n",
    "versicolor_gauss_df['sepal width (cm)'] += gauss_df_2[1].tolist()\n",
    "versicolor_gauss_df['petal length (cm)'] += gauss_df_2[2].tolist()\n",
    "versicolor_gauss_df['petal width (cm)'] += gauss_df_2[3].tolist()\n",
    "versicolor_gauss_df"
   ],
   "metadata": {
    "collapsed": false,
    "ExecuteTime": {
     "start_time": "2023-05-15T15:24:50.743544Z",
     "end_time": "2023-05-15T15:24:50.846648Z"
    }
   }
  },
  {
   "cell_type": "markdown",
   "source": [
    "# 2. Train autoencoder on setosa"
   ],
   "metadata": {
    "collapsed": false
   }
  },
  {
   "cell_type": "code",
   "execution_count": 12,
   "outputs": [],
   "source": [
    "import torch\n",
    "from torch import nn\n",
    "\n",
    "from sklearn.preprocessing import StandardScaler"
   ],
   "metadata": {
    "collapsed": false,
    "ExecuteTime": {
     "start_time": "2023-05-15T15:25:51.452535Z",
     "end_time": "2023-05-15T15:25:51.977273Z"
    }
   }
  },
  {
   "cell_type": "code",
   "execution_count": 10,
   "outputs": [],
   "source": [
    "\n",
    "class IrisAutoencoder(nn.Module):\n",
    "    def __init__(self):\n",
    "        super(IrisAutoencoder, self).__init__()\n",
    "        self.encoder = nn.Sequential(\n",
    "            nn.Linear(4, 2),\n",
    "            nn.ReLU(True)\n",
    "        )\n",
    "        self.decoder = nn.Sequential(\n",
    "            nn.Linear(2, 4),\n",
    "            nn.ReLU(True)\n",
    "        )\n",
    "\n",
    "    def forward(self, x):\n",
    "        x = self.encoder(x)\n",
    "        x = self.decoder(x)\n",
    "        return x\n"
   ],
   "metadata": {
    "collapsed": false
   }
  },
  {
   "cell_type": "code",
   "execution_count": 15,
   "outputs": [],
   "source": [
    "class IrisAutoencoder2(nn.Module):\n",
    "    def __init__(self):\n",
    "        super(IrisAutoencoder2, self).__init__()\n",
    "        self.encoder = nn.Sequential(\n",
    "            nn.Linear(4, 6),\n",
    "            nn.ReLU(True),\n",
    "            nn.Dropout(0.2),\n",
    "            nn.Linear(6, 2),\n",
    "            nn.ReLU(True)\n",
    "        )\n",
    "        self.decoder = nn.Sequential(\n",
    "            nn.Linear(2, 6),\n",
    "            nn.ReLU(True),\n",
    "            nn.Dropout(0.2),\n",
    "            nn.Linear(6, 4),\n",
    "            nn.ReLU(True)\n",
    "        )\n",
    "\n",
    "    def forward(self, x):\n",
    "        x = self.encoder(x)\n",
    "        x = self.decoder(x)\n",
    "        return x\n",
    "\n"
   ],
   "metadata": {
    "collapsed": false,
    "ExecuteTime": {
     "start_time": "2023-05-15T15:27:23.844589Z",
     "end_time": "2023-05-15T15:27:23.858621Z"
    }
   }
  },
  {
   "cell_type": "code",
   "execution_count": 10,
   "outputs": [
    {
     "data": {
      "text/plain": "array([[ 5.81167353,  2.97551504,  0.69812936,  0.73625079],\n       [ 4.89784016,  1.85870737,  4.25440726,  1.64060519],\n       [ 4.69890227,  0.27846785,  0.32347835, -0.02568196],\n       ...,\n       [ 4.96065931,  2.7651612 ,  0.60815656, -0.25318839],\n       [ 4.09321464,  2.89690717,  2.30585828,  0.8162469 ],\n       [ 4.04743053,  4.41146427,  0.86893815, -0.64907156]])"
     },
     "execution_count": 10,
     "metadata": {},
     "output_type": "execute_result"
    }
   ],
   "source": [
    "X = setosa_gauss_df.iloc[:int(N/2)][['sepal length (cm)', 'sepal width (cm)', 'petal length (cm)', 'petal width (cm)']].to_numpy()\n",
    "X"
   ],
   "metadata": {
    "collapsed": false,
    "ExecuteTime": {
     "start_time": "2023-05-15T15:25:06.176454Z",
     "end_time": "2023-05-15T15:25:06.277870Z"
    }
   }
  },
  {
   "cell_type": "code",
   "execution_count": 13,
   "outputs": [],
   "source": [
    "# Normalization\n",
    "scaler = StandardScaler()\n",
    "X_scaled = scaler.fit_transform(X)\n",
    "\n",
    "X_scaled_pt = torch.FloatTensor(X_scaled)\n"
   ],
   "metadata": {
    "collapsed": false,
    "ExecuteTime": {
     "start_time": "2023-05-15T15:25:55.247422Z",
     "end_time": "2023-05-15T15:25:55.334866Z"
    }
   }
  },
  {
   "cell_type": "code",
   "execution_count": 139,
   "outputs": [
    {
     "name": "stdout",
     "output_type": "stream",
     "text": [
      "epoch 1000/10000, loss=0.7600\n",
      "epoch 2000/10000, loss=0.7488\n",
      "epoch 3000/10000, loss=0.7405\n",
      "epoch 4000/10000, loss=0.7392\n",
      "epoch 5000/10000, loss=0.7390\n",
      "epoch 6000/10000, loss=0.7390\n",
      "epoch 7000/10000, loss=0.7390\n",
      "epoch 8000/10000, loss=0.7390\n",
      "epoch 9000/10000, loss=0.7390\n",
      "epoch 10000/10000, loss=0.7390\n"
     ]
    }
   ],
   "source": [
    "model = IrisAutoencoder()\n",
    "criterion = nn.MSELoss()\n",
    "optimizer = torch.optim.Adam(model.parameters(), lr=0.001)\n",
    "\n",
    "num_epochs = 10_000\n",
    "for epoch in range(num_epochs):\n",
    "    output = model(X_scaled_pt)\n",
    "    loss = criterion(output, X_scaled_pt)\n",
    "    optimizer.zero_grad()\n",
    "    loss.backward()\n",
    "    optimizer.step()\n",
    "    if (epoch+1) % 1000 == 0:\n",
    "        print(f'epoch {epoch+1}/{num_epochs}, loss={loss.item():.4f}')\n"
   ],
   "metadata": {
    "collapsed": false,
    "ExecuteTime": {
     "start_time": "2023-05-14T21:37:02.344377Z",
     "end_time": "2023-05-14T21:37:06.520423Z"
    }
   }
  },
  {
   "cell_type": "code",
   "execution_count": 17,
   "outputs": [
    {
     "name": "stdout",
     "output_type": "stream",
     "text": [
      "mkdir: cannot create directory ‘/home/mmozolewski/notebooks/jgama/’: File exists\r\n"
     ]
    }
   ],
   "source": [
    "! mkdir /home/mmozolewski/notebooks/jgama/\n",
    "DATA_DIRECTORY = '/home/mmozolewski/notebooks/jgama/'"
   ],
   "metadata": {
    "collapsed": false,
    "ExecuteTime": {
     "start_time": "2023-05-15T15:27:44.583076Z",
     "end_time": "2023-05-15T15:27:44.725071Z"
    }
   }
  },
  {
   "cell_type": "code",
   "execution_count": 32,
   "outputs": [],
   "source": [
    "torch.save(model.state_dict(), f'{DATA_DIRECTORY}\\IrisAutoencoder_v1')"
   ],
   "metadata": {
    "collapsed": false
   }
  },
  {
   "cell_type": "code",
   "execution_count": 150,
   "outputs": [
    {
     "data": {
      "text/plain": "IrisAutoencoder(\n  (encoder): Sequential(\n    (0): Linear(in_features=4, out_features=2, bias=True)\n    (1): ReLU(inplace=True)\n  )\n  (decoder): Sequential(\n    (0): Linear(in_features=2, out_features=4, bias=True)\n    (1): ReLU(inplace=True)\n  )\n)"
     },
     "execution_count": 150,
     "metadata": {},
     "output_type": "execute_result"
    }
   ],
   "source": [
    "# Initialize the model\n",
    "model = IrisAutoencoder()\n",
    "model.load_state_dict(torch.load(f'{DATA_DIRECTORY}\\IrisAutoencoder_v1'))\n",
    "\n",
    "# Make sure to call input.eval() to set dropout and batch normalization layers\n",
    "# to evaluation mode before running inference. Failing to do this will yield\n",
    "# inconsistent inference results.\n",
    "model.eval()\n"
   ],
   "metadata": {
    "collapsed": false,
    "ExecuteTime": {
     "start_time": "2023-05-14T21:41:50.599959Z",
     "end_time": "2023-05-14T21:41:50.696101Z"
    }
   }
  },
  {
   "cell_type": "code",
   "execution_count": 146,
   "outputs": [
    {
     "name": "stdout",
     "output_type": "stream",
     "text": [
      "epoch 1000/100000, loss=1.0192\n",
      "epoch 2000/100000, loss=1.0200\n",
      "epoch 3000/100000, loss=1.0196\n",
      "epoch 4000/100000, loss=1.0168\n",
      "epoch 5000/100000, loss=1.0218\n",
      "epoch 6000/100000, loss=1.0211\n",
      "epoch 7000/100000, loss=1.0236\n",
      "epoch 8000/100000, loss=1.0200\n",
      "epoch 9000/100000, loss=1.0194\n",
      "epoch 10000/100000, loss=1.0198\n",
      "epoch 11000/100000, loss=1.0197\n",
      "epoch 12000/100000, loss=1.0245\n",
      "epoch 13000/100000, loss=1.0228\n",
      "epoch 14000/100000, loss=1.0241\n",
      "epoch 15000/100000, loss=1.0201\n",
      "epoch 16000/100000, loss=1.0195\n",
      "epoch 17000/100000, loss=1.0209\n",
      "epoch 18000/100000, loss=1.0246\n",
      "epoch 19000/100000, loss=1.0253\n",
      "epoch 20000/100000, loss=1.0240\n",
      "epoch 21000/100000, loss=1.0190\n",
      "epoch 22000/100000, loss=1.0229\n",
      "epoch 23000/100000, loss=1.0211\n",
      "epoch 24000/100000, loss=1.0202\n",
      "epoch 25000/100000, loss=1.0236\n",
      "epoch 26000/100000, loss=1.0163\n",
      "epoch 27000/100000, loss=1.0243\n",
      "epoch 28000/100000, loss=1.0225\n",
      "epoch 29000/100000, loss=1.0212\n",
      "epoch 30000/100000, loss=1.0200\n",
      "epoch 31000/100000, loss=1.0187\n",
      "epoch 32000/100000, loss=1.0195\n",
      "epoch 33000/100000, loss=1.0189\n",
      "epoch 34000/100000, loss=1.0226\n",
      "epoch 35000/100000, loss=1.0184\n",
      "epoch 36000/100000, loss=1.0209\n",
      "epoch 37000/100000, loss=1.0196\n",
      "epoch 38000/100000, loss=1.0192\n",
      "epoch 39000/100000, loss=1.0183\n",
      "epoch 40000/100000, loss=1.0260\n",
      "epoch 41000/100000, loss=1.0220\n",
      "epoch 42000/100000, loss=1.0214\n",
      "epoch 43000/100000, loss=1.0193\n",
      "epoch 44000/100000, loss=1.0260\n",
      "epoch 45000/100000, loss=1.0205\n",
      "epoch 46000/100000, loss=1.0188\n",
      "epoch 47000/100000, loss=1.0218\n",
      "epoch 48000/100000, loss=1.0204\n",
      "epoch 49000/100000, loss=1.0238\n",
      "epoch 50000/100000, loss=1.0222\n",
      "epoch 51000/100000, loss=1.0203\n",
      "epoch 52000/100000, loss=1.0240\n",
      "epoch 53000/100000, loss=1.0182\n",
      "epoch 54000/100000, loss=1.0230\n",
      "epoch 55000/100000, loss=1.0179\n",
      "epoch 56000/100000, loss=1.0222\n",
      "epoch 57000/100000, loss=1.0219\n",
      "epoch 58000/100000, loss=1.0202\n",
      "epoch 59000/100000, loss=1.0207\n",
      "epoch 60000/100000, loss=1.0220\n",
      "epoch 61000/100000, loss=1.0183\n",
      "epoch 62000/100000, loss=1.0206\n",
      "epoch 63000/100000, loss=1.0186\n",
      "epoch 64000/100000, loss=1.0222\n",
      "epoch 65000/100000, loss=1.0201\n",
      "epoch 66000/100000, loss=1.0198\n",
      "epoch 67000/100000, loss=1.0243\n",
      "epoch 68000/100000, loss=1.0198\n",
      "epoch 69000/100000, loss=1.0213\n",
      "epoch 70000/100000, loss=1.0175\n",
      "epoch 71000/100000, loss=1.0235\n",
      "epoch 72000/100000, loss=1.0141\n",
      "epoch 73000/100000, loss=1.0179\n",
      "epoch 74000/100000, loss=1.0204\n",
      "epoch 75000/100000, loss=1.0191\n",
      "epoch 76000/100000, loss=1.0185\n",
      "epoch 77000/100000, loss=1.0203\n",
      "epoch 78000/100000, loss=1.0183\n",
      "epoch 79000/100000, loss=1.0186\n",
      "epoch 80000/100000, loss=1.0201\n",
      "epoch 81000/100000, loss=1.0218\n",
      "epoch 82000/100000, loss=1.0132\n",
      "epoch 83000/100000, loss=1.0188\n",
      "epoch 84000/100000, loss=1.0149\n",
      "epoch 85000/100000, loss=1.0231\n",
      "epoch 86000/100000, loss=1.0254\n",
      "epoch 87000/100000, loss=1.0217\n",
      "epoch 88000/100000, loss=1.0262\n",
      "epoch 89000/100000, loss=1.0206\n",
      "epoch 90000/100000, loss=1.0228\n",
      "epoch 91000/100000, loss=1.0255\n",
      "epoch 92000/100000, loss=1.0198\n",
      "epoch 93000/100000, loss=1.0227\n",
      "epoch 94000/100000, loss=1.0207\n",
      "epoch 95000/100000, loss=1.0182\n",
      "epoch 96000/100000, loss=1.0265\n",
      "epoch 97000/100000, loss=1.0243\n",
      "epoch 98000/100000, loss=1.0207\n",
      "epoch 99000/100000, loss=1.0177\n",
      "epoch 100000/100000, loss=1.0222\n"
     ]
    }
   ],
   "source": [
    "model2 = IrisAutoencoder2()\n",
    "criterion = nn.MSELoss()\n",
    "# optimizer = torch.optim.Adam(model.parameters(), lr=0.001, weight_decay=1e-5) # ?!\n",
    "optimizer = torch.optim.Adam(model2.parameters(), lr=0.0001, weight_decay=1e-5)\n",
    "\n",
    "num_epochs = 100_000\n",
    "for epoch in range(num_epochs):\n",
    "    output = model2(X_scaled_pt)\n",
    "    loss = criterion(output, X_scaled_pt)\n",
    "    optimizer.zero_grad()\n",
    "    loss.backward()\n",
    "    optimizer.step()\n",
    "    if (epoch+1) % 1000 == 0:\n",
    "        print(f'epoch {epoch+1}/{num_epochs}, loss={loss.item():.4f}')\n"
   ],
   "metadata": {
    "collapsed": false,
    "ExecuteTime": {
     "start_time": "2023-05-14T21:39:38.996312Z",
     "end_time": "2023-05-14T21:40:52.022130Z"
    }
   }
  },
  {
   "cell_type": "code",
   "execution_count": 83,
   "outputs": [],
   "source": [
    "torch.save(model2.state_dict(), f'{DATA_DIRECTORY}\\IrisAutoencoder_v2.pht')"
   ],
   "metadata": {
    "collapsed": false,
    "ExecuteTime": {
     "start_time": "2023-05-14T21:18:18.189322Z",
     "end_time": "2023-05-14T21:18:18.281445Z"
    }
   }
  },
  {
   "cell_type": "code",
   "execution_count": 18,
   "outputs": [
    {
     "data": {
      "text/plain": "IrisAutoencoder2(\n  (encoder): Sequential(\n    (0): Linear(in_features=4, out_features=6, bias=True)\n    (1): ReLU(inplace=True)\n    (2): Dropout(p=0.2, inplace=False)\n    (3): Linear(in_features=6, out_features=2, bias=True)\n    (4): ReLU(inplace=True)\n  )\n  (decoder): Sequential(\n    (0): Linear(in_features=2, out_features=6, bias=True)\n    (1): ReLU(inplace=True)\n    (2): Dropout(p=0.2, inplace=False)\n    (3): Linear(in_features=6, out_features=4, bias=True)\n    (4): ReLU(inplace=True)\n  )\n)"
     },
     "execution_count": 18,
     "metadata": {},
     "output_type": "execute_result"
    }
   ],
   "source": [
    "# Load model\n",
    "model2 = IrisAutoencoder2()\n",
    "model2.load_state_dict(torch.load(f'{DATA_DIRECTORY}\\IrisAutoencoder_v2.pht'))\n",
    "model2.eval()"
   ],
   "metadata": {
    "collapsed": false,
    "ExecuteTime": {
     "start_time": "2023-05-15T15:27:53.867775Z",
     "end_time": "2023-05-15T15:27:53.999172Z"
    }
   }
  },
  {
   "cell_type": "code",
   "execution_count": 116,
   "outputs": [],
   "source": [
    "torch.save(model2.state_dict(), f'{DATA_DIRECTORY}\\IrisAutoencoder_v2b.pht')"
   ],
   "metadata": {
    "collapsed": false,
    "ExecuteTime": {
     "start_time": "2023-05-14T21:28:33.605089Z",
     "end_time": "2023-05-14T21:28:33.697162Z"
    }
   }
  },
  {
   "cell_type": "code",
   "execution_count": 34,
   "outputs": [
    {
     "data": {
      "text/plain": "IrisAutoencoder2(\n  (encoder): Sequential(\n    (0): Linear(in_features=4, out_features=6, bias=True)\n    (1): ReLU(inplace=True)\n    (2): Dropout(p=0.2, inplace=False)\n    (3): Linear(in_features=6, out_features=2, bias=True)\n    (4): ReLU(inplace=True)\n  )\n  (decoder): Sequential(\n    (0): Linear(in_features=2, out_features=6, bias=True)\n    (1): ReLU(inplace=True)\n    (2): Dropout(p=0.2, inplace=False)\n    (3): Linear(in_features=6, out_features=4, bias=True)\n    (4): ReLU(inplace=True)\n  )\n)"
     },
     "execution_count": 34,
     "metadata": {},
     "output_type": "execute_result"
    }
   ],
   "source": [
    "# Load model\n",
    "model2 = IrisAutoencoder2()\n",
    "model2.load_state_dict(torch.load(f'{DATA_DIRECTORY}\\IrisAutoencoder_v2b.pht'))\n",
    "model2.eval()"
   ],
   "metadata": {
    "collapsed": false,
    "ExecuteTime": {
     "start_time": "2023-05-15T15:38:07.543939Z",
     "end_time": "2023-05-15T15:38:07.633970Z"
    }
   }
  },
  {
   "cell_type": "code",
   "execution_count": 149,
   "outputs": [],
   "source": [
    "torch.save(model2.state_dict(), f'{DATA_DIRECTORY}\\IrisAutoencoder_v2c.pht')"
   ],
   "metadata": {
    "collapsed": false,
    "ExecuteTime": {
     "start_time": "2023-05-14T21:41:40.414934Z",
     "end_time": "2023-05-14T21:41:40.510965Z"
    }
   }
  },
  {
   "cell_type": "code",
   "execution_count": 37,
   "outputs": [
    {
     "data": {
      "text/plain": "IrisAutoencoder2(\n  (encoder): Sequential(\n    (0): Linear(in_features=4, out_features=6, bias=True)\n    (1): ReLU(inplace=True)\n    (2): Dropout(p=0.2, inplace=False)\n    (3): Linear(in_features=6, out_features=2, bias=True)\n    (4): ReLU(inplace=True)\n  )\n  (decoder): Sequential(\n    (0): Linear(in_features=2, out_features=6, bias=True)\n    (1): ReLU(inplace=True)\n    (2): Dropout(p=0.2, inplace=False)\n    (3): Linear(in_features=6, out_features=4, bias=True)\n    (4): ReLU(inplace=True)\n  )\n)"
     },
     "execution_count": 37,
     "metadata": {},
     "output_type": "execute_result"
    }
   ],
   "source": [
    "# Load model\n",
    "model2 = IrisAutoencoder2()\n",
    "model2.load_state_dict(torch.load(f'{DATA_DIRECTORY}\\IrisAutoencoder_v2c.pht'))\n",
    "model2.eval()"
   ],
   "metadata": {
    "collapsed": false,
    "ExecuteTime": {
     "start_time": "2023-05-15T15:39:02.603026Z",
     "end_time": "2023-05-15T15:39:02.732102Z"
    }
   }
  },
  {
   "cell_type": "markdown",
   "source": [
    "# 3. Test autoencoder, visualise losses and choose cutoff"
   ],
   "metadata": {
    "collapsed": false
   }
  },
  {
   "cell_type": "code",
   "execution_count": 19,
   "outputs": [
    {
     "data": {
      "text/plain": "array([[4.27619562, 3.06857233, 1.90049558, 3.38014125],\n       [5.41581271, 2.0376301 , 4.00787717, 0.27931071],\n       [5.40429387, 3.10710474, 3.52823969, 0.79532768],\n       ...,\n       [6.9790333 , 2.56702146, 4.24110258, 3.46967272],\n       [6.73727018, 2.46180466, 3.10809038, 1.26022235],\n       [6.22094096, 1.56504156, 3.37895279, 1.84414599]])"
     },
     "execution_count": 19,
     "metadata": {},
     "output_type": "execute_result"
    }
   ],
   "source": [
    "X_setosa = setosa_gauss_df.iloc[int(N/2):][['sepal length (cm)', 'sepal width (cm)', 'petal length (cm)', 'petal width (cm)']].to_numpy()\n",
    "X_versicolor = versicolor_gauss_df[['sepal length (cm)', 'sepal width (cm)', 'petal length (cm)', 'petal width (cm)']].to_numpy()\n",
    "X_versicolor"
   ],
   "metadata": {
    "collapsed": false,
    "ExecuteTime": {
     "start_time": "2023-05-15T15:28:06.546654Z",
     "end_time": "2023-05-15T15:28:06.646286Z"
    }
   }
  },
  {
   "cell_type": "code",
   "execution_count": 20,
   "outputs": [],
   "source": [
    "X_setosa = scaler.transform(X_setosa)\n",
    "X_versicolor = scaler.transform(X_versicolor)"
   ],
   "metadata": {
    "collapsed": false,
    "ExecuteTime": {
     "start_time": "2023-05-15T15:28:42.819894Z",
     "end_time": "2023-05-15T15:28:42.911207Z"
    }
   }
  },
  {
   "cell_type": "code",
   "execution_count": 21,
   "outputs": [],
   "source": [
    "X_setosa_pt = torch.FloatTensor(X_setosa)\n",
    "X_versicolor_pt = torch.FloatTensor(X_versicolor)"
   ],
   "metadata": {
    "collapsed": false,
    "ExecuteTime": {
     "start_time": "2023-05-15T15:28:46.239832Z",
     "end_time": "2023-05-15T15:28:46.334349Z"
    }
   }
  },
  {
   "cell_type": "code",
   "execution_count": 22,
   "outputs": [],
   "source": [
    "def print_loss(X_tensor, model):\n",
    "    model.eval()\n",
    "    with torch.no_grad():\n",
    "        output = model(X_tensor)\n",
    "        loss = criterion(output, X_tensor)\n",
    "\n",
    "    print('Test Loss:', loss.item())"
   ],
   "metadata": {
    "collapsed": false,
    "ExecuteTime": {
     "start_time": "2023-05-15T15:29:01.854214Z",
     "end_time": "2023-05-15T15:29:01.955527Z"
    }
   }
  },
  {
   "cell_type": "code",
   "execution_count": 78,
   "outputs": [
    {
     "name": "stdout",
     "output_type": "stream",
     "text": [
      "Test Loss: 0.7615812420845032\n",
      "Test Loss: 1.127249002456665\n"
     ]
    }
   ],
   "source": [
    "print_loss(X_setosa_pt, model)\n",
    "print_loss(X_versicolor_pt, model)"
   ],
   "metadata": {
    "collapsed": false
   }
  },
  {
   "cell_type": "code",
   "execution_count": 27,
   "outputs": [],
   "source": [
    "def get_losses(X_tensor, model):\n",
    "    losses = []\n",
    "    _criterion = nn.MSELoss()\n",
    "    with torch.no_grad():\n",
    "        for sample in X_tensor:\n",
    "            output = model(sample)\n",
    "            loss = _criterion(output, sample)\n",
    "            losses.append(loss.item())\n",
    "\n",
    "    # Choose a cutoff value\n",
    "    cutoff = sum(losses) / len(losses)\n",
    "    print('Cutoff Loss:', cutoff)\n",
    "\n",
    "    return losses, cutoff"
   ],
   "metadata": {
    "collapsed": false,
    "ExecuteTime": {
     "start_time": "2023-05-15T15:33:12.721755Z",
     "end_time": "2023-05-15T15:33:12.750008Z"
    }
   }
  },
  {
   "cell_type": "code",
   "execution_count": 151,
   "outputs": [
    {
     "name": "stdout",
     "output_type": "stream",
     "text": [
      "Cutoff Loss: 0.7615812552487478\n",
      "Cutoff Loss: 1.127248913921416\n"
     ]
    },
    {
     "data": {
      "text/plain": "<Figure size 640x480 with 1 Axes>",
      "image/png": "[encoded data removed]"
     },
     "metadata": {},
     "output_type": "display_data"
    }
   ],
   "source": [
    "losses_setosa, cutoff_setosa = get_losses(X_setosa_pt, model)\n",
    "losses_versicolor, cutoff_versicolor = get_losses(X_versicolor_pt, model)\n",
    "\n",
    "plt.hist(losses_setosa, bins=30)\n",
    "plt.hist(losses_versicolor, bins=30)\n",
    "plt.axvline(cutoff_setosa, color='r', linestyle='dashed', linewidth=2)\n",
    "# plt.axvline(cutoff_versicolor, color='g', linestyle='dashed', linewidth=2)\n",
    "plt.title('Distribution of Losses')\n",
    "plt.xlabel('Loss')\n",
    "plt.ylabel('Frequency')\n",
    "plt.show()"
   ],
   "metadata": {
    "collapsed": false,
    "ExecuteTime": {
     "start_time": "2023-05-14T21:41:58.183081Z",
     "end_time": "2023-05-14T21:41:58.390522Z"
    }
   }
  },
  {
   "cell_type": "code",
   "execution_count": 30,
   "outputs": [],
   "source": [
    "# Concatenate to form the test set\n",
    "X_test = np.concatenate((X_setosa, X_versicolor))\n",
    "y_test = np.concatenate((np.zeros(len(X_setosa)), np.ones(len(X_versicolor))))\n",
    "\n",
    "# Convert to tensors\n",
    "X_test_pt = torch.FloatTensor(X_test)"
   ],
   "metadata": {
    "collapsed": false,
    "ExecuteTime": {
     "start_time": "2023-05-15T15:34:19.218811Z",
     "end_time": "2023-05-15T15:34:19.319933Z"
    }
   }
  },
  {
   "cell_type": "code",
   "execution_count": 161,
   "outputs": [
    {
     "name": "stdout",
     "output_type": "stream",
     "text": [
      "Cutoff Loss: 0.9444150845850818\n",
      "Best Threshold=0.656179, G-Mean=0.622\n"
     ]
    },
    {
     "data": {
      "text/plain": "<Figure size 640x480 with 1 Axes>",
      "image/png": "[encoded data removed]"
     },
     "metadata": {},
     "output_type": "display_data"
    }
   ],
   "source": [
    "losses, _ = get_losses(X_test_pt, model)\n",
    "\n",
    "# Compute ROC curve\n",
    "fpr, tpr, thresholds = roc_curve(y_test, losses, pos_label=1)\n",
    "roc_auc = auc(fpr, tpr)\n",
    "gmeans = sqrt(tpr * (1-fpr))\n",
    "# locate the index of the largest g-mean\n",
    "ix = argmax(gmeans)\n",
    "print('Best Threshold=%f, G-Mean=%.3f' % (thresholds[ix], gmeans[ix]))\n",
    "\n",
    "# Plot ROC curve\n",
    "plt.figure()\n",
    "plt.plot(fpr, tpr, color='darkorange', label='ROC curve (area = %0.2f)' % roc_auc)\n",
    "plt.plot([0, 1], [0, 1], color='navy', linestyle='--')\n",
    "plt.scatter(fpr[ix], tpr[ix], marker='o', color='black', label='Best')\n",
    "plt.xlim([0.0, 1.0])\n",
    "plt.ylim([0.0, 1.05])\n",
    "plt.xlabel('False Positive Rate')\n",
    "plt.ylabel('True Positive Rate')\n",
    "plt.title('Receiver Operating Characteristic')\n",
    "plt.legend(loc=\"lower right\")\n",
    "plt.show()"
   ],
   "metadata": {
    "collapsed": false,
    "ExecuteTime": {
     "start_time": "2023-05-15T07:37:53.919256Z",
     "end_time": "2023-05-15T07:37:54.309727Z"
    }
   }
  },
  {
   "cell_type": "code",
   "execution_count": 38,
   "outputs": [
    {
     "name": "stdout",
     "output_type": "stream",
     "text": [
      "Cutoff Loss: 1.0431123995631932\n",
      "Cutoff Loss: 3.184222687423229\n"
     ]
    },
    {
     "data": {
      "text/plain": "<Figure size 640x480 with 1 Axes>",
      "image/png": "[encoded data removed]"
     },
     "metadata": {},
     "output_type": "display_data"
    }
   ],
   "source": [
    "losses_setosa, cutoff_setosa = get_losses(X_setosa_pt, model2)  # IrisAutoencoder_v2b.pht\n",
    "losses_versicolor, cutoff_versicolor = get_losses(X_versicolor_pt, model2)\n",
    "\n",
    "plt.hist(losses_setosa, bins=30)\n",
    "plt.hist(losses_versicolor, bins=30)\n",
    "plt.axvline(cutoff_setosa, color='r', linestyle='dashed', linewidth=2)\n",
    "# plt.axvline(cutoff_versicolor, color='g', linestyle='dashed', linewidth=2)\n",
    "plt.title('Distribution of Losses')\n",
    "plt.xlabel('Loss')\n",
    "plt.ylabel('Frequency')\n",
    "plt.show()"
   ],
   "metadata": {
    "collapsed": false,
    "ExecuteTime": {
     "start_time": "2023-05-15T15:39:16.956843Z",
     "end_time": "2023-05-15T15:39:17.225759Z"
    }
   }
  },
  {
   "cell_type": "code",
   "execution_count": 154,
   "outputs": [
    {
     "name": "stdout",
     "output_type": "stream",
     "text": [
      "Cutoff Loss: 1.0459250102564692\n",
      "Cutoff Loss: 3.1875712818205355\n"
     ]
    },
    {
     "data": {
      "text/plain": "<Figure size 640x480 with 1 Axes>",
      "image/png": "[encoded data removed]"
     },
     "metadata": {},
     "output_type": "display_data"
    }
   ],
   "source": [
    "losses_setosa, cutoff_setosa = get_losses(X_setosa_pt, model2)\n",
    "losses_versicolor, cutoff_versicolor = get_losses(X_versicolor_pt, model2)\n",
    "\n",
    "plt.hist(losses_setosa, bins=30)\n",
    "plt.hist(losses_versicolor, bins=30)\n",
    "plt.axvline(cutoff_setosa, color='r', linestyle='dashed', linewidth=2)\n",
    "# plt.axvline(cutoff_versicolor, color='g', linestyle='dashed', linewidth=2)\n",
    "plt.title('Distribution of Losses')\n",
    "plt.xlabel('Loss')\n",
    "plt.ylabel('Frequency')\n",
    "plt.show()"
   ],
   "metadata": {
    "collapsed": false,
    "ExecuteTime": {
     "start_time": "2023-05-14T21:42:07.714107Z",
     "end_time": "2023-05-14T21:42:07.933816Z"
    }
   }
  },
  {
   "cell_type": "code",
   "execution_count": 39,
   "outputs": [
    {
     "name": "stdout",
     "output_type": "stream",
     "text": [
      "Cutoff Loss: 2.1136675434932113\n",
      "Best Threshold=1.703227, G-Mean=0.817\n"
     ]
    },
    {
     "data": {
      "text/plain": "<Figure size 640x480 with 1 Axes>",
      "image/png": "[encoded data removed]"
     },
     "metadata": {},
     "output_type": "display_data"
    }
   ],
   "source": [
    "losses_2, _ = get_losses(X_test_pt, model2)\n",
    "\n",
    "# Compute ROC curve\n",
    "fpr, tpr, thresholds = roc_curve(y_test, losses_2, pos_label=1)\n",
    "roc_auc = auc(fpr, tpr)\n",
    "gmeans = sqrt(tpr * (1-fpr))\n",
    "# locate the index of the largest g-mean\n",
    "ix = argmax(gmeans)\n",
    "print('Best Threshold=%f, G-Mean=%.3f' % (thresholds[ix], gmeans[ix]))\n",
    "\n",
    "# Plot ROC curve\n",
    "plt.figure()\n",
    "plt.plot(fpr, tpr, color='darkorange', label='ROC curve (area = %0.2f)' % roc_auc)\n",
    "plt.plot([0, 1], [0, 1], color='navy', linestyle='--')\n",
    "plt.scatter(fpr[ix], tpr[ix], marker='o', color='black', label='Best')\n",
    "plt.xlim([0.0, 1.0])\n",
    "plt.ylim([0.0, 1.05])\n",
    "plt.xlabel('False Positive Rate')\n",
    "plt.ylabel('True Positive Rate')\n",
    "plt.title('Receiver Operating Characteristic')\n",
    "plt.legend(loc=\"lower right\")\n",
    "plt.show()"
   ],
   "metadata": {
    "collapsed": false,
    "ExecuteTime": {
     "start_time": "2023-05-15T15:39:30.761283Z",
     "end_time": "2023-05-15T15:39:31.101785Z"
    }
   }
  },
  {
   "cell_type": "code",
   "execution_count": 162,
   "outputs": [
    {
     "name": "stdout",
     "output_type": "stream",
     "text": [
      "Cutoff Loss: 2.1171335038375108\n",
      "Best Threshold=1.571099, G-Mean=0.818\n"
     ]
    },
    {
     "data": {
      "text/plain": "<Figure size 640x480 with 1 Axes>",
      "image/png": "[encoded data removed]"
     },
     "metadata": {},
     "output_type": "display_data"
    }
   ],
   "source": [
    "losses_2, _ = get_losses(X_test_pt, model2)  # IrisAutoencoder_v2b.pht\n",
    "\n",
    "# Compute ROC curve\n",
    "fpr, tpr, thresholds = roc_curve(y_test, losses_2, pos_label=1)\n",
    "roc_auc = auc(fpr, tpr)\n",
    "gmeans = sqrt(tpr * (1-fpr))\n",
    "# locate the index of the largest g-mean\n",
    "ix = argmax(gmeans)\n",
    "print('Best Threshold=%f, G-Mean=%.3f' % (thresholds[ix], gmeans[ix]))\n",
    "\n",
    "# Plot ROC curve\n",
    "plt.figure()\n",
    "plt.plot(fpr, tpr, color='darkorange', label='ROC curve (area = %0.2f)' % roc_auc)\n",
    "plt.plot([0, 1], [0, 1], color='navy', linestyle='--')\n",
    "plt.scatter(fpr[ix], tpr[ix], marker='o', color='black', label='Best')\n",
    "plt.xlim([0.0, 1.0])\n",
    "plt.ylim([0.0, 1.05])\n",
    "plt.xlabel('False Positive Rate')\n",
    "plt.ylabel('True Positive Rate')\n",
    "plt.title('Receiver Operating Characteristic')\n",
    "plt.legend(loc=\"lower right\")\n",
    "plt.show()"
   ],
   "metadata": {
    "collapsed": false,
    "ExecuteTime": {
     "start_time": "2023-05-15T07:38:06.414021Z",
     "end_time": "2023-05-15T07:38:06.773905Z"
    }
   }
  },
  {
   "cell_type": "markdown",
   "source": [
    "# 4. Rule-based explainer"
   ],
   "metadata": {
    "collapsed": false
   }
  },
  {
   "cell_type": "code",
   "execution_count": 173,
   "outputs": [
    {
     "name": "stdout",
     "output_type": "stream",
     "text": [
      "# conda environments:\r\n",
      "#\r\n",
      "base                  *  /home/mmozolewski/anaconda3\r\n",
      "fresh                    /home/mmozolewski/anaconda3/envs/fresh\r\n",
      "py37                     /home/mmozolewski/anaconda3/envs/py37\r\n",
      "\r\n"
     ]
    }
   ],
   "source": [
    "! conda info --envs"
   ],
   "metadata": {
    "collapsed": false,
    "ExecuteTime": {
     "start_time": "2023-05-15T13:15:54.454322Z",
     "end_time": "2023-05-15T13:15:55.520180Z"
    }
   }
  },
  {
   "cell_type": "code",
   "execution_count": 198,
   "outputs": [
    {
     "name": "stdout",
     "output_type": "stream",
     "text": [
      "Collecting package metadata (current_repodata.json): done\r\n",
      "Solving environment: done\r\n",
      "\r\n",
      "## Package Plan ##\r\n",
      "\r\n",
      "  environment location: /home/mmozolewski/anaconda3\r\n",
      "\r\n",
      "  added / updated specs:\r\n",
      "    - jpype1\r\n",
      "\r\n",
      "\r\n",
      "The following packages will be downloaded:\r\n",
      "\r\n",
      "    package                    |            build\r\n",
      "    ---------------------------|-----------------\r\n",
      "    jpype1-1.4.1               |   py39hdb19cb5_0         459 KB\r\n",
      "    ------------------------------------------------------------\r\n",
      "                                           Total:         459 KB\r\n",
      "\r\n",
      "The following NEW packages will be INSTALLED:\r\n",
      "\r\n",
      "  jpype1             pkgs/main/linux-64::jpype1-1.4.1-py39hdb19cb5_0 \r\n",
      "\r\n",
      "\r\n",
      "\r\n",
      "Downloading and Extracting Packages\r\n",
      "                                                                                \r\n",
      "Preparing transaction: done\r\n",
      "Verifying transaction: done\r\n",
      "Executing transaction: done\r\n",
      "Looking in indexes: https://pypi.org/simple, https://pypi.ngc.nvidia.com\r\n",
      "Requirement already satisfied: rulexai in ./.local/share/virtualenvs/notebooks-QRzocjuE/lib/python3.8/site-packages (1.0.0)\r\n",
      "Requirement already satisfied: numpy~=1.20.3 in ./.local/share/virtualenvs/notebooks-QRzocjuE/lib/python3.8/site-packages (from rulexai) (1.20.3)\r\n",
      "Requirement already satisfied: pandas~=1.2.1 in ./.local/share/virtualenvs/notebooks-QRzocjuE/lib/python3.8/site-packages (from rulexai) (1.2.5)\r\n",
      "Requirement already satisfied: matplotlib~=3.4.2 in ./.local/share/virtualenvs/notebooks-QRzocjuE/lib/python3.8/site-packages (from rulexai) (3.4.3)\r\n",
      "Requirement already satisfied: rulekit~=1.6.0 in ./.local/share/virtualenvs/notebooks-QRzocjuE/lib/python3.8/site-packages (from rulexai) (1.6.0)\r\n",
      "Requirement already satisfied: pillow>=6.2.0 in ./.local/share/virtualenvs/notebooks-QRzocjuE/lib/python3.8/site-packages (from matplotlib~=3.4.2->rulexai) (9.4.0)\r\n",
      "Requirement already satisfied: cycler>=0.10 in ./.local/share/virtualenvs/notebooks-QRzocjuE/lib/python3.8/site-packages (from matplotlib~=3.4.2->rulexai) (0.11.0)\r\n",
      "Requirement already satisfied: kiwisolver>=1.0.1 in ./.local/share/virtualenvs/notebooks-QRzocjuE/lib/python3.8/site-packages (from matplotlib~=3.4.2->rulexai) (1.4.4)\r\n",
      "Requirement already satisfied: python-dateutil>=2.7 in ./.local/share/virtualenvs/notebooks-QRzocjuE/lib/python3.8/site-packages (from matplotlib~=3.4.2->rulexai) (2.8.2)\r\n",
      "Requirement already satisfied: pyparsing>=2.2.1 in ./.local/share/virtualenvs/notebooks-QRzocjuE/lib/python3.8/site-packages (from matplotlib~=3.4.2->rulexai) (3.0.9)\r\n",
      "Requirement already satisfied: pytz>=2017.3 in ./.local/share/virtualenvs/notebooks-QRzocjuE/lib/python3.8/site-packages (from pandas~=1.2.1->rulexai) (2022.7.1)\r\n",
      "Requirement already satisfied: six>=1.5 in ./.local/share/virtualenvs/notebooks-QRzocjuE/lib/python3.8/site-packages (from python-dateutil>=2.7->matplotlib~=3.4.2->rulexai) (1.16.0)\r\n",
      "Requirement already satisfied: requests~=2.25.1 in ./.local/share/virtualenvs/notebooks-QRzocjuE/lib/python3.8/site-packages (from rulekit~=1.6.0->rulexai) (2.25.1)\r\n",
      "Requirement already satisfied: joblib~=1.0.0 in ./.local/share/virtualenvs/notebooks-QRzocjuE/lib/python3.8/site-packages (from rulekit~=1.6.0->rulexai) (1.0.1)\r\n",
      "Requirement already satisfied: scipy~=1.6.0 in ./.local/share/virtualenvs/notebooks-QRzocjuE/lib/python3.8/site-packages (from rulekit~=1.6.0->rulexai) (1.6.3)\r\n",
      "Requirement already satisfied: JPype1~=1.2.1 in ./.local/share/virtualenvs/notebooks-QRzocjuE/lib/python3.8/site-packages (from rulekit~=1.6.0->rulexai) (1.2.1)\r\n",
      "Requirement already satisfied: scikit-learn~=0.24.1 in ./.local/share/virtualenvs/notebooks-QRzocjuE/lib/python3.8/site-packages (from rulekit~=1.6.0->rulexai) (0.24.2)\r\n",
      "Requirement already satisfied: chardet<5,>=3.0.2 in ./.local/share/virtualenvs/notebooks-QRzocjuE/lib/python3.8/site-packages (from requests~=2.25.1->rulekit~=1.6.0->rulexai) (4.0.0)\r\n",
      "Requirement already satisfied: certifi>=2017.4.17 in ./.local/share/virtualenvs/notebooks-QRzocjuE/lib/python3.8/site-packages (from requests~=2.25.1->rulekit~=1.6.0->rulexai) (2022.12.7)\r\n",
      "Requirement already satisfied: idna<3,>=2.5 in ./.local/share/virtualenvs/notebooks-QRzocjuE/lib/python3.8/site-packages (from requests~=2.25.1->rulekit~=1.6.0->rulexai) (2.10)\r\n",
      "Requirement already satisfied: urllib3<1.27,>=1.21.1 in ./.local/share/virtualenvs/notebooks-QRzocjuE/lib/python3.8/site-packages (from requests~=2.25.1->rulekit~=1.6.0->rulexai) (1.26.14)\r\n",
      "Requirement already satisfied: threadpoolctl>=2.0.0 in ./.local/share/virtualenvs/notebooks-QRzocjuE/lib/python3.8/site-packages (from scikit-learn~=0.24.1->rulekit~=1.6.0->rulexai) (3.1.0)\r\n"
     ]
    }
   ],
   "source": [
    "# ! conda install rulexai --yes\n",
    "# ! conda install --name base rulexai\n",
    "# ! conda install -c conda-forge rulexai\n",
    "! conda install JPype1 --yes\n",
    "! pip install rulexai"
   ],
   "metadata": {
    "collapsed": false,
    "ExecuteTime": {
     "start_time": "2023-05-15T13:42:23.906814Z",
     "end_time": "2023-05-15T13:42:53.525315Z"
    }
   }
  },
  {
   "cell_type": "code",
   "execution_count": 200,
   "outputs": [
    {
     "name": "stdout",
     "output_type": "stream",
     "text": [
      "Fetching latest RuleKit release version:  v1.5.2\r\n",
      "Downloading jar file: \"rulekit-1.5.2-all.jar\" from: \"https://github.com/adaa-polsl/RuleKit/releases/download/v1.5.2/rulekit-1.5.2-all.jar\"\r\n",
      "Download finished!\r\n",
      "Package is ready to use.\r\n"
     ]
    }
   ],
   "source": [
    "! python -m rulekit download_jar"
   ],
   "metadata": {
    "collapsed": false,
    "ExecuteTime": {
     "start_time": "2023-05-15T13:45:35.206354Z",
     "end_time": "2023-05-15T13:45:48.016639Z"
    }
   }
  },
  {
   "cell_type": "code",
   "execution_count": 185,
   "outputs": [
    {
     "name": "stdout",
     "output_type": "stream",
     "text": [
      "explainer.py\t__init__.py  __pycache__  rule.py\r\n",
      "importances.py\tmodels.py    reduct.py\r\n"
     ]
    }
   ],
   "source": [
    "! cd /home/mmozolewski/.local/share/virtualenvs/notebooks-QRzocjuE/lib/python3.8/site-packages/rulexai && ls"
   ],
   "metadata": {
    "collapsed": false,
    "ExecuteTime": {
     "start_time": "2023-05-15T13:36:38.554850Z",
     "end_time": "2023-05-15T13:36:38.763887Z"
    }
   }
  },
  {
   "cell_type": "code",
   "execution_count": 40,
   "outputs": [
    {
     "name": "stdout",
     "output_type": "stream",
     "text": [
      "/home/mmozolewski/.local/share/virtualenvs/notebooks-QRzocjuE/lib/python3.8/site-packages\n"
     ]
    }
   ],
   "source": [
    "import sys\n",
    "from pathlib import Path\n",
    "\n",
    "module_path = str(Path(\"~\").expanduser().resolve()) + \"/.local/share/virtualenvs/notebooks-QRzocjuE/lib/python3.8/site-packages\"\n",
    "print(module_path)\n",
    "if module_path not in sys.path:\n",
    "    sys.path.append(module_path)\n",
    "\n",
    "import rulexai"
   ],
   "metadata": {
    "collapsed": false,
    "ExecuteTime": {
     "start_time": "2023-05-15T15:40:47.533796Z",
     "end_time": "2023-05-15T15:40:47.543524Z"
    }
   }
  },
  {
   "cell_type": "markdown",
   "source": [
    "## Iris example from rulexai"
   ],
   "metadata": {
    "collapsed": false
   }
  },
  {
   "cell_type": "code",
   "execution_count": 209,
   "outputs": [
    {
     "name": "stdout",
     "output_type": "stream",
     "text": [
      "              2 | conditions_names 2 | importances  \\\n",
      "0  petal length (cm) = <4.75, inf)        0.533665   \n",
      "1   petal width (cm) = <1.55, inf)         0.43442   \n",
      "2                                -               -   \n",
      "3                                -               -   \n",
      "4                                -               -   \n",
      "5                                -               -   \n",
      "6                                -               -   \n",
      "\n",
      "               1 | conditions_names  1 | importances  \\\n",
      "0  petal length (cm) = <2.35, 4.75)         0.985294   \n",
      "1  petal length (cm) = (-inf, 4.75)         0.361149   \n",
      "2   sepal width (cm) = (-inf, 2.95)         0.284840   \n",
      "3   sepal width (cm) = (-inf, 2.65)         0.255467   \n",
      "4   sepal width (cm) = (-inf, 2.45)         0.236823   \n",
      "5   petal length (cm) = (-inf, 4.7)         0.172443   \n",
      "6    sepal length (cm) = <4.7, inf)         0.098753   \n",
      "\n",
      "               0 | conditions_names 0 | importances  \n",
      "0  petal length (cm) = (-inf, 2.35)             1.0  \n",
      "1                                 -               -  \n",
      "2                                 -               -  \n",
      "3                                 -               -  \n",
      "4                                 -               -  \n",
      "5                                 -               -  \n",
      "6                                 -               -  \n"
     ]
    }
   ],
   "source": [
    "from sklearn.datasets import load_iris\n",
    "from sklearn.model_selection import train_test_split\n",
    "from sklearn.svm import SVC\n",
    "import pandas as pd\n",
    "\n",
    "from rulexai.explainer import Explainer\n",
    "\n",
    "\n",
    "# load iris dataset\n",
    "data_xai = load_iris()\n",
    "df_xai = pd.DataFrame(data_xai['data'], columns=data_xai['feature_names'])\n",
    "df_xai['class'] = data_xai['target']\n",
    "\n",
    "# train a SVM classifier\n",
    "X_train_xai,X_test_xai,y_train_xai,y_test_xai = train_test_split(df_xai.drop(columns=[\"class\"]), df_xai[\"class\"], test_size=0.2, random_state=0)\n",
    "svm = SVC(kernel='rbf', probability=True)\n",
    "svm.fit(X_train_xai, y_train_xai)\n",
    "predictions = svm.predict(X_train_xai)\n",
    "# prepare model predictions to be fed to RuleXAI, remember to change numerical predictions to labels (in this example it is simply converting predictions to a string)\n",
    "model_predictions = pd.DataFrame(predictions.astype(str), columns=[y_train_xai.name], index = y_train_xai.index)\n",
    "\n",
    "# use Explainer to explain model output\n",
    "explainer =  Explainer(X = X_train_xai,model_predictions = model_predictions, type = \"classification\")\n",
    "explainer.explain()\n",
    "\n",
    "print(explainer.condition_importances_)"
   ],
   "metadata": {
    "collapsed": false,
    "ExecuteTime": {
     "start_time": "2023-05-15T15:00:59.706756Z",
     "end_time": "2023-05-15T15:01:00.291095Z"
    }
   }
  },
  {
   "cell_type": "markdown",
   "source": [
    "## Regression model for loss"
   ],
   "metadata": {
    "collapsed": false
   }
  },
  {
   "cell_type": "code",
   "execution_count": 41,
   "outputs": [
    {
     "data": {
      "text/plain": "numpy.ndarray"
     },
     "execution_count": 41,
     "metadata": {},
     "output_type": "execute_result"
    }
   ],
   "source": [
    "# y_test\n",
    "len(losses_2)\n",
    "len(X_test)\n",
    "\n",
    "# type(losses_2)\n",
    "type(X_test)"
   ],
   "metadata": {
    "collapsed": false,
    "ExecuteTime": {
     "start_time": "2023-05-15T15:40:59.889819Z",
     "end_time": "2023-05-15T15:40:59.901294Z"
    }
   }
  },
  {
   "cell_type": "code",
   "execution_count": 42,
   "outputs": [
    {
     "data": {
      "text/plain": "array([ 1.15672517,  0.38419339,  0.50688767,  1.27770209,  0.57785547,\n        0.9167102 ,  0.13683927,  1.18894327,  0.51475787,  0.32793403,\n        3.22520447,  0.51451898,  0.9459374 ,  2.47175264,  3.10832667,\n        0.84303236,  1.6964823 ,  1.12696314,  2.05457497,  1.06736088,\n        0.40648055,  0.46551317,  0.25801343,  2.20090175,  1.73535478,\n        1.58793008,  0.4838956 ,  0.27064154,  0.30753484,  0.56738019,\n        0.33384913,  2.77648354,  1.5115732 ,  1.1705215 ,  0.08861378,\n        1.47027838,  0.16049454,  0.0613732 ,  0.3068071 ,  1.2851603 ,\n        0.66999441,  1.22122073,  1.31530988,  0.75046277,  0.77350026,\n        0.44307172,  0.1818624 ,  0.94863188,  2.522089  ,  0.94423318,\n        0.56846434,  0.02961075,  1.41934586,  0.75332284,  2.94390583,\n        0.63871539,  3.12999511,  1.35545838,  2.31115365,  1.25064468,\n        0.33321822,  0.87503546,  1.03099537,  1.033759  ,  0.62491238,\n        0.41366354,  1.4688611 ,  0.26065654,  0.63932508,  0.70222867,\n        0.32536095,  1.13228452,  0.1414829 ,  0.60674453,  1.4393214 ,\n        1.03275883,  2.37359357,  1.38629198,  0.91909897,  0.36088201,\n        0.65369189,  0.78022677,  1.28177857,  1.31444514,  0.28052917,\n        1.11631954,  1.78093815,  0.44292164,  1.33084536,  1.49837327,\n        0.56371605,  1.33983779,  1.36351919,  1.84499478,  0.43908638,\n        1.85827434,  0.34454998,  0.17300795,  0.81164539,  0.7487725 ,\n        2.1118052 ,  0.93206346,  0.59092826,  0.44661427,  1.08716762,\n        1.84140277,  0.74088192,  0.44313094,  0.2022437 ,  0.15397233,\n        0.42655662,  2.33204246,  0.47670805,  0.2090466 ,  0.2481003 ,\n        0.86716813,  2.48997927,  0.28407052,  0.47415099,  0.88778806,\n        0.30805948,  2.51340055,  0.98187393,  2.02434993,  1.27045095,\n        0.35899478,  0.60298359,  1.02438319,  2.17541933,  1.50268841,\n        0.67744458,  0.39088079,  1.57529151,  1.14231217,  0.73160863,\n        0.34206945,  0.9129163 ,  1.66017342,  0.51592743,  1.03673029,\n        0.40345663,  1.82139325,  0.15396202,  0.50555074,  1.82704258,\n        0.60904008,  1.52259624,  0.14386573,  0.57837009,  1.54092216,\n        0.30930853,  0.86764628,  0.81092435,  1.14201307,  1.49246943,\n        0.4787074 ,  1.36299729,  0.75898433,  0.46040767,  2.78820872,\n        1.6635952 ,  0.64502257,  0.02457999,  0.71170819,  0.53316706,\n        1.04671001,  1.67550886,  2.96817017,  1.47587299,  0.92830575,\n        0.46624094,  1.87132454,  1.39637792,  1.92117238,  0.6185748 ,\n        0.7872352 ,  1.57954466,  0.33504224,  0.77089983,  2.67619729,\n        0.77681446,  0.3471511 ,  2.09511828,  1.6858834 ,  0.98847747,\n        0.04716074,  0.83512402,  1.11723137,  0.28624496,  0.87918526,\n        1.05701458,  0.44987416,  1.45051265,  0.37345928,  2.41552925,\n        0.6485104 ,  1.32327604,  3.4295516 ,  1.149791  ,  0.25407067,\n        1.28163135,  1.06512856,  0.89680445,  2.56261182,  1.34257102,\n        1.09817708,  0.44488963,  0.79311794,  0.26085332,  1.06679475,\n        3.75125933,  1.98393822,  3.6948278 ,  0.03444298,  0.32236928,\n        1.64501512,  0.10647556,  0.84639627,  1.60483575,  0.68443561,\n        0.23398834,  1.03153586,  0.4701626 ,  0.24282521,  1.61487842,\n        0.70337921,  2.12951946,  0.9775539 ,  1.45864904,  1.2034235 ,\n        1.32869768,  1.00504851,  0.30886939,  0.30126137,  0.43185756,\n        0.85987759,  2.19752026,  1.7620182 ,  0.69144428,  0.56771398,\n        0.35866019,  0.48626849,  0.48716289,  2.93588209,  2.32528019,\n        0.18158035,  2.02813292,  0.4838537 ,  0.59654891,  4.4183054 ,\n        0.74239749,  0.9505924 ,  2.17837119,  0.60151243,  1.20485854,\n        0.7770108 ,  1.47952116,  0.51615876,  1.49111211,  0.16727404,\n        1.95869052,  0.96246028,  1.01392412,  1.87637293,  0.37858331,\n        0.56942445,  2.48321915,  1.06668055,  0.7944026 ,  0.82573956,\n        0.96890509,  0.26908091,  0.74550319,  0.31380004,  2.34552765,\n        1.44765365,  1.12545407,  1.47873569,  3.16363716,  0.83563459,\n        0.46913305,  0.77480161,  0.37107316,  3.59920025,  0.81351525,\n        0.75528681,  1.52908933,  0.89988101,  1.06970394,  1.11989355,\n        0.27810225,  3.02786922,  0.49894357,  1.56428659,  0.70214397,\n        0.13365135,  2.43968844,  0.40243849,  0.52367389,  0.44039631,\n        2.22220945,  0.41710317,  0.59850711,  0.38759658,  0.77069604,\n        2.32121301,  0.98537427,  0.44529605,  0.41467357,  0.88071978,\n        0.46218902,  0.62689638,  0.60140824,  0.68995404,  0.09119473,\n        1.4274534 ,  1.82486117,  1.47330403,  0.34328613,  1.26468349,\n        1.92379022,  0.87637258,  0.75616527,  0.3608343 ,  2.11672735,\n        1.5395124 ,  0.9561711 ,  0.81440657,  0.52285349,  0.37396413,\n        1.69037902,  0.89527422,  1.68233347,  0.77588272,  0.61065423,\n        0.95614988,  1.01939905,  0.38813019,  0.95227325,  0.23970339,\n        0.26915637,  0.34930676,  2.51578569,  2.20876575,  2.04792118,\n        1.82886314,  0.47637805,  0.20097688,  2.72317457,  0.53470165,\n        1.48393238,  0.28976566,  0.90952629,  0.92631543,  2.20514989,\n        0.72645181,  1.63038707,  0.26128802,  0.58293462,  0.42733902,\n        1.31851506,  0.96638924,  1.17660475,  0.14979066,  0.57893872,\n        0.38978511,  0.65280753,  0.97541744,  0.42293191,  0.93393618,\n        1.09322691,  1.227952  ,  1.2021246 ,  0.86740094,  0.98532856,\n        0.5367164 ,  3.17859268,  1.16367996,  0.47066706,  0.18604568,\n        0.36623362,  0.57095551,  1.03978348,  1.16573167,  0.48237813,\n        0.38725847,  1.517277  ,  0.65257323,  2.5319314 ,  0.35720539,\n        0.97042483,  2.32736015,  0.80760515,  1.04471731,  0.28551972,\n        1.01981378,  0.18287191,  0.66085243,  0.6226396 ,  1.64213157,\n        0.37943465,  0.21455406,  2.69148946,  0.59888828,  0.80964029,\n        0.15300177,  2.76374483,  1.4091562 ,  1.90481746,  0.50469327,\n        0.07074219,  0.38319662,  0.82037693,  0.64059234,  0.81112635,\n        0.7189064 ,  1.87470579,  0.32035166,  1.14223886,  1.15681767,\n        1.83780932,  1.24224544,  0.29530284,  1.19536448,  1.69162488,\n        1.51779652,  0.83631432,  0.36060786,  1.14304161,  2.28496265,\n        0.75568545,  1.32062197,  0.39625308,  1.93899238,  1.83853662,\n        1.13371789,  0.60628188,  0.71984357,  1.90644813,  1.39983439,\n        0.76346862,  1.05185342,  1.4987669 ,  0.55225819,  0.59085017,\n        1.01381624,  1.22595108,  0.29808781,  0.70960402,  0.42017168,\n        1.2287606 ,  1.80024481,  1.2666775 ,  1.85059655,  0.12745376,\n        0.85632861,  0.2999216 ,  0.79235911,  0.29783195,  1.80254006,\n        1.9637872 ,  0.30873662,  0.51529592,  0.37438926,  0.40787807,\n        2.1297574 ,  0.97031873,  0.33122116,  0.22329475,  0.62143624,\n        1.01612926,  1.86562669,  3.88176513,  0.7852785 ,  0.43371353,\n        0.04289877,  0.54136646,  0.506037  ,  0.41235992,  0.44568264,\n        1.15529144,  1.31246662,  0.69509292,  0.99694645,  1.51142001,\n        1.19813025,  1.00302517,  1.01630974,  0.49241626,  0.8399967 ,\n        0.80074739,  0.56051815,  2.83666182,  0.14536934,  1.97314703,\n        0.47258297,  1.98059285,  1.59133792,  0.78104794,  0.30818149,\n        2.786731  ,  1.8696208 ,  1.00810051,  1.214885  ,  2.83634353,\n        5.8116498 ,  3.76164818,  1.3300668 ,  4.26489925,  1.79053545,\n        1.83099568,  3.65299058,  1.11644077,  4.63072205,  3.43245363,\n        0.28922266,  4.2198801 ,  1.84996855,  2.99439716,  2.45952177,\n        4.26831818,  2.19601464,  2.80771494,  2.87400246,  2.58491611,\n        7.55433798,  2.12906599,  1.14571178,  2.15252161,  3.72751284,\n        2.92417407,  2.79874659,  6.71015453,  3.00939465,  9.39158058,\n        2.71068907,  1.18245029,  4.02232742,  0.73789465,  2.05164814,\n        5.60402012,  1.6225338 ,  1.97734547,  3.89542699,  3.76106453,\n        1.83321166,  5.36644411,  0.4560498 ,  2.46069407,  1.36691332,\n        3.28801966,  4.7684741 ,  6.08513498,  1.07525396,  2.50778174,\n        3.09807134,  4.23590851,  5.00704432,  6.0894351 ,  1.8224833 ,\n        2.65150738,  5.29884291,  3.19386387,  1.03353024,  4.79158831,\n        1.48962879,  5.45683861,  1.66602969,  4.4441247 ,  2.28122687,\n        1.99163306,  2.89777637,  3.97428703,  3.25561261,  1.73584282,\n        1.08237302,  2.26402569,  2.74476385,  3.87118268,  3.70610952,\n        2.62336802,  2.19042563,  1.34272575,  2.2287662 ,  5.33583784,\n        2.79581738,  2.97838998,  1.29666221,  5.60742569,  3.70497942,\n        4.06120062,  1.82163632,  4.82202435,  5.51412725,  5.148036  ,\n        0.9550634 ,  4.19804621,  7.00412893,  1.33218551,  4.52811098,\n        5.60229254,  2.1615653 ,  1.38922954,  3.28793454,  7.68440914,\n        1.0733676 ,  1.42470241,  0.80859721,  1.57318652,  2.39749479,\n        2.18553448,  2.22809768,  2.66071749,  1.12323093,  4.4848156 ,\n        1.57829165,  4.05044413,  1.2648623 ,  3.98239708,  0.66119164,\n       10.1103096 ,  4.3718729 ,  3.63394499,  1.0539521 ,  5.45659161,\n        2.04183722,  0.3468222 ,  1.36251318,  2.39524388,  4.39402676,\n        4.15914297,  3.62428832,  1.19193769,  0.81874728,  4.70200443,\n        1.31616652,  2.12148666,  1.5330317 ,  1.65638793,  0.88155192,\n        3.39376593,  2.38154817,  3.72365379,  1.56363499,  5.63619804,\n        2.90819883,  1.23126543,  4.36230946,  3.83667564,  1.76490903,\n        2.97452426,  9.90710735,  2.17642069,  0.43416947,  3.29441404,\n        2.63813782,  2.59644985,  2.00786257,  3.40495396,  1.5264101 ,\n        5.13037205,  3.57484841,  5.08197212,  1.2044003 ,  5.48783016,\n        7.55266905,  1.7370646 ,  1.83219588,  4.30015612,  3.17544651,\n        0.32188118,  2.82377386,  2.39345932,  1.59673631,  3.09442401,\n        2.81314659,  3.35734534,  1.51388097,  5.21486187,  3.54294038,\n        4.83755922,  6.3982687 ,  1.12082219,  2.92919278,  3.7742753 ,\n        4.95689535,  6.24423504,  4.3852191 ,  0.89383996,  2.83165216,\n        5.97754765,  3.95823288,  4.01395178,  1.83573091,  1.80232811,\n        1.17591214,  4.41540813,  2.44173288,  3.1282742 ,  3.32350135,\n        0.89551872,  1.49717832,  3.17907333,  3.61059141,  4.53192234,\n        2.86331725,  1.51037645,  3.97392893,  2.1251452 ,  2.32252073,\n        6.91157579,  3.09911203,  1.88792384,  4.00376463,  3.56649971,\n        4.07808018,  0.78501844,  2.94361019,  0.37630531,  1.79646468,\n        2.43752265,  3.10726976,  2.31452966,  0.74239159,  2.38607264,\n        2.50483537,  1.56974733,  2.3555572 ,  3.02189088,  4.94512463,\n        3.85827732,  2.73755288,  1.5605433 ,  1.61511433,  4.36880302,\n        2.04794765,  5.23348284,  2.98802257,  2.03421426,  1.35728014,\n        1.52193367,  3.45426583,  0.51272523, 10.74046326,  2.57437563,\n        8.60638809,  2.46292424,  7.39243746,  8.01172829,  6.2686286 ,\n        2.92160034,  2.93862939,  3.97725701,  4.03586102,  2.1774354 ,\n        2.26516652,  2.06277132,  6.66518259,  3.53139949,  3.01789713,\n        3.54620504,  2.73671865,  5.20405149,  3.95226574,  3.45000982,\n        2.94279981,  2.36130929,  2.70032835,  2.9460969 ,  1.82348549,\n        8.25627995,  4.74227476,  3.76017356,  0.66263044,  3.0737946 ,\n        3.7113359 ,  5.47120047,  2.84012175,  1.21065056,  4.52398014,\n        5.00513268,  4.95635557,  2.77554417,  3.28737831,  3.11222863,\n        6.21986771,  1.50061047,  2.47122884,  3.95793962,  7.80056953,\n        1.78801239,  1.27900827,  3.07800913,  6.67274714,  5.75710773,\n        5.30243349,  3.22139549,  1.39111292,  4.39553022,  1.22727907,\n        3.57969832,  2.11864591,  1.32775593,  2.14425111,  3.70896053,\n       10.18126583,  2.71664739,  3.29524088,  1.02435648,  3.67261744,\n        5.14612293,  1.52954566,  3.4420464 ,  4.56897163,  1.84211445,\n        2.64762163,  3.50872993,  3.72916794,  1.91960001,  1.28195667,\n        4.50602818,  2.65164447,  1.50762439,  3.11706734,  2.5975337 ,\n        2.73919868,  1.87738657,  5.26077843,  2.93938255,  0.80387026,\n        3.57165742,  1.80482519,  2.20652175,  2.8008523 ,  4.49785423,\n        3.16711092,  2.05614519,  2.98928928,  4.30452538,  2.73646045,\n        3.50110745,  1.31612027,  0.75520164,  1.97437525,  2.75574517,\n        2.39859247,  2.58881402,  3.80739975,  4.18712187,  0.64155132,\n        3.17046571,  3.21774721,  4.34082699,  0.66432643,  2.63581109,\n        3.35093355,  1.52951944,  6.91991901,  6.54313135,  3.40637231,\n        2.54232764,  2.52005005,  0.36691201,  2.70278072,  3.33654928,\n        8.45597553,  7.46049118,  1.80683708,  0.31132102,  2.07563496,\n        2.30564594,  1.11257207,  4.35341024,  1.88741136,  1.73837328,\n        3.81977391,  2.59670019,  3.21748352,  4.85238171,  2.00703025,\n        4.25603676,  3.38200855,  2.37822819,  2.78169155,  3.97420835,\n        5.21335125,  4.50218344,  2.6863811 ,  3.40147781,  4.85849333,\n        1.83719742,  1.19801021,  3.68208313,  5.39609146,  1.27986383,\n        2.59169936,  1.89784694,  1.77603912,  1.70322704,  4.51082134,\n        0.95424676,  3.43132305,  2.93914223,  4.21337986,  4.40668488,\n        2.45103312,  0.26578319,  5.39169121,  2.14919448,  5.57300091,\n        4.0505929 ,  0.85371828,  4.33464813,  1.39330053,  1.60939085,\n        3.74235153,  1.98811722,  4.00818491,  2.32437706,  2.48527217,\n        4.93570566,  2.87886119,  4.39488983,  3.67629695,  1.87736118,\n        2.43335247,  5.04054213,  4.3582263 ,  2.54588771,  2.48679519,\n        3.48650646,  5.27805328,  1.73044622,  4.77878046,  2.68015122,\n        0.90036219,  5.10577393,  8.45829964,  2.64450669,  2.36129761,\n        1.78570926,  5.25060892,  2.95146108,  2.04130244,  6.8282814 ,\n        2.45987582,  1.55686402,  4.13572788,  0.42391762,  5.41508818,\n        4.43665218,  2.53153396,  4.05150414,  0.7354902 ,  2.03610516,\n        7.21749687,  3.87817001,  2.96047091,  6.08966255,  2.9509697 ,\n        1.55925775,  1.97255635,  2.77443409,  2.64361095,  3.29010844,\n        2.50188065,  4.72132635,  0.38314351,  2.21321201,  1.80046844,\n        4.22647715,  3.5718832 ,  5.02079582,  3.62764978,  1.48611164,\n        3.27348042,  7.53277731,  3.48034382,  5.00922966,  0.32705355,\n        2.6513865 ,  3.96203923,  4.48644066,  3.37188864,  3.1716733 ,\n        2.56627274,  3.31809616,  1.66033232,  1.96347451,  4.27969837,\n        3.86862516,  2.39047098,  3.61830568,  2.16090775,  4.03634739,\n        1.79929912,  5.73507261,  5.30605507,  1.62564123,  2.44583011])"
     },
     "execution_count": 42,
     "metadata": {},
     "output_type": "execute_result"
    }
   ],
   "source": [
    "np.array(losses_2)"
   ],
   "metadata": {
    "collapsed": false,
    "ExecuteTime": {
     "start_time": "2023-05-15T15:41:01.658199Z",
     "end_time": "2023-05-15T15:41:01.753410Z"
    }
   }
  },
  {
   "cell_type": "code",
   "execution_count": 46,
   "outputs": [],
   "source": [
    "! unset DISPLAY"
   ],
   "metadata": {
    "collapsed": false,
    "ExecuteTime": {
     "start_time": "2023-05-15T15:42:38.175020Z",
     "end_time": "2023-05-15T15:42:38.357049Z"
    }
   }
  },
  {
   "cell_type": "code",
   "execution_count": 49,
   "outputs": [
    {
     "ename": "java.lang.NoClassDefFoundError",
     "evalue": "java.lang.NoClassDefFoundError: Could not initialize class com.rapidminer.operator.OperatorDescription",
     "output_type": "error",
     "traceback": [
      "\u001B[0;31m---------------------------------------------------------------------------\u001B[0m",
      "\u001B[0;31mException\u001B[0m                                 Traceback (most recent call last)",
      "\u001B[0;32m~/anaconda3/lib/python3.9/site-packages/_jpype.cpython-39-x86_64-linux-gnu.so\u001B[0m in \u001B[0;36morg.jpype.manager.TypeManager.findClassByName\u001B[0;34m()\u001B[0m\n",
      "\u001B[0;31mException\u001B[0m: Java Exception",
      "\nThe above exception was the direct cause of the following exception:\n",
      "\u001B[0;31mjava.lang.NoClassDefFoundError\u001B[0m            Traceback (most recent call last)",
      "\u001B[0;32m/tmp/ipykernel_2425277/2825016584.py\u001B[0m in \u001B[0;36m<module>\u001B[0;34m\u001B[0m\n\u001B[1;32m      7\u001B[0m \u001B[0mRuleKit\u001B[0m\u001B[0;34m.\u001B[0m\u001B[0minit\u001B[0m\u001B[0;34m(\u001B[0m\u001B[0;34m)\u001B[0m\u001B[0;34m\u001B[0m\u001B[0;34m\u001B[0m\u001B[0m\n\u001B[1;32m      8\u001B[0m \u001B[0;34m\u001B[0m\u001B[0m\n\u001B[0;32m----> 9\u001B[0;31m reg = RuleRegressor(\n\u001B[0m\u001B[1;32m     10\u001B[0m     \u001B[0minduction_measure\u001B[0m\u001B[0;34m=\u001B[0m\u001B[0mMeasures\u001B[0m\u001B[0;34m.\u001B[0m\u001B[0mC2\u001B[0m\u001B[0;34m,\u001B[0m\u001B[0;34m\u001B[0m\u001B[0;34m\u001B[0m\u001B[0m\n\u001B[1;32m     11\u001B[0m     \u001B[0mpruning_measure\u001B[0m\u001B[0;34m=\u001B[0m\u001B[0mMeasures\u001B[0m\u001B[0;34m.\u001B[0m\u001B[0mC2\u001B[0m\u001B[0;34m,\u001B[0m\u001B[0;34m\u001B[0m\u001B[0;34m\u001B[0m\u001B[0m\n",
      "\u001B[0;32m~/.local/share/virtualenvs/notebooks-QRzocjuE/lib/python3.8/site-packages/rulekit/regression.py\u001B[0m in \u001B[0;36m__init__\u001B[0;34m(self, min_rule_covered, induction_measure, pruning_measure, voting_measure, max_growing, enable_pruning, ignore_missing, max_uncovered_fraction, select_best_candidate)\u001B[0m\n\u001B[1;32m     49\u001B[0m             \u001B[0mFlag\u001B[0m \u001B[0mdetermining\u001B[0m \u001B[0;32mif\u001B[0m \u001B[0mbest\u001B[0m \u001B[0mcandidate\u001B[0m \u001B[0mshould\u001B[0m \u001B[0mbe\u001B[0m \u001B[0mselected\u001B[0m \u001B[0;32mfrom\u001B[0m \u001B[0mgrowing\u001B[0m \u001B[0mphase\u001B[0m\u001B[0;34m;\u001B[0m \u001B[0mdefault\u001B[0m\u001B[0;34m:\u001B[0m \u001B[0;32mFalse\u001B[0m\u001B[0;34m.\u001B[0m\u001B[0;34m\u001B[0m\u001B[0;34m\u001B[0m\u001B[0m\n\u001B[1;32m     50\u001B[0m         \"\"\"\n\u001B[0;32m---> 51\u001B[0;31m         super().__init__(\n\u001B[0m\u001B[1;32m     52\u001B[0m             \u001B[0mmin_rule_covered\u001B[0m\u001B[0;34m=\u001B[0m\u001B[0mmin_rule_covered\u001B[0m\u001B[0;34m,\u001B[0m\u001B[0;34m\u001B[0m\u001B[0;34m\u001B[0m\u001B[0m\n\u001B[1;32m     53\u001B[0m             \u001B[0minduction_measure\u001B[0m\u001B[0;34m=\u001B[0m\u001B[0minduction_measure\u001B[0m\u001B[0;34m,\u001B[0m\u001B[0;34m\u001B[0m\u001B[0;34m\u001B[0m\u001B[0m\n",
      "\u001B[0;32m~/.local/share/virtualenvs/notebooks-QRzocjuE/lib/python3.8/site-packages/rulekit/operator.py\u001B[0m in \u001B[0;36m__init__\u001B[0;34m(self, min_rule_covered, induction_measure, pruning_measure, voting_measure, max_growing, enable_pruning, ignore_missing, max_uncovered_fraction, select_best_candidate)\u001B[0m\n\u001B[1;32m     48\u001B[0m         \u001B[0mself\u001B[0m\u001B[0;34m.\u001B[0m\u001B[0m_params\u001B[0m \u001B[0;34m=\u001B[0m \u001B[0;32mNone\u001B[0m\u001B[0;34m\u001B[0m\u001B[0;34m\u001B[0m\u001B[0m\n\u001B[1;32m     49\u001B[0m         \u001B[0mself\u001B[0m\u001B[0;34m.\u001B[0m\u001B[0m_rule_generator\u001B[0m \u001B[0;34m=\u001B[0m \u001B[0;32mNone\u001B[0m\u001B[0;34m\u001B[0m\u001B[0;34m\u001B[0m\u001B[0m\n\u001B[0;32m---> 50\u001B[0;31m         self.set_params(\n\u001B[0m\u001B[1;32m     51\u001B[0m             \u001B[0mmin_rule_covered\u001B[0m\u001B[0;34m=\u001B[0m\u001B[0mmin_rule_covered\u001B[0m\u001B[0;34m,\u001B[0m\u001B[0;34m\u001B[0m\u001B[0;34m\u001B[0m\u001B[0m\n\u001B[1;32m     52\u001B[0m             \u001B[0minduction_measure\u001B[0m\u001B[0;34m=\u001B[0m\u001B[0minduction_measure\u001B[0m\u001B[0;34m,\u001B[0m\u001B[0;34m\u001B[0m\u001B[0;34m\u001B[0m\u001B[0m\n",
      "\u001B[0;32m~/.local/share/virtualenvs/notebooks-QRzocjuE/lib/python3.8/site-packages/rulekit/operator.py\u001B[0m in \u001B[0;36mset_params\u001B[0;34m(self, min_rule_covered, induction_measure, pruning_measure, voting_measure, max_growing, enable_pruning, ignore_missing, max_uncovered_fraction, select_best_candidate)\u001B[0m\n\u001B[1;32m     99\u001B[0m                    select_best_candidate: bool = DEFAULT_PARAMS_VALUE['select_best_candidate']) -> object:\n\u001B[1;32m    100\u001B[0m         \u001B[0;34m\"\"\"Set models hyperparameters. Parameters are the same as in constructor.\"\"\"\u001B[0m\u001B[0;34m\u001B[0m\u001B[0;34m\u001B[0m\u001B[0m\n\u001B[0;32m--> 101\u001B[0;31m         \u001B[0mself\u001B[0m\u001B[0;34m.\u001B[0m\u001B[0m_rule_generator\u001B[0m \u001B[0;34m=\u001B[0m \u001B[0mget_rule_generator\u001B[0m\u001B[0;34m(\u001B[0m\u001B[0;34m)\u001B[0m\u001B[0;34m\u001B[0m\u001B[0;34m\u001B[0m\u001B[0m\n\u001B[0m\u001B[1;32m    102\u001B[0m         self._params = dict(\n\u001B[1;32m    103\u001B[0m             \u001B[0mmin_rule_covered\u001B[0m\u001B[0;34m=\u001B[0m\u001B[0mmin_rule_covered\u001B[0m\u001B[0;34m,\u001B[0m\u001B[0;34m\u001B[0m\u001B[0;34m\u001B[0m\u001B[0m\n",
      "\u001B[0;32m~/.local/share/virtualenvs/notebooks-QRzocjuE/lib/python3.8/site-packages/rulekit/helpers.py\u001B[0m in \u001B[0;36mget_rule_generator\u001B[0;34m(expert)\u001B[0m\n\u001B[1;32m     12\u001B[0m     OperatorDocumentation = JClass(\n\u001B[1;32m     13\u001B[0m         'com.rapidminer.tools.documentation.OperatorDocumentation')\n\u001B[0;32m---> 14\u001B[0;31m     \u001B[0mOperatorDescription\u001B[0m \u001B[0;34m=\u001B[0m \u001B[0mJClass\u001B[0m\u001B[0;34m(\u001B[0m\u001B[0;34m'com.rapidminer.operator.OperatorDescription'\u001B[0m\u001B[0;34m)\u001B[0m\u001B[0;34m\u001B[0m\u001B[0;34m\u001B[0m\u001B[0m\n\u001B[0m\u001B[1;32m     15\u001B[0m     \u001B[0mMockito\u001B[0m \u001B[0;34m=\u001B[0m \u001B[0mJClass\u001B[0m\u001B[0;34m(\u001B[0m\u001B[0;34m'org.mockito.Mockito'\u001B[0m\u001B[0;34m)\u001B[0m\u001B[0;34m\u001B[0m\u001B[0;34m\u001B[0m\u001B[0m\n\u001B[1;32m     16\u001B[0m     \u001B[0mpath\u001B[0m \u001B[0;34m=\u001B[0m \u001B[0;34m'adaa.analytics.rules.operator.'\u001B[0m\u001B[0;34m\u001B[0m\u001B[0;34m\u001B[0m\u001B[0m\n",
      "\u001B[0;32m~/anaconda3/lib/python3.9/site-packages/jpype/_jclass.py\u001B[0m in \u001B[0;36m__new__\u001B[0;34m(cls, jc, loader, initialize)\u001B[0m\n\u001B[1;32m     97\u001B[0m \u001B[0;34m\u001B[0m\u001B[0m\n\u001B[1;32m     98\u001B[0m         \u001B[0;31m# Pass to class factory to create the type\u001B[0m\u001B[0;34m\u001B[0m\u001B[0;34m\u001B[0m\u001B[0m\n\u001B[0;32m---> 99\u001B[0;31m         \u001B[0;32mreturn\u001B[0m \u001B[0m_jpype\u001B[0m\u001B[0;34m.\u001B[0m\u001B[0m_getClass\u001B[0m\u001B[0;34m(\u001B[0m\u001B[0mjc\u001B[0m\u001B[0;34m)\u001B[0m\u001B[0;34m\u001B[0m\u001B[0;34m\u001B[0m\u001B[0m\n\u001B[0m\u001B[1;32m    100\u001B[0m \u001B[0;34m\u001B[0m\u001B[0m\n\u001B[1;32m    101\u001B[0m \u001B[0;34m\u001B[0m\u001B[0m\n",
      "\u001B[0;31mjava.lang.NoClassDefFoundError\u001B[0m: java.lang.NoClassDefFoundError: Could not initialize class com.rapidminer.operator.OperatorDescription"
     ]
    }
   ],
   "source": [
    "from rulekit import RuleKit\n",
    "from rulekit.regression import RuleRegressor\n",
    "from rulekit.params import Measures\n",
    "\n",
    "from rulexai.explainer import RuleExplainer\n",
    "\n",
    "RuleKit.init()\n",
    "\n",
    "reg = RuleRegressor(\n",
    "    induction_measure=Measures.C2,\n",
    "    pruning_measure=Measures.C2,\n",
    "    voting_measure=Measures.C2,\n",
    ")\n",
    "\n",
    "losses_2_arr = np.array(losses_2)\n",
    "# X_test_df = pd.DataFrame(X_test)\n",
    "\n",
    "reg.fit(X_test, losses_2_arr)"
   ],
   "metadata": {
    "collapsed": false,
    "ExecuteTime": {
     "start_time": "2023-05-15T14:53:24.045357Z",
     "end_time": "2023-05-15T14:53:24.481854Z"
    }
   }
  },
  {
   "cell_type": "code",
   "execution_count": 44,
   "outputs": [
    {
     "ename": "NameError",
     "evalue": "name 'reg' is not defined",
     "output_type": "error",
     "traceback": [
      "\u001B[0;31m---------------------------------------------------------------------------\u001B[0m",
      "\u001B[0;31mNameError\u001B[0m                                 Traceback (most recent call last)",
      "\u001B[0;32m/tmp/ipykernel_2425277/4239744496.py\u001B[0m in \u001B[0;36m<module>\u001B[0;34m\u001B[0m\n\u001B[0;32m----> 1\u001B[0;31m \u001B[0;32mfor\u001B[0m \u001B[0mrule\u001B[0m \u001B[0;32min\u001B[0m \u001B[0mreg\u001B[0m\u001B[0;34m.\u001B[0m\u001B[0mmodel\u001B[0m\u001B[0;34m.\u001B[0m\u001B[0mrules\u001B[0m\u001B[0;34m:\u001B[0m\u001B[0;34m\u001B[0m\u001B[0;34m\u001B[0m\u001B[0m\n\u001B[0m\u001B[1;32m      2\u001B[0m     \u001B[0mprint\u001B[0m\u001B[0;34m(\u001B[0m\u001B[0mrule\u001B[0m\u001B[0;34m,\u001B[0m \u001B[0mrule\u001B[0m\u001B[0;34m.\u001B[0m\u001B[0mstats\u001B[0m\u001B[0;34m)\u001B[0m\u001B[0;34m\u001B[0m\u001B[0;34m\u001B[0m\u001B[0m\n",
      "\u001B[0;31mNameError\u001B[0m: name 'reg' is not defined"
     ]
    }
   ],
   "source": [
    "for rule in reg.model.rules:\n",
    "    print(rule, rule.stats)"
   ],
   "metadata": {
    "collapsed": false
   }
  },
  {
   "cell_type": "code",
   "execution_count": null,
   "outputs": [],
   "source": [],
   "metadata": {
    "collapsed": false
   }
  },
  {
   "cell_type": "code",
   "execution_count": null,
   "outputs": [],
   "source": [],
   "metadata": {
    "collapsed": false
   }
  }
 ],
 "metadata": {
  "kernelspec": {
   "display_name": "Python 3",
   "language": "python",
   "name": "python3"
  },
  "language_info": {
   "codemirror_mode": {
    "name": "ipython",
    "version": 2
   },
   "file_extension": ".py",
   "mimetype": "text/x-python",
   "name": "python",
   "nbconvert_exporter": "python",
   "pygments_lexer": "ipython2",
   "version": "2.7.6"
  }
 },
 "nbformat": 4,
 "nbformat_minor": 0
}
